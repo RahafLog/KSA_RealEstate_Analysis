{
 "cells": [
  {
   "cell_type": "markdown",
   "id": "b19b1be7",
   "metadata": {
    "id": "b19b1be7",
    "tags": []
   },
   "source": [
    "# **Analysis of real estate data in Saudi Arabia during the year 2022-2023:**\n"
   ]
  },
  {
   "cell_type": "markdown",
   "id": "8c512361",
   "metadata": {
    "id": "8c512361",
    "tags": []
   },
   "source": [
    "****\n",
    "## **First: Data**"
   ]
  },
  {
   "cell_type": "code",
   "execution_count": 2,
   "id": "96f299d8",
   "metadata": {
    "id": "96f299d8"
   },
   "outputs": [],
   "source": [
    "import numpy as np\n",
    "import pandas as pd\n",
    "import matplotlib.pyplot as plt\n",
    "import seaborn as sns\n",
    "import cufflinks as cf"
   ]
  },
  {
   "cell_type": "code",
   "execution_count": 55,
   "id": "2b78eb8e",
   "metadata": {
    "colab": {
     "base_uri": "https://localhost:8080/",
     "height": 423
    },
    "id": "2b78eb8e",
    "outputId": "bb0d4f78-ec64-438d-ad90-a00b3643a6fb"
   },
   "outputs": [
    {
     "data": {
      "text/html": [
       "\n",
       "  <div id=\"df-8510a8a7-49a9-47b5-a09d-d53f7a518b8d\" class=\"colab-df-container\">\n",
       "    <div>\n",
       "<style scoped>\n",
       "    .dataframe tbody tr th:only-of-type {\n",
       "        vertical-align: middle;\n",
       "    }\n",
       "\n",
       "    .dataframe tbody tr th {\n",
       "        vertical-align: top;\n",
       "    }\n",
       "\n",
       "    .dataframe thead th {\n",
       "        text-align: right;\n",
       "    }\n",
       "</style>\n",
       "<table border=\"1\" class=\"dataframe\">\n",
       "  <thead>\n",
       "    <tr style=\"text-align: right;\">\n",
       "      <th></th>\n",
       "      <th>Region</th>\n",
       "      <th>City</th>\n",
       "      <th>City/Neighborhood</th>\n",
       "      <th>Reference_Number</th>\n",
       "      <th>Date</th>\n",
       "      <th>Property_classification</th>\n",
       "      <th>Property_type</th>\n",
       "      <th>Number_of_properties</th>\n",
       "      <th>Price</th>\n",
       "      <th>Space</th>\n",
       "      <th>Price_per_square-meter</th>\n",
       "    </tr>\n",
       "  </thead>\n",
       "  <tbody>\n",
       "    <tr>\n",
       "      <th>0</th>\n",
       "      <td>منطقة الرياض</td>\n",
       "      <td>الرياض</td>\n",
       "      <td>الرياض/السويدى</td>\n",
       "      <td>19683341</td>\n",
       "      <td>2023-04-01</td>\n",
       "      <td>تجاري</td>\n",
       "      <td>قطعة أرض</td>\n",
       "      <td>2</td>\n",
       "      <td>2500000.0</td>\n",
       "      <td>1000.00</td>\n",
       "      <td>2500.000000</td>\n",
       "    </tr>\n",
       "    <tr>\n",
       "      <th>1</th>\n",
       "      <td>منطقة الرياض</td>\n",
       "      <td>الرياض</td>\n",
       "      <td>الرياض/المهدية</td>\n",
       "      <td>19682474</td>\n",
       "      <td>2023-04-01</td>\n",
       "      <td>سكني</td>\n",
       "      <td>قطعة أرض</td>\n",
       "      <td>1</td>\n",
       "      <td>1400000.0</td>\n",
       "      <td>270.00</td>\n",
       "      <td>5185.185185</td>\n",
       "    </tr>\n",
       "    <tr>\n",
       "      <th>2</th>\n",
       "      <td>منطقة مكة المكرمه</td>\n",
       "      <td>الطائف</td>\n",
       "      <td>الطائف/ الحلقة</td>\n",
       "      <td>19683061</td>\n",
       "      <td>2023-04-01</td>\n",
       "      <td>سكني</td>\n",
       "      <td>قطعة أرض</td>\n",
       "      <td>1</td>\n",
       "      <td>1200000.0</td>\n",
       "      <td>1096.12</td>\n",
       "      <td>1094.770646</td>\n",
       "    </tr>\n",
       "    <tr>\n",
       "      <th>3</th>\n",
       "      <td>منطقة الرياض</td>\n",
       "      <td>الرياض</td>\n",
       "      <td>الرياض/الزهرة</td>\n",
       "      <td>19683218</td>\n",
       "      <td>2023-04-01</td>\n",
       "      <td>تجاري</td>\n",
       "      <td>قطعة أرض</td>\n",
       "      <td>1</td>\n",
       "      <td>1000000.0</td>\n",
       "      <td>625.00</td>\n",
       "      <td>1600.000000</td>\n",
       "    </tr>\n",
       "    <tr>\n",
       "      <th>4</th>\n",
       "      <td>منطقة الشرقية</td>\n",
       "      <td>قرية العليا</td>\n",
       "      <td>قرية العليا/أخرى</td>\n",
       "      <td>19620608</td>\n",
       "      <td>2023-04-01</td>\n",
       "      <td>سكني</td>\n",
       "      <td>قطعة أرض</td>\n",
       "      <td>1</td>\n",
       "      <td>20000.0</td>\n",
       "      <td>920.00</td>\n",
       "      <td>21.739130</td>\n",
       "    </tr>\n",
       "    <tr>\n",
       "      <th>...</th>\n",
       "      <td>...</td>\n",
       "      <td>...</td>\n",
       "      <td>...</td>\n",
       "      <td>...</td>\n",
       "      <td>...</td>\n",
       "      <td>...</td>\n",
       "      <td>...</td>\n",
       "      <td>...</td>\n",
       "      <td>...</td>\n",
       "      <td>...</td>\n",
       "      <td>...</td>\n",
       "    </tr>\n",
       "    <tr>\n",
       "      <th>38806</th>\n",
       "      <td>منطقة القصيم</td>\n",
       "      <td>بريده</td>\n",
       "      <td>بريده/ الشقة</td>\n",
       "      <td>20288989</td>\n",
       "      <td>2023-06-30</td>\n",
       "      <td>سكني</td>\n",
       "      <td>قطعة أرض</td>\n",
       "      <td>1</td>\n",
       "      <td>102794.4</td>\n",
       "      <td>285.54</td>\n",
       "      <td>360.000000</td>\n",
       "    </tr>\n",
       "    <tr>\n",
       "      <th>38807</th>\n",
       "      <td>منطقة القصيم</td>\n",
       "      <td>بريده</td>\n",
       "      <td>بريده/ الشقة</td>\n",
       "      <td>20288991</td>\n",
       "      <td>2023-06-30</td>\n",
       "      <td>تجاري</td>\n",
       "      <td>قطعة أرض</td>\n",
       "      <td>1</td>\n",
       "      <td>136800.0</td>\n",
       "      <td>360.00</td>\n",
       "      <td>380.000000</td>\n",
       "    </tr>\n",
       "    <tr>\n",
       "      <th>38808</th>\n",
       "      <td>منطقة القصيم</td>\n",
       "      <td>بريده</td>\n",
       "      <td>بريده/ الشقة</td>\n",
       "      <td>20288984</td>\n",
       "      <td>2023-06-30</td>\n",
       "      <td>تجاري</td>\n",
       "      <td>قطعة أرض</td>\n",
       "      <td>1</td>\n",
       "      <td>109537.2</td>\n",
       "      <td>304.27</td>\n",
       "      <td>360.000000</td>\n",
       "    </tr>\n",
       "    <tr>\n",
       "      <th>38809</th>\n",
       "      <td>منطقة القصيم</td>\n",
       "      <td>بريده</td>\n",
       "      <td>بريده/ الشقة</td>\n",
       "      <td>20288910</td>\n",
       "      <td>2023-06-30</td>\n",
       "      <td>تجاري</td>\n",
       "      <td>قطعة أرض</td>\n",
       "      <td>1</td>\n",
       "      <td>119880.0</td>\n",
       "      <td>324.00</td>\n",
       "      <td>370.000000</td>\n",
       "    </tr>\n",
       "    <tr>\n",
       "      <th>38810</th>\n",
       "      <td>منطقة القصيم</td>\n",
       "      <td>بريده</td>\n",
       "      <td>بريده/ الشقة</td>\n",
       "      <td>20288893</td>\n",
       "      <td>2023-06-30</td>\n",
       "      <td>سكني</td>\n",
       "      <td>قطعة أرض</td>\n",
       "      <td>1</td>\n",
       "      <td>113400.0</td>\n",
       "      <td>300.00</td>\n",
       "      <td>378.000000</td>\n",
       "    </tr>\n",
       "  </tbody>\n",
       "</table>\n",
       "<p>38811 rows × 11 columns</p>\n",
       "</div>\n",
       "    <div class=\"colab-df-buttons\">\n",
       "\n",
       "  <div class=\"colab-df-container\">\n",
       "    <button class=\"colab-df-convert\" onclick=\"convertToInteractive('df-8510a8a7-49a9-47b5-a09d-d53f7a518b8d')\"\n",
       "            title=\"Convert this dataframe to an interactive table.\"\n",
       "            style=\"display:none;\">\n",
       "\n",
       "  <svg xmlns=\"http://www.w3.org/2000/svg\" height=\"24px\" viewBox=\"0 -960 960 960\">\n",
       "    <path d=\"M120-120v-720h720v720H120Zm60-500h600v-160H180v160Zm220 220h160v-160H400v160Zm0 220h160v-160H400v160ZM180-400h160v-160H180v160Zm440 0h160v-160H620v160ZM180-180h160v-160H180v160Zm440 0h160v-160H620v160Z\"/>\n",
       "  </svg>\n",
       "    </button>\n",
       "\n",
       "  <style>\n",
       "    .colab-df-container {\n",
       "      display:flex;\n",
       "      gap: 12px;\n",
       "    }\n",
       "\n",
       "    .colab-df-convert {\n",
       "      background-color: #E8F0FE;\n",
       "      border: none;\n",
       "      border-radius: 50%;\n",
       "      cursor: pointer;\n",
       "      display: none;\n",
       "      fill: #1967D2;\n",
       "      height: 32px;\n",
       "      padding: 0 0 0 0;\n",
       "      width: 32px;\n",
       "    }\n",
       "\n",
       "    .colab-df-convert:hover {\n",
       "      background-color: #E2EBFA;\n",
       "      box-shadow: 0px 1px 2px rgba(60, 64, 67, 0.3), 0px 1px 3px 1px rgba(60, 64, 67, 0.15);\n",
       "      fill: #174EA6;\n",
       "    }\n",
       "\n",
       "    .colab-df-buttons div {\n",
       "      margin-bottom: 4px;\n",
       "    }\n",
       "\n",
       "    [theme=dark] .colab-df-convert {\n",
       "      background-color: #3B4455;\n",
       "      fill: #D2E3FC;\n",
       "    }\n",
       "\n",
       "    [theme=dark] .colab-df-convert:hover {\n",
       "      background-color: #434B5C;\n",
       "      box-shadow: 0px 1px 3px 1px rgba(0, 0, 0, 0.15);\n",
       "      filter: drop-shadow(0px 1px 2px rgba(0, 0, 0, 0.3));\n",
       "      fill: #FFFFFF;\n",
       "    }\n",
       "  </style>\n",
       "\n",
       "    <script>\n",
       "      const buttonEl =\n",
       "        document.querySelector('#df-8510a8a7-49a9-47b5-a09d-d53f7a518b8d button.colab-df-convert');\n",
       "      buttonEl.style.display =\n",
       "        google.colab.kernel.accessAllowed ? 'block' : 'none';\n",
       "\n",
       "      async function convertToInteractive(key) {\n",
       "        const element = document.querySelector('#df-8510a8a7-49a9-47b5-a09d-d53f7a518b8d');\n",
       "        const dataTable =\n",
       "          await google.colab.kernel.invokeFunction('convertToInteractive',\n",
       "                                                    [key], {});\n",
       "        if (!dataTable) return;\n",
       "\n",
       "        const docLinkHtml = 'Like what you see? Visit the ' +\n",
       "          '<a target=\"_blank\" href=https://colab.research.google.com/notebooks/data_table.ipynb>data table notebook</a>'\n",
       "          + ' to learn more about interactive tables.';\n",
       "        element.innerHTML = '';\n",
       "        dataTable['output_type'] = 'display_data';\n",
       "        await google.colab.output.renderOutput(dataTable, element);\n",
       "        const docLink = document.createElement('div');\n",
       "        docLink.innerHTML = docLinkHtml;\n",
       "        element.appendChild(docLink);\n",
       "      }\n",
       "    </script>\n",
       "  </div>\n",
       "\n",
       "\n",
       "<div id=\"df-94770afa-ce46-47f5-91fb-c9c13e77b72e\">\n",
       "  <button class=\"colab-df-quickchart\" onclick=\"quickchart('df-94770afa-ce46-47f5-91fb-c9c13e77b72e')\"\n",
       "            title=\"Suggest charts.\"\n",
       "            style=\"display:none;\">\n",
       "\n",
       "<svg xmlns=\"http://www.w3.org/2000/svg\" height=\"24px\"viewBox=\"0 0 24 24\"\n",
       "     width=\"24px\">\n",
       "    <g>\n",
       "        <path d=\"M19 3H5c-1.1 0-2 .9-2 2v14c0 1.1.9 2 2 2h14c1.1 0 2-.9 2-2V5c0-1.1-.9-2-2-2zM9 17H7v-7h2v7zm4 0h-2V7h2v10zm4 0h-2v-4h2v4z\"/>\n",
       "    </g>\n",
       "</svg>\n",
       "  </button>\n",
       "\n",
       "<style>\n",
       "  .colab-df-quickchart {\n",
       "      --bg-color: #E8F0FE;\n",
       "      --fill-color: #1967D2;\n",
       "      --hover-bg-color: #E2EBFA;\n",
       "      --hover-fill-color: #174EA6;\n",
       "      --disabled-fill-color: #AAA;\n",
       "      --disabled-bg-color: #DDD;\n",
       "  }\n",
       "\n",
       "  [theme=dark] .colab-df-quickchart {\n",
       "      --bg-color: #3B4455;\n",
       "      --fill-color: #D2E3FC;\n",
       "      --hover-bg-color: #434B5C;\n",
       "      --hover-fill-color: #FFFFFF;\n",
       "      --disabled-bg-color: #3B4455;\n",
       "      --disabled-fill-color: #666;\n",
       "  }\n",
       "\n",
       "  .colab-df-quickchart {\n",
       "    background-color: var(--bg-color);\n",
       "    border: none;\n",
       "    border-radius: 50%;\n",
       "    cursor: pointer;\n",
       "    display: none;\n",
       "    fill: var(--fill-color);\n",
       "    height: 32px;\n",
       "    padding: 0;\n",
       "    width: 32px;\n",
       "  }\n",
       "\n",
       "  .colab-df-quickchart:hover {\n",
       "    background-color: var(--hover-bg-color);\n",
       "    box-shadow: 0 1px 2px rgba(60, 64, 67, 0.3), 0 1px 3px 1px rgba(60, 64, 67, 0.15);\n",
       "    fill: var(--button-hover-fill-color);\n",
       "  }\n",
       "\n",
       "  .colab-df-quickchart-complete:disabled,\n",
       "  .colab-df-quickchart-complete:disabled:hover {\n",
       "    background-color: var(--disabled-bg-color);\n",
       "    fill: var(--disabled-fill-color);\n",
       "    box-shadow: none;\n",
       "  }\n",
       "\n",
       "  .colab-df-spinner {\n",
       "    border: 2px solid var(--fill-color);\n",
       "    border-color: transparent;\n",
       "    border-bottom-color: var(--fill-color);\n",
       "    animation:\n",
       "      spin 1s steps(1) infinite;\n",
       "  }\n",
       "\n",
       "  @keyframes spin {\n",
       "    0% {\n",
       "      border-color: transparent;\n",
       "      border-bottom-color: var(--fill-color);\n",
       "      border-left-color: var(--fill-color);\n",
       "    }\n",
       "    20% {\n",
       "      border-color: transparent;\n",
       "      border-left-color: var(--fill-color);\n",
       "      border-top-color: var(--fill-color);\n",
       "    }\n",
       "    30% {\n",
       "      border-color: transparent;\n",
       "      border-left-color: var(--fill-color);\n",
       "      border-top-color: var(--fill-color);\n",
       "      border-right-color: var(--fill-color);\n",
       "    }\n",
       "    40% {\n",
       "      border-color: transparent;\n",
       "      border-right-color: var(--fill-color);\n",
       "      border-top-color: var(--fill-color);\n",
       "    }\n",
       "    60% {\n",
       "      border-color: transparent;\n",
       "      border-right-color: var(--fill-color);\n",
       "    }\n",
       "    80% {\n",
       "      border-color: transparent;\n",
       "      border-right-color: var(--fill-color);\n",
       "      border-bottom-color: var(--fill-color);\n",
       "    }\n",
       "    90% {\n",
       "      border-color: transparent;\n",
       "      border-bottom-color: var(--fill-color);\n",
       "    }\n",
       "  }\n",
       "</style>\n",
       "\n",
       "  <script>\n",
       "    async function quickchart(key) {\n",
       "      const quickchartButtonEl =\n",
       "        document.querySelector('#' + key + ' button');\n",
       "      quickchartButtonEl.disabled = true;  // To prevent multiple clicks.\n",
       "      quickchartButtonEl.classList.add('colab-df-spinner');\n",
       "      try {\n",
       "        const charts = await google.colab.kernel.invokeFunction(\n",
       "            'suggestCharts', [key], {});\n",
       "      } catch (error) {\n",
       "        console.error('Error during call to suggestCharts:', error);\n",
       "      }\n",
       "      quickchartButtonEl.classList.remove('colab-df-spinner');\n",
       "      quickchartButtonEl.classList.add('colab-df-quickchart-complete');\n",
       "    }\n",
       "    (() => {\n",
       "      let quickchartButtonEl =\n",
       "        document.querySelector('#df-94770afa-ce46-47f5-91fb-c9c13e77b72e button');\n",
       "      quickchartButtonEl.style.display =\n",
       "        google.colab.kernel.accessAllowed ? 'block' : 'none';\n",
       "    })();\n",
       "  </script>\n",
       "</div>\n",
       "    </div>\n",
       "  </div>\n"
      ],
      "text/plain": [
       "                  Region         City City/Neighborhood  Reference_Number  \\\n",
       "0           منطقة الرياض       الرياض    الرياض/السويدى          19683341   \n",
       "1           منطقة الرياض       الرياض    الرياض/المهدية          19682474   \n",
       "2      منطقة مكة المكرمه       الطائف   الطائف/ الحلقة           19683061   \n",
       "3           منطقة الرياض       الرياض     الرياض/الزهرة          19683218   \n",
       "4          منطقة الشرقية  قرية العليا  قرية العليا/أخرى          19620608   \n",
       "...                  ...          ...               ...               ...   \n",
       "38806       منطقة القصيم        بريده     بريده/ الشقة           20288989   \n",
       "38807       منطقة القصيم        بريده     بريده/ الشقة           20288991   \n",
       "38808       منطقة القصيم        بريده     بريده/ الشقة           20288984   \n",
       "38809       منطقة القصيم        بريده     بريده/ الشقة           20288910   \n",
       "38810       منطقة القصيم        بريده     بريده/ الشقة           20288893   \n",
       "\n",
       "            Date Property_classification Property_type  Number_of_properties  \\\n",
       "0     2023-04-01                   تجاري      قطعة أرض                     2   \n",
       "1     2023-04-01                    سكني      قطعة أرض                     1   \n",
       "2     2023-04-01                    سكني      قطعة أرض                     1   \n",
       "3     2023-04-01                   تجاري      قطعة أرض                     1   \n",
       "4     2023-04-01                    سكني      قطعة أرض                     1   \n",
       "...          ...                     ...           ...                   ...   \n",
       "38806 2023-06-30                    سكني      قطعة أرض                     1   \n",
       "38807 2023-06-30                   تجاري      قطعة أرض                     1   \n",
       "38808 2023-06-30                   تجاري      قطعة أرض                     1   \n",
       "38809 2023-06-30                   تجاري      قطعة أرض                     1   \n",
       "38810 2023-06-30                    سكني      قطعة أرض                     1   \n",
       "\n",
       "           Price    Space  Price_per_square-meter  \n",
       "0      2500000.0  1000.00             2500.000000  \n",
       "1      1400000.0   270.00             5185.185185  \n",
       "2      1200000.0  1096.12             1094.770646  \n",
       "3      1000000.0   625.00             1600.000000  \n",
       "4        20000.0   920.00               21.739130  \n",
       "...          ...      ...                     ...  \n",
       "38806   102794.4   285.54              360.000000  \n",
       "38807   136800.0   360.00              380.000000  \n",
       "38808   109537.2   304.27              360.000000  \n",
       "38809   119880.0   324.00              370.000000  \n",
       "38810   113400.0   300.00              378.000000  \n",
       "\n",
       "[38811 rows x 11 columns]"
      ]
     },
     "execution_count": 55,
     "metadata": {},
     "output_type": "execute_result"
    }
   ],
   "source": [
    "path = pd.read_excel('العقارات.xlsx')\n",
    "data_23_2= pd.DataFrame(path)\n",
    "\n",
    "data_23_2.rename(columns={'المنطقة': 'Region', 'المدينة': 'City','المدينة / الحي':'City/Neighborhood','الرقم المرجعي للصفقة':'Reference_Number','تاريخ الصفقة ميلادي':'Date','تصنيف العقار':'Property_classification','نوع العقار':'Property_type', 'عدد العقارات':'Number_of_properties','السعر':'Price','المساحة':'Space'}, inplace=True)\n",
    "data_23_2.drop('تاريخ الصفقة هجري',inplace=True, axis=1)\n",
    "data_23_2['Price_per_square-meter'] = data_23_2['Price'] / data_23_2['Space']\n",
    "data_23_2"
   ]
  },
  {
   "cell_type": "code",
   "execution_count": 56,
   "id": "eSlcPgZ1kf-2",
   "metadata": {
    "colab": {
     "base_uri": "https://localhost:8080/",
     "height": 423
    },
    "id": "eSlcPgZ1kf-2",
    "outputId": "3fd68499-058f-4ef1-8b88-c48b81661fc3"
   },
   "outputs": [
    {
     "data": {
      "text/html": [
       "\n",
       "  <div id=\"df-0a61e7e7-3fb4-426b-a645-eeb612c2acdb\" class=\"colab-df-container\">\n",
       "    <div>\n",
       "<style scoped>\n",
       "    .dataframe tbody tr th:only-of-type {\n",
       "        vertical-align: middle;\n",
       "    }\n",
       "\n",
       "    .dataframe tbody tr th {\n",
       "        vertical-align: top;\n",
       "    }\n",
       "\n",
       "    .dataframe thead th {\n",
       "        text-align: right;\n",
       "    }\n",
       "</style>\n",
       "<table border=\"1\" class=\"dataframe\">\n",
       "  <thead>\n",
       "    <tr style=\"text-align: right;\">\n",
       "      <th></th>\n",
       "      <th>Reference_Number</th>\n",
       "      <th>Region</th>\n",
       "      <th>City</th>\n",
       "      <th>City/Neighborhood</th>\n",
       "      <th>Date</th>\n",
       "      <th>Property_classification</th>\n",
       "      <th>Property_type</th>\n",
       "      <th>Number_of_properties</th>\n",
       "      <th>Price</th>\n",
       "      <th>Space</th>\n",
       "      <th>Price_per_square-meter</th>\n",
       "    </tr>\n",
       "  </thead>\n",
       "  <tbody>\n",
       "    <tr>\n",
       "      <th>0</th>\n",
       "      <td>18923186</td>\n",
       "      <td>منطقة الرياض</td>\n",
       "      <td>الافلاج</td>\n",
       "      <td>حي/أخرى</td>\n",
       "      <td>2023-01-01</td>\n",
       "      <td>سكني</td>\n",
       "      <td>قطعة أرض</td>\n",
       "      <td>1</td>\n",
       "      <td>32000</td>\n",
       "      <td>630.0</td>\n",
       "      <td>50.7936</td>\n",
       "    </tr>\n",
       "    <tr>\n",
       "      <th>1</th>\n",
       "      <td>18920819</td>\n",
       "      <td>منطقة الرياض</td>\n",
       "      <td>الافلاج</td>\n",
       "      <td>حي/الريان</td>\n",
       "      <td>2023-01-01</td>\n",
       "      <td>سكني</td>\n",
       "      <td>قطعة أرض</td>\n",
       "      <td>1</td>\n",
       "      <td>60000</td>\n",
       "      <td>690.0</td>\n",
       "      <td>86.9565</td>\n",
       "    </tr>\n",
       "    <tr>\n",
       "      <th>2</th>\n",
       "      <td>18923523</td>\n",
       "      <td>منطقة الرياض</td>\n",
       "      <td>الخرج</td>\n",
       "      <td>حي/827 حى هجرة الصاع</td>\n",
       "      <td>2023-01-01</td>\n",
       "      <td>سكني</td>\n",
       "      <td>قطعة أرض</td>\n",
       "      <td>1</td>\n",
       "      <td>20000</td>\n",
       "      <td>630.0</td>\n",
       "      <td>31.7460</td>\n",
       "    </tr>\n",
       "    <tr>\n",
       "      <th>3</th>\n",
       "      <td>18909006</td>\n",
       "      <td>منطقة الرياض</td>\n",
       "      <td>الخرج</td>\n",
       "      <td>حي/الاندلس</td>\n",
       "      <td>2023-01-01</td>\n",
       "      <td>سكني</td>\n",
       "      <td>قطعة أرض</td>\n",
       "      <td>1</td>\n",
       "      <td>140000</td>\n",
       "      <td>333.0</td>\n",
       "      <td>420.4204</td>\n",
       "    </tr>\n",
       "    <tr>\n",
       "      <th>4</th>\n",
       "      <td>18857540</td>\n",
       "      <td>منطقة الرياض</td>\n",
       "      <td>الخرج</td>\n",
       "      <td>حي/الخالديه</td>\n",
       "      <td>2023-01-01</td>\n",
       "      <td>سكني</td>\n",
       "      <td>قطعة أرض</td>\n",
       "      <td>1</td>\n",
       "      <td>50000</td>\n",
       "      <td>380.0</td>\n",
       "      <td>131.5789</td>\n",
       "    </tr>\n",
       "    <tr>\n",
       "      <th>...</th>\n",
       "      <td>...</td>\n",
       "      <td>...</td>\n",
       "      <td>...</td>\n",
       "      <td>...</td>\n",
       "      <td>...</td>\n",
       "      <td>...</td>\n",
       "      <td>...</td>\n",
       "      <td>...</td>\n",
       "      <td>...</td>\n",
       "      <td>...</td>\n",
       "      <td>...</td>\n",
       "    </tr>\n",
       "    <tr>\n",
       "      <th>44086</th>\n",
       "      <td>19678497</td>\n",
       "      <td>منطقة جازان</td>\n",
       "      <td>جيزان</td>\n",
       "      <td>حي/محليه</td>\n",
       "      <td>2023-03-31</td>\n",
       "      <td>سكني</td>\n",
       "      <td>قطعة أرض</td>\n",
       "      <td>1</td>\n",
       "      <td>900000</td>\n",
       "      <td>500.0</td>\n",
       "      <td>1800.0000</td>\n",
       "    </tr>\n",
       "    <tr>\n",
       "      <th>44087</th>\n",
       "      <td>19666544</td>\n",
       "      <td>منطقة نجران</td>\n",
       "      <td>نجران</td>\n",
       "      <td>حي/المفرق</td>\n",
       "      <td>2023-03-31</td>\n",
       "      <td>سكني</td>\n",
       "      <td>قطعة أرض</td>\n",
       "      <td>1</td>\n",
       "      <td>50000</td>\n",
       "      <td>625.0</td>\n",
       "      <td>80.0000</td>\n",
       "    </tr>\n",
       "    <tr>\n",
       "      <th>44088</th>\n",
       "      <td>19666048</td>\n",
       "      <td>منطقة نجران</td>\n",
       "      <td>نجران</td>\n",
       "      <td>حي/شمال حى الفهد</td>\n",
       "      <td>2023-03-31</td>\n",
       "      <td>سكني</td>\n",
       "      <td>قطعة أرض</td>\n",
       "      <td>1</td>\n",
       "      <td>300000</td>\n",
       "      <td>400.0</td>\n",
       "      <td>750.0000</td>\n",
       "    </tr>\n",
       "    <tr>\n",
       "      <th>44089</th>\n",
       "      <td>19648639</td>\n",
       "      <td>منطقة نجران</td>\n",
       "      <td>يدمه</td>\n",
       "      <td>حي/6/ ن/ ى/ 1419</td>\n",
       "      <td>2023-03-31</td>\n",
       "      <td>سكني</td>\n",
       "      <td>قطعة أرض</td>\n",
       "      <td>1</td>\n",
       "      <td>10000</td>\n",
       "      <td>1600.0</td>\n",
       "      <td>6.2500</td>\n",
       "    </tr>\n",
       "    <tr>\n",
       "      <th>44090</th>\n",
       "      <td>19648646</td>\n",
       "      <td>منطقة نجران</td>\n",
       "      <td>يدمه</td>\n",
       "      <td>حي/6/ ن/ ى/ 1419</td>\n",
       "      <td>2023-03-31</td>\n",
       "      <td>سكني</td>\n",
       "      <td>قطعة أرض</td>\n",
       "      <td>1</td>\n",
       "      <td>10000</td>\n",
       "      <td>1600.0</td>\n",
       "      <td>6.2500</td>\n",
       "    </tr>\n",
       "  </tbody>\n",
       "</table>\n",
       "<p>44091 rows × 11 columns</p>\n",
       "</div>\n",
       "    <div class=\"colab-df-buttons\">\n",
       "\n",
       "  <div class=\"colab-df-container\">\n",
       "    <button class=\"colab-df-convert\" onclick=\"convertToInteractive('df-0a61e7e7-3fb4-426b-a645-eeb612c2acdb')\"\n",
       "            title=\"Convert this dataframe to an interactive table.\"\n",
       "            style=\"display:none;\">\n",
       "\n",
       "  <svg xmlns=\"http://www.w3.org/2000/svg\" height=\"24px\" viewBox=\"0 -960 960 960\">\n",
       "    <path d=\"M120-120v-720h720v720H120Zm60-500h600v-160H180v160Zm220 220h160v-160H400v160Zm0 220h160v-160H400v160ZM180-400h160v-160H180v160Zm440 0h160v-160H620v160ZM180-180h160v-160H180v160Zm440 0h160v-160H620v160Z\"/>\n",
       "  </svg>\n",
       "    </button>\n",
       "\n",
       "  <style>\n",
       "    .colab-df-container {\n",
       "      display:flex;\n",
       "      gap: 12px;\n",
       "    }\n",
       "\n",
       "    .colab-df-convert {\n",
       "      background-color: #E8F0FE;\n",
       "      border: none;\n",
       "      border-radius: 50%;\n",
       "      cursor: pointer;\n",
       "      display: none;\n",
       "      fill: #1967D2;\n",
       "      height: 32px;\n",
       "      padding: 0 0 0 0;\n",
       "      width: 32px;\n",
       "    }\n",
       "\n",
       "    .colab-df-convert:hover {\n",
       "      background-color: #E2EBFA;\n",
       "      box-shadow: 0px 1px 2px rgba(60, 64, 67, 0.3), 0px 1px 3px 1px rgba(60, 64, 67, 0.15);\n",
       "      fill: #174EA6;\n",
       "    }\n",
       "\n",
       "    .colab-df-buttons div {\n",
       "      margin-bottom: 4px;\n",
       "    }\n",
       "\n",
       "    [theme=dark] .colab-df-convert {\n",
       "      background-color: #3B4455;\n",
       "      fill: #D2E3FC;\n",
       "    }\n",
       "\n",
       "    [theme=dark] .colab-df-convert:hover {\n",
       "      background-color: #434B5C;\n",
       "      box-shadow: 0px 1px 3px 1px rgba(0, 0, 0, 0.15);\n",
       "      filter: drop-shadow(0px 1px 2px rgba(0, 0, 0, 0.3));\n",
       "      fill: #FFFFFF;\n",
       "    }\n",
       "  </style>\n",
       "\n",
       "    <script>\n",
       "      const buttonEl =\n",
       "        document.querySelector('#df-0a61e7e7-3fb4-426b-a645-eeb612c2acdb button.colab-df-convert');\n",
       "      buttonEl.style.display =\n",
       "        google.colab.kernel.accessAllowed ? 'block' : 'none';\n",
       "\n",
       "      async function convertToInteractive(key) {\n",
       "        const element = document.querySelector('#df-0a61e7e7-3fb4-426b-a645-eeb612c2acdb');\n",
       "        const dataTable =\n",
       "          await google.colab.kernel.invokeFunction('convertToInteractive',\n",
       "                                                    [key], {});\n",
       "        if (!dataTable) return;\n",
       "\n",
       "        const docLinkHtml = 'Like what you see? Visit the ' +\n",
       "          '<a target=\"_blank\" href=https://colab.research.google.com/notebooks/data_table.ipynb>data table notebook</a>'\n",
       "          + ' to learn more about interactive tables.';\n",
       "        element.innerHTML = '';\n",
       "        dataTable['output_type'] = 'display_data';\n",
       "        await google.colab.output.renderOutput(dataTable, element);\n",
       "        const docLink = document.createElement('div');\n",
       "        docLink.innerHTML = docLinkHtml;\n",
       "        element.appendChild(docLink);\n",
       "      }\n",
       "    </script>\n",
       "  </div>\n",
       "\n",
       "\n",
       "<div id=\"df-ac3a4507-5462-4c6a-93a0-bd2464256a38\">\n",
       "  <button class=\"colab-df-quickchart\" onclick=\"quickchart('df-ac3a4507-5462-4c6a-93a0-bd2464256a38')\"\n",
       "            title=\"Suggest charts.\"\n",
       "            style=\"display:none;\">\n",
       "\n",
       "<svg xmlns=\"http://www.w3.org/2000/svg\" height=\"24px\"viewBox=\"0 0 24 24\"\n",
       "     width=\"24px\">\n",
       "    <g>\n",
       "        <path d=\"M19 3H5c-1.1 0-2 .9-2 2v14c0 1.1.9 2 2 2h14c1.1 0 2-.9 2-2V5c0-1.1-.9-2-2-2zM9 17H7v-7h2v7zm4 0h-2V7h2v10zm4 0h-2v-4h2v4z\"/>\n",
       "    </g>\n",
       "</svg>\n",
       "  </button>\n",
       "\n",
       "<style>\n",
       "  .colab-df-quickchart {\n",
       "      --bg-color: #E8F0FE;\n",
       "      --fill-color: #1967D2;\n",
       "      --hover-bg-color: #E2EBFA;\n",
       "      --hover-fill-color: #174EA6;\n",
       "      --disabled-fill-color: #AAA;\n",
       "      --disabled-bg-color: #DDD;\n",
       "  }\n",
       "\n",
       "  [theme=dark] .colab-df-quickchart {\n",
       "      --bg-color: #3B4455;\n",
       "      --fill-color: #D2E3FC;\n",
       "      --hover-bg-color: #434B5C;\n",
       "      --hover-fill-color: #FFFFFF;\n",
       "      --disabled-bg-color: #3B4455;\n",
       "      --disabled-fill-color: #666;\n",
       "  }\n",
       "\n",
       "  .colab-df-quickchart {\n",
       "    background-color: var(--bg-color);\n",
       "    border: none;\n",
       "    border-radius: 50%;\n",
       "    cursor: pointer;\n",
       "    display: none;\n",
       "    fill: var(--fill-color);\n",
       "    height: 32px;\n",
       "    padding: 0;\n",
       "    width: 32px;\n",
       "  }\n",
       "\n",
       "  .colab-df-quickchart:hover {\n",
       "    background-color: var(--hover-bg-color);\n",
       "    box-shadow: 0 1px 2px rgba(60, 64, 67, 0.3), 0 1px 3px 1px rgba(60, 64, 67, 0.15);\n",
       "    fill: var(--button-hover-fill-color);\n",
       "  }\n",
       "\n",
       "  .colab-df-quickchart-complete:disabled,\n",
       "  .colab-df-quickchart-complete:disabled:hover {\n",
       "    background-color: var(--disabled-bg-color);\n",
       "    fill: var(--disabled-fill-color);\n",
       "    box-shadow: none;\n",
       "  }\n",
       "\n",
       "  .colab-df-spinner {\n",
       "    border: 2px solid var(--fill-color);\n",
       "    border-color: transparent;\n",
       "    border-bottom-color: var(--fill-color);\n",
       "    animation:\n",
       "      spin 1s steps(1) infinite;\n",
       "  }\n",
       "\n",
       "  @keyframes spin {\n",
       "    0% {\n",
       "      border-color: transparent;\n",
       "      border-bottom-color: var(--fill-color);\n",
       "      border-left-color: var(--fill-color);\n",
       "    }\n",
       "    20% {\n",
       "      border-color: transparent;\n",
       "      border-left-color: var(--fill-color);\n",
       "      border-top-color: var(--fill-color);\n",
       "    }\n",
       "    30% {\n",
       "      border-color: transparent;\n",
       "      border-left-color: var(--fill-color);\n",
       "      border-top-color: var(--fill-color);\n",
       "      border-right-color: var(--fill-color);\n",
       "    }\n",
       "    40% {\n",
       "      border-color: transparent;\n",
       "      border-right-color: var(--fill-color);\n",
       "      border-top-color: var(--fill-color);\n",
       "    }\n",
       "    60% {\n",
       "      border-color: transparent;\n",
       "      border-right-color: var(--fill-color);\n",
       "    }\n",
       "    80% {\n",
       "      border-color: transparent;\n",
       "      border-right-color: var(--fill-color);\n",
       "      border-bottom-color: var(--fill-color);\n",
       "    }\n",
       "    90% {\n",
       "      border-color: transparent;\n",
       "      border-bottom-color: var(--fill-color);\n",
       "    }\n",
       "  }\n",
       "</style>\n",
       "\n",
       "  <script>\n",
       "    async function quickchart(key) {\n",
       "      const quickchartButtonEl =\n",
       "        document.querySelector('#' + key + ' button');\n",
       "      quickchartButtonEl.disabled = true;  // To prevent multiple clicks.\n",
       "      quickchartButtonEl.classList.add('colab-df-spinner');\n",
       "      try {\n",
       "        const charts = await google.colab.kernel.invokeFunction(\n",
       "            'suggestCharts', [key], {});\n",
       "      } catch (error) {\n",
       "        console.error('Error during call to suggestCharts:', error);\n",
       "      }\n",
       "      quickchartButtonEl.classList.remove('colab-df-spinner');\n",
       "      quickchartButtonEl.classList.add('colab-df-quickchart-complete');\n",
       "    }\n",
       "    (() => {\n",
       "      let quickchartButtonEl =\n",
       "        document.querySelector('#df-ac3a4507-5462-4c6a-93a0-bd2464256a38 button');\n",
       "      quickchartButtonEl.style.display =\n",
       "        google.colab.kernel.accessAllowed ? 'block' : 'none';\n",
       "    })();\n",
       "  </script>\n",
       "</div>\n",
       "    </div>\n",
       "  </div>\n"
      ],
      "text/plain": [
       "       Reference_Number        Region     City     City/Neighborhood  \\\n",
       "0              18923186  منطقة الرياض  الافلاج               حي/أخرى   \n",
       "1              18920819  منطقة الرياض  الافلاج             حي/الريان   \n",
       "2              18923523  منطقة الرياض    الخرج  حي/827 حى هجرة الصاع   \n",
       "3              18909006  منطقة الرياض    الخرج            حي/الاندلس   \n",
       "4              18857540  منطقة الرياض    الخرج           حي/الخالديه   \n",
       "...                 ...           ...      ...                   ...   \n",
       "44086          19678497   منطقة جازان    جيزان              حي/محليه   \n",
       "44087          19666544   منطقة نجران    نجران             حي/المفرق   \n",
       "44088          19666048   منطقة نجران    نجران      حي/شمال حى الفهد   \n",
       "44089          19648639   منطقة نجران     يدمه      حي/6/ ن/ ى/ 1419   \n",
       "44090          19648646   منطقة نجران     يدمه      حي/6/ ن/ ى/ 1419   \n",
       "\n",
       "            Date Property_classification Property_type  Number_of_properties  \\\n",
       "0     2023-01-01                    سكني      قطعة أرض                     1   \n",
       "1     2023-01-01                    سكني      قطعة أرض                     1   \n",
       "2     2023-01-01                    سكني      قطعة أرض                     1   \n",
       "3     2023-01-01                    سكني      قطعة أرض                     1   \n",
       "4     2023-01-01                    سكني      قطعة أرض                     1   \n",
       "...          ...                     ...           ...                   ...   \n",
       "44086 2023-03-31                    سكني      قطعة أرض                     1   \n",
       "44087 2023-03-31                    سكني      قطعة أرض                     1   \n",
       "44088 2023-03-31                    سكني      قطعة أرض                     1   \n",
       "44089 2023-03-31                    سكني      قطعة أرض                     1   \n",
       "44090 2023-03-31                    سكني      قطعة أرض                     1   \n",
       "\n",
       "        Price   Space  Price_per_square-meter  \n",
       "0       32000   630.0                 50.7936  \n",
       "1       60000   690.0                 86.9565  \n",
       "2       20000   630.0                 31.7460  \n",
       "3      140000   333.0                420.4204  \n",
       "4       50000   380.0                131.5789  \n",
       "...       ...     ...                     ...  \n",
       "44086  900000   500.0               1800.0000  \n",
       "44087   50000   625.0                 80.0000  \n",
       "44088  300000   400.0                750.0000  \n",
       "44089   10000  1600.0                  6.2500  \n",
       "44090   10000  1600.0                  6.2500  \n",
       "\n",
       "[44091 rows x 11 columns]"
      ]
     },
     "execution_count": 56,
     "metadata": {},
     "output_type": "execute_result"
    }
   ],
   "source": [
    "path = pd.read_excel('العقارات_2023_الربع الاول.xlsx')\n",
    "data_23_1 = pd.DataFrame(path)\n",
    "data_23_1.rename(columns={'المنطقة': 'Region', 'المدينة': 'City','الحي':'City/Neighborhood','رقم مرجعي':'Reference_Number','التاريخ':'Date','تصنيف العقار':'Property_classification','نوع العقار':'Property_type', 'عدد العقارات':'Number_of_properties','السعر بالريال السعودي':'Price', 'المساحة ':'Space','سعر المتر المربع':'Price_per_square-meter'}, inplace=True)\n",
    "data_23_1.drop(columns=['رقم القطعة','المخطط'],inplace=True, axis=1)\n",
    "data_23_1"
   ]
  },
  {
   "cell_type": "code",
   "execution_count": 57,
   "id": "oIunH2aWlgcH",
   "metadata": {
    "colab": {
     "base_uri": "https://localhost:8080/",
     "height": 614
    },
    "id": "oIunH2aWlgcH",
    "outputId": "e0eb75d9-82bf-451a-f661-5081db15fb61"
   },
   "outputs": [
    {
     "data": {
      "text/html": [
       "\n",
       "  <div id=\"df-49105749-a32d-4cb0-a5cc-964172030d7a\" class=\"colab-df-container\">\n",
       "    <div>\n",
       "<style scoped>\n",
       "    .dataframe tbody tr th:only-of-type {\n",
       "        vertical-align: middle;\n",
       "    }\n",
       "\n",
       "    .dataframe tbody tr th {\n",
       "        vertical-align: top;\n",
       "    }\n",
       "\n",
       "    .dataframe thead th {\n",
       "        text-align: right;\n",
       "    }\n",
       "</style>\n",
       "<table border=\"1\" class=\"dataframe\">\n",
       "  <thead>\n",
       "    <tr style=\"text-align: right;\">\n",
       "      <th></th>\n",
       "      <th>Reference_Number</th>\n",
       "      <th>Region</th>\n",
       "      <th>City</th>\n",
       "      <th>City/Neighborhood</th>\n",
       "      <th>Date</th>\n",
       "      <th>Property_classification</th>\n",
       "      <th>Property_type</th>\n",
       "      <th>Number_of_properties</th>\n",
       "      <th>Price</th>\n",
       "      <th>Space</th>\n",
       "      <th>Price_per_square-meter</th>\n",
       "    </tr>\n",
       "  </thead>\n",
       "  <tbody>\n",
       "    <tr>\n",
       "      <th>0</th>\n",
       "      <td>16074562</td>\n",
       "      <td>منطقة الرياض</td>\n",
       "      <td>الافلاج</td>\n",
       "      <td>حي/الخالدية</td>\n",
       "      <td>2022-02-01</td>\n",
       "      <td>سكني</td>\n",
       "      <td>قطعة أرض</td>\n",
       "      <td>1</td>\n",
       "      <td>70000</td>\n",
       "      <td>820.53</td>\n",
       "      <td>85.3107</td>\n",
       "    </tr>\n",
       "    <tr>\n",
       "      <th>1</th>\n",
       "      <td>16077290</td>\n",
       "      <td>منطقة الرياض</td>\n",
       "      <td>البجاديه</td>\n",
       "      <td>حي/11 بالدخل المحدود غرب البجادية</td>\n",
       "      <td>2022-02-01</td>\n",
       "      <td>سكني</td>\n",
       "      <td>قطعة أرض</td>\n",
       "      <td>1</td>\n",
       "      <td>10000</td>\n",
       "      <td>625.00</td>\n",
       "      <td>16.0000</td>\n",
       "    </tr>\n",
       "    <tr>\n",
       "      <th>2</th>\n",
       "      <td>16077316</td>\n",
       "      <td>منطقة الرياض</td>\n",
       "      <td>الخرج</td>\n",
       "      <td>حي/60حى اليرموك مخطط 1009 الجزء الثانى</td>\n",
       "      <td>2022-02-01</td>\n",
       "      <td>سكني</td>\n",
       "      <td>قطعة أرض</td>\n",
       "      <td>1</td>\n",
       "      <td>100000</td>\n",
       "      <td>624.07</td>\n",
       "      <td>160.2384</td>\n",
       "    </tr>\n",
       "    <tr>\n",
       "      <th>3</th>\n",
       "      <td>16073025</td>\n",
       "      <td>منطقة الرياض</td>\n",
       "      <td>الخرج</td>\n",
       "      <td>حي/68 حى اليرموك مخطط 1009/ 2</td>\n",
       "      <td>2022-02-01</td>\n",
       "      <td>تجاري</td>\n",
       "      <td>قطعة أرض</td>\n",
       "      <td>1</td>\n",
       "      <td>110000</td>\n",
       "      <td>581.05</td>\n",
       "      <td>189.3124</td>\n",
       "    </tr>\n",
       "    <tr>\n",
       "      <th>4</th>\n",
       "      <td>16069867</td>\n",
       "      <td>منطقة الرياض</td>\n",
       "      <td>الخرج</td>\n",
       "      <td>حي/827 حى هجرة الصاع</td>\n",
       "      <td>2022-02-01</td>\n",
       "      <td>سكني</td>\n",
       "      <td>قطعة أرض</td>\n",
       "      <td>1</td>\n",
       "      <td>40000</td>\n",
       "      <td>630.00</td>\n",
       "      <td>63.4920</td>\n",
       "    </tr>\n",
       "    <tr>\n",
       "      <th>...</th>\n",
       "      <td>...</td>\n",
       "      <td>...</td>\n",
       "      <td>...</td>\n",
       "      <td>...</td>\n",
       "      <td>...</td>\n",
       "      <td>...</td>\n",
       "      <td>...</td>\n",
       "      <td>...</td>\n",
       "      <td>...</td>\n",
       "      <td>...</td>\n",
       "      <td>...</td>\n",
       "    </tr>\n",
       "    <tr>\n",
       "      <th>59841</th>\n",
       "      <td>16723273</td>\n",
       "      <td>منطقة الجوف</td>\n",
       "      <td>سكاكا</td>\n",
       "      <td>حي/هديب الجنوبى</td>\n",
       "      <td>2022-04-14</td>\n",
       "      <td>سكني</td>\n",
       "      <td>قطعة أرض</td>\n",
       "      <td>1</td>\n",
       "      <td>20000</td>\n",
       "      <td>600.00</td>\n",
       "      <td>33.3333</td>\n",
       "    </tr>\n",
       "    <tr>\n",
       "      <th>59842</th>\n",
       "      <td>16730845</td>\n",
       "      <td>منطقة الجوف</td>\n",
       "      <td>طبرجل</td>\n",
       "      <td>حي/23/ 7/ 2/ 1431/ س</td>\n",
       "      <td>2022-04-14</td>\n",
       "      <td>سكني</td>\n",
       "      <td>قطعة أرض</td>\n",
       "      <td>1</td>\n",
       "      <td>50000</td>\n",
       "      <td>471.85</td>\n",
       "      <td>105.9658</td>\n",
       "    </tr>\n",
       "    <tr>\n",
       "      <th>59843</th>\n",
       "      <td>16730691</td>\n",
       "      <td>منطقة الجوف</td>\n",
       "      <td>طبرجل</td>\n",
       "      <td>حي/23/ 7/ 2/ 1431/ س</td>\n",
       "      <td>2022-04-14</td>\n",
       "      <td>سكني</td>\n",
       "      <td>قطعة أرض</td>\n",
       "      <td>1</td>\n",
       "      <td>50000</td>\n",
       "      <td>507.33</td>\n",
       "      <td>98.5551</td>\n",
       "    </tr>\n",
       "    <tr>\n",
       "      <th>59844</th>\n",
       "      <td>16728812</td>\n",
       "      <td>منطقة الجوف</td>\n",
       "      <td>طبرجل</td>\n",
       "      <td>حي/6 / 7 / 2/ 1423/ معدل/ س</td>\n",
       "      <td>2022-04-14</td>\n",
       "      <td>زراعي</td>\n",
       "      <td>قطعة أرض</td>\n",
       "      <td>1</td>\n",
       "      <td>450000</td>\n",
       "      <td>510.00</td>\n",
       "      <td>882.3529</td>\n",
       "    </tr>\n",
       "    <tr>\n",
       "      <th>59845</th>\n",
       "      <td>16730717</td>\n",
       "      <td>منطقة الجوف</td>\n",
       "      <td>طبرجل</td>\n",
       "      <td>حي/بسيطاء</td>\n",
       "      <td>2022-04-14</td>\n",
       "      <td>زراعي</td>\n",
       "      <td>أرض زراعية</td>\n",
       "      <td>1</td>\n",
       "      <td>400000</td>\n",
       "      <td>1000000.00</td>\n",
       "      <td>0.4000</td>\n",
       "    </tr>\n",
       "  </tbody>\n",
       "</table>\n",
       "<p>59846 rows × 11 columns</p>\n",
       "</div>\n",
       "    <div class=\"colab-df-buttons\">\n",
       "\n",
       "  <div class=\"colab-df-container\">\n",
       "    <button class=\"colab-df-convert\" onclick=\"convertToInteractive('df-49105749-a32d-4cb0-a5cc-964172030d7a')\"\n",
       "            title=\"Convert this dataframe to an interactive table.\"\n",
       "            style=\"display:none;\">\n",
       "\n",
       "  <svg xmlns=\"http://www.w3.org/2000/svg\" height=\"24px\" viewBox=\"0 -960 960 960\">\n",
       "    <path d=\"M120-120v-720h720v720H120Zm60-500h600v-160H180v160Zm220 220h160v-160H400v160Zm0 220h160v-160H400v160ZM180-400h160v-160H180v160Zm440 0h160v-160H620v160ZM180-180h160v-160H180v160Zm440 0h160v-160H620v160Z\"/>\n",
       "  </svg>\n",
       "    </button>\n",
       "\n",
       "  <style>\n",
       "    .colab-df-container {\n",
       "      display:flex;\n",
       "      gap: 12px;\n",
       "    }\n",
       "\n",
       "    .colab-df-convert {\n",
       "      background-color: #E8F0FE;\n",
       "      border: none;\n",
       "      border-radius: 50%;\n",
       "      cursor: pointer;\n",
       "      display: none;\n",
       "      fill: #1967D2;\n",
       "      height: 32px;\n",
       "      padding: 0 0 0 0;\n",
       "      width: 32px;\n",
       "    }\n",
       "\n",
       "    .colab-df-convert:hover {\n",
       "      background-color: #E2EBFA;\n",
       "      box-shadow: 0px 1px 2px rgba(60, 64, 67, 0.3), 0px 1px 3px 1px rgba(60, 64, 67, 0.15);\n",
       "      fill: #174EA6;\n",
       "    }\n",
       "\n",
       "    .colab-df-buttons div {\n",
       "      margin-bottom: 4px;\n",
       "    }\n",
       "\n",
       "    [theme=dark] .colab-df-convert {\n",
       "      background-color: #3B4455;\n",
       "      fill: #D2E3FC;\n",
       "    }\n",
       "\n",
       "    [theme=dark] .colab-df-convert:hover {\n",
       "      background-color: #434B5C;\n",
       "      box-shadow: 0px 1px 3px 1px rgba(0, 0, 0, 0.15);\n",
       "      filter: drop-shadow(0px 1px 2px rgba(0, 0, 0, 0.3));\n",
       "      fill: #FFFFFF;\n",
       "    }\n",
       "  </style>\n",
       "\n",
       "    <script>\n",
       "      const buttonEl =\n",
       "        document.querySelector('#df-49105749-a32d-4cb0-a5cc-964172030d7a button.colab-df-convert');\n",
       "      buttonEl.style.display =\n",
       "        google.colab.kernel.accessAllowed ? 'block' : 'none';\n",
       "\n",
       "      async function convertToInteractive(key) {\n",
       "        const element = document.querySelector('#df-49105749-a32d-4cb0-a5cc-964172030d7a');\n",
       "        const dataTable =\n",
       "          await google.colab.kernel.invokeFunction('convertToInteractive',\n",
       "                                                    [key], {});\n",
       "        if (!dataTable) return;\n",
       "\n",
       "        const docLinkHtml = 'Like what you see? Visit the ' +\n",
       "          '<a target=\"_blank\" href=https://colab.research.google.com/notebooks/data_table.ipynb>data table notebook</a>'\n",
       "          + ' to learn more about interactive tables.';\n",
       "        element.innerHTML = '';\n",
       "        dataTable['output_type'] = 'display_data';\n",
       "        await google.colab.output.renderOutput(dataTable, element);\n",
       "        const docLink = document.createElement('div');\n",
       "        docLink.innerHTML = docLinkHtml;\n",
       "        element.appendChild(docLink);\n",
       "      }\n",
       "    </script>\n",
       "  </div>\n",
       "\n",
       "\n",
       "<div id=\"df-51480ce9-ae62-45ec-b051-5ac44102adb1\">\n",
       "  <button class=\"colab-df-quickchart\" onclick=\"quickchart('df-51480ce9-ae62-45ec-b051-5ac44102adb1')\"\n",
       "            title=\"Suggest charts.\"\n",
       "            style=\"display:none;\">\n",
       "\n",
       "<svg xmlns=\"http://www.w3.org/2000/svg\" height=\"24px\"viewBox=\"0 0 24 24\"\n",
       "     width=\"24px\">\n",
       "    <g>\n",
       "        <path d=\"M19 3H5c-1.1 0-2 .9-2 2v14c0 1.1.9 2 2 2h14c1.1 0 2-.9 2-2V5c0-1.1-.9-2-2-2zM9 17H7v-7h2v7zm4 0h-2V7h2v10zm4 0h-2v-4h2v4z\"/>\n",
       "    </g>\n",
       "</svg>\n",
       "  </button>\n",
       "\n",
       "<style>\n",
       "  .colab-df-quickchart {\n",
       "      --bg-color: #E8F0FE;\n",
       "      --fill-color: #1967D2;\n",
       "      --hover-bg-color: #E2EBFA;\n",
       "      --hover-fill-color: #174EA6;\n",
       "      --disabled-fill-color: #AAA;\n",
       "      --disabled-bg-color: #DDD;\n",
       "  }\n",
       "\n",
       "  [theme=dark] .colab-df-quickchart {\n",
       "      --bg-color: #3B4455;\n",
       "      --fill-color: #D2E3FC;\n",
       "      --hover-bg-color: #434B5C;\n",
       "      --hover-fill-color: #FFFFFF;\n",
       "      --disabled-bg-color: #3B4455;\n",
       "      --disabled-fill-color: #666;\n",
       "  }\n",
       "\n",
       "  .colab-df-quickchart {\n",
       "    background-color: var(--bg-color);\n",
       "    border: none;\n",
       "    border-radius: 50%;\n",
       "    cursor: pointer;\n",
       "    display: none;\n",
       "    fill: var(--fill-color);\n",
       "    height: 32px;\n",
       "    padding: 0;\n",
       "    width: 32px;\n",
       "  }\n",
       "\n",
       "  .colab-df-quickchart:hover {\n",
       "    background-color: var(--hover-bg-color);\n",
       "    box-shadow: 0 1px 2px rgba(60, 64, 67, 0.3), 0 1px 3px 1px rgba(60, 64, 67, 0.15);\n",
       "    fill: var(--button-hover-fill-color);\n",
       "  }\n",
       "\n",
       "  .colab-df-quickchart-complete:disabled,\n",
       "  .colab-df-quickchart-complete:disabled:hover {\n",
       "    background-color: var(--disabled-bg-color);\n",
       "    fill: var(--disabled-fill-color);\n",
       "    box-shadow: none;\n",
       "  }\n",
       "\n",
       "  .colab-df-spinner {\n",
       "    border: 2px solid var(--fill-color);\n",
       "    border-color: transparent;\n",
       "    border-bottom-color: var(--fill-color);\n",
       "    animation:\n",
       "      spin 1s steps(1) infinite;\n",
       "  }\n",
       "\n",
       "  @keyframes spin {\n",
       "    0% {\n",
       "      border-color: transparent;\n",
       "      border-bottom-color: var(--fill-color);\n",
       "      border-left-color: var(--fill-color);\n",
       "    }\n",
       "    20% {\n",
       "      border-color: transparent;\n",
       "      border-left-color: var(--fill-color);\n",
       "      border-top-color: var(--fill-color);\n",
       "    }\n",
       "    30% {\n",
       "      border-color: transparent;\n",
       "      border-left-color: var(--fill-color);\n",
       "      border-top-color: var(--fill-color);\n",
       "      border-right-color: var(--fill-color);\n",
       "    }\n",
       "    40% {\n",
       "      border-color: transparent;\n",
       "      border-right-color: var(--fill-color);\n",
       "      border-top-color: var(--fill-color);\n",
       "    }\n",
       "    60% {\n",
       "      border-color: transparent;\n",
       "      border-right-color: var(--fill-color);\n",
       "    }\n",
       "    80% {\n",
       "      border-color: transparent;\n",
       "      border-right-color: var(--fill-color);\n",
       "      border-bottom-color: var(--fill-color);\n",
       "    }\n",
       "    90% {\n",
       "      border-color: transparent;\n",
       "      border-bottom-color: var(--fill-color);\n",
       "    }\n",
       "  }\n",
       "</style>\n",
       "\n",
       "  <script>\n",
       "    async function quickchart(key) {\n",
       "      const quickchartButtonEl =\n",
       "        document.querySelector('#' + key + ' button');\n",
       "      quickchartButtonEl.disabled = true;  // To prevent multiple clicks.\n",
       "      quickchartButtonEl.classList.add('colab-df-spinner');\n",
       "      try {\n",
       "        const charts = await google.colab.kernel.invokeFunction(\n",
       "            'suggestCharts', [key], {});\n",
       "      } catch (error) {\n",
       "        console.error('Error during call to suggestCharts:', error);\n",
       "      }\n",
       "      quickchartButtonEl.classList.remove('colab-df-spinner');\n",
       "      quickchartButtonEl.classList.add('colab-df-quickchart-complete');\n",
       "    }\n",
       "    (() => {\n",
       "      let quickchartButtonEl =\n",
       "        document.querySelector('#df-51480ce9-ae62-45ec-b051-5ac44102adb1 button');\n",
       "      quickchartButtonEl.style.display =\n",
       "        google.colab.kernel.accessAllowed ? 'block' : 'none';\n",
       "    })();\n",
       "  </script>\n",
       "</div>\n",
       "    </div>\n",
       "  </div>\n"
      ],
      "text/plain": [
       "       Reference_Number        Region      City  \\\n",
       "0              16074562  منطقة الرياض   الافلاج   \n",
       "1              16077290  منطقة الرياض  البجاديه   \n",
       "2              16077316  منطقة الرياض     الخرج   \n",
       "3              16073025  منطقة الرياض     الخرج   \n",
       "4              16069867  منطقة الرياض     الخرج   \n",
       "...                 ...           ...       ...   \n",
       "59841          16723273   منطقة الجوف     سكاكا   \n",
       "59842          16730845   منطقة الجوف     طبرجل   \n",
       "59843          16730691   منطقة الجوف     طبرجل   \n",
       "59844          16728812   منطقة الجوف     طبرجل   \n",
       "59845          16730717   منطقة الجوف     طبرجل   \n",
       "\n",
       "                            City/Neighborhood       Date  \\\n",
       "0                                 حي/الخالدية 2022-02-01   \n",
       "1           حي/11 بالدخل المحدود غرب البجادية 2022-02-01   \n",
       "2      حي/60حى اليرموك مخطط 1009 الجزء الثانى 2022-02-01   \n",
       "3               حي/68 حى اليرموك مخطط 1009/ 2 2022-02-01   \n",
       "4                        حي/827 حى هجرة الصاع 2022-02-01   \n",
       "...                                       ...        ...   \n",
       "59841                         حي/هديب الجنوبى 2022-04-14   \n",
       "59842                    حي/23/ 7/ 2/ 1431/ س 2022-04-14   \n",
       "59843                    حي/23/ 7/ 2/ 1431/ س 2022-04-14   \n",
       "59844             حي/6 / 7 / 2/ 1423/ معدل/ س 2022-04-14   \n",
       "59845                               حي/بسيطاء 2022-04-14   \n",
       "\n",
       "      Property_classification Property_type  Number_of_properties   Price  \\\n",
       "0                        سكني      قطعة أرض                     1   70000   \n",
       "1                        سكني      قطعة أرض                     1   10000   \n",
       "2                        سكني      قطعة أرض                     1  100000   \n",
       "3                       تجاري      قطعة أرض                     1  110000   \n",
       "4                        سكني      قطعة أرض                     1   40000   \n",
       "...                       ...           ...                   ...     ...   \n",
       "59841                    سكني      قطعة أرض                     1   20000   \n",
       "59842                    سكني      قطعة أرض                     1   50000   \n",
       "59843                    سكني      قطعة أرض                     1   50000   \n",
       "59844                   زراعي      قطعة أرض                     1  450000   \n",
       "59845                   زراعي    أرض زراعية                     1  400000   \n",
       "\n",
       "            Space  Price_per_square-meter  \n",
       "0          820.53                 85.3107  \n",
       "1          625.00                 16.0000  \n",
       "2          624.07                160.2384  \n",
       "3          581.05                189.3124  \n",
       "4          630.00                 63.4920  \n",
       "...           ...                     ...  \n",
       "59841      600.00                 33.3333  \n",
       "59842      471.85                105.9658  \n",
       "59843      507.33                 98.5551  \n",
       "59844      510.00                882.3529  \n",
       "59845  1000000.00                  0.4000  \n",
       "\n",
       "[59846 rows x 11 columns]"
      ]
     },
     "execution_count": 57,
     "metadata": {},
     "output_type": "execute_result"
    }
   ],
   "source": [
    "path = pd.read_excel('العقارات_2022_من1_الى4.xlsx')\n",
    "data_22_1 = pd.DataFrame(path)\n",
    "data_22_1.rename(columns={'المنطقة': 'Region', 'المدينة': 'City','الحي':'City/Neighborhood','رقم مرجعي':'Reference_Number','التاريخ':'Date','تصنيف العقار':'Property_classification','نوع العقار':'Property_type', 'عدد العقارات':'Number_of_properties','السعر بالريال السعودي':'Price', 'المساحة ':'Space','سعر المتر المربع':'Price_per_square-meter'}, inplace=True)\n",
    "data_22_1.drop(columns=['رقم القطعة','المخطط'],inplace=True, axis=1)\n",
    "data_22_1"
   ]
  },
  {
   "cell_type": "code",
   "execution_count": 6,
   "id": "C-5yHSEvoID1",
   "metadata": {
    "colab": {
     "base_uri": "https://localhost:8080/",
     "height": 423
    },
    "id": "C-5yHSEvoID1",
    "outputId": "c3f25b58-8145-42a1-ac1b-6240aec274b5"
   },
   "outputs": [
    {
     "data": {
      "text/html": [
       "<div>\n",
       "<style scoped>\n",
       "    .dataframe tbody tr th:only-of-type {\n",
       "        vertical-align: middle;\n",
       "    }\n",
       "\n",
       "    .dataframe tbody tr th {\n",
       "        vertical-align: top;\n",
       "    }\n",
       "\n",
       "    .dataframe thead th {\n",
       "        text-align: right;\n",
       "    }\n",
       "</style>\n",
       "<table border=\"1\" class=\"dataframe\">\n",
       "  <thead>\n",
       "    <tr style=\"text-align: right;\">\n",
       "      <th></th>\n",
       "      <th>Reference_Number</th>\n",
       "      <th>Region</th>\n",
       "      <th>City</th>\n",
       "      <th>City/Neighborhood</th>\n",
       "      <th>Date</th>\n",
       "      <th>Property_classification</th>\n",
       "      <th>Property_type</th>\n",
       "      <th>Number_of_properties</th>\n",
       "      <th>Price</th>\n",
       "      <th>Space</th>\n",
       "      <th>Price_per_square-meter</th>\n",
       "    </tr>\n",
       "  </thead>\n",
       "  <tbody>\n",
       "    <tr>\n",
       "      <th>0</th>\n",
       "      <td>18923186</td>\n",
       "      <td>منطقة الرياض</td>\n",
       "      <td>الافلاج</td>\n",
       "      <td>حي/أخرى</td>\n",
       "      <td>2023-01-01</td>\n",
       "      <td>سكني</td>\n",
       "      <td>قطعة أرض</td>\n",
       "      <td>1</td>\n",
       "      <td>32000.0</td>\n",
       "      <td>630.00</td>\n",
       "      <td>50.7936</td>\n",
       "    </tr>\n",
       "    <tr>\n",
       "      <th>1</th>\n",
       "      <td>18920819</td>\n",
       "      <td>منطقة الرياض</td>\n",
       "      <td>الافلاج</td>\n",
       "      <td>حي/الريان</td>\n",
       "      <td>2023-01-01</td>\n",
       "      <td>سكني</td>\n",
       "      <td>قطعة أرض</td>\n",
       "      <td>1</td>\n",
       "      <td>60000.0</td>\n",
       "      <td>690.00</td>\n",
       "      <td>86.9565</td>\n",
       "    </tr>\n",
       "    <tr>\n",
       "      <th>2</th>\n",
       "      <td>18923523</td>\n",
       "      <td>منطقة الرياض</td>\n",
       "      <td>الخرج</td>\n",
       "      <td>حي/827 حى هجرة الصاع</td>\n",
       "      <td>2023-01-01</td>\n",
       "      <td>سكني</td>\n",
       "      <td>قطعة أرض</td>\n",
       "      <td>1</td>\n",
       "      <td>20000.0</td>\n",
       "      <td>630.00</td>\n",
       "      <td>31.7460</td>\n",
       "    </tr>\n",
       "    <tr>\n",
       "      <th>3</th>\n",
       "      <td>18909006</td>\n",
       "      <td>منطقة الرياض</td>\n",
       "      <td>الخرج</td>\n",
       "      <td>حي/الاندلس</td>\n",
       "      <td>2023-01-01</td>\n",
       "      <td>سكني</td>\n",
       "      <td>قطعة أرض</td>\n",
       "      <td>1</td>\n",
       "      <td>140000.0</td>\n",
       "      <td>333.00</td>\n",
       "      <td>420.4204</td>\n",
       "    </tr>\n",
       "    <tr>\n",
       "      <th>4</th>\n",
       "      <td>18857540</td>\n",
       "      <td>منطقة الرياض</td>\n",
       "      <td>الخرج</td>\n",
       "      <td>حي/الخالديه</td>\n",
       "      <td>2023-01-01</td>\n",
       "      <td>سكني</td>\n",
       "      <td>قطعة أرض</td>\n",
       "      <td>1</td>\n",
       "      <td>50000.0</td>\n",
       "      <td>380.00</td>\n",
       "      <td>131.5789</td>\n",
       "    </tr>\n",
       "    <tr>\n",
       "      <th>...</th>\n",
       "      <td>...</td>\n",
       "      <td>...</td>\n",
       "      <td>...</td>\n",
       "      <td>...</td>\n",
       "      <td>...</td>\n",
       "      <td>...</td>\n",
       "      <td>...</td>\n",
       "      <td>...</td>\n",
       "      <td>...</td>\n",
       "      <td>...</td>\n",
       "      <td>...</td>\n",
       "    </tr>\n",
       "    <tr>\n",
       "      <th>59841</th>\n",
       "      <td>16723273</td>\n",
       "      <td>منطقة الجوف</td>\n",
       "      <td>سكاكا</td>\n",
       "      <td>حي/هديب الجنوبى</td>\n",
       "      <td>2022-04-14</td>\n",
       "      <td>سكني</td>\n",
       "      <td>قطعة أرض</td>\n",
       "      <td>1</td>\n",
       "      <td>20000.0</td>\n",
       "      <td>600.00</td>\n",
       "      <td>33.3333</td>\n",
       "    </tr>\n",
       "    <tr>\n",
       "      <th>59842</th>\n",
       "      <td>16730845</td>\n",
       "      <td>منطقة الجوف</td>\n",
       "      <td>طبرجل</td>\n",
       "      <td>حي/23/ 7/ 2/ 1431/ س</td>\n",
       "      <td>2022-04-14</td>\n",
       "      <td>سكني</td>\n",
       "      <td>قطعة أرض</td>\n",
       "      <td>1</td>\n",
       "      <td>50000.0</td>\n",
       "      <td>471.85</td>\n",
       "      <td>105.9658</td>\n",
       "    </tr>\n",
       "    <tr>\n",
       "      <th>59843</th>\n",
       "      <td>16730691</td>\n",
       "      <td>منطقة الجوف</td>\n",
       "      <td>طبرجل</td>\n",
       "      <td>حي/23/ 7/ 2/ 1431/ س</td>\n",
       "      <td>2022-04-14</td>\n",
       "      <td>سكني</td>\n",
       "      <td>قطعة أرض</td>\n",
       "      <td>1</td>\n",
       "      <td>50000.0</td>\n",
       "      <td>507.33</td>\n",
       "      <td>98.5551</td>\n",
       "    </tr>\n",
       "    <tr>\n",
       "      <th>59844</th>\n",
       "      <td>16728812</td>\n",
       "      <td>منطقة الجوف</td>\n",
       "      <td>طبرجل</td>\n",
       "      <td>حي/6 / 7 / 2/ 1423/ معدل/ س</td>\n",
       "      <td>2022-04-14</td>\n",
       "      <td>زراعي</td>\n",
       "      <td>قطعة أرض</td>\n",
       "      <td>1</td>\n",
       "      <td>450000.0</td>\n",
       "      <td>510.00</td>\n",
       "      <td>882.3529</td>\n",
       "    </tr>\n",
       "    <tr>\n",
       "      <th>59845</th>\n",
       "      <td>16730717</td>\n",
       "      <td>منطقة الجوف</td>\n",
       "      <td>طبرجل</td>\n",
       "      <td>حي/بسيطاء</td>\n",
       "      <td>2022-04-14</td>\n",
       "      <td>زراعي</td>\n",
       "      <td>أرض زراعية</td>\n",
       "      <td>1</td>\n",
       "      <td>400000.0</td>\n",
       "      <td>1000000.00</td>\n",
       "      <td>0.4000</td>\n",
       "    </tr>\n",
       "  </tbody>\n",
       "</table>\n",
       "<p>142748 rows × 11 columns</p>\n",
       "</div>"
      ],
      "text/plain": [
       "       Reference_Number        Region     City            City/Neighborhood  \\\n",
       "0              18923186  منطقة الرياض  الافلاج                      حي/أخرى   \n",
       "1              18920819  منطقة الرياض  الافلاج                    حي/الريان   \n",
       "2              18923523  منطقة الرياض    الخرج         حي/827 حى هجرة الصاع   \n",
       "3              18909006  منطقة الرياض    الخرج                   حي/الاندلس   \n",
       "4              18857540  منطقة الرياض    الخرج                  حي/الخالديه   \n",
       "...                 ...           ...      ...                          ...   \n",
       "59841          16723273   منطقة الجوف    سكاكا              حي/هديب الجنوبى   \n",
       "59842          16730845   منطقة الجوف    طبرجل         حي/23/ 7/ 2/ 1431/ س   \n",
       "59843          16730691   منطقة الجوف    طبرجل         حي/23/ 7/ 2/ 1431/ س   \n",
       "59844          16728812   منطقة الجوف    طبرجل  حي/6 / 7 / 2/ 1423/ معدل/ س   \n",
       "59845          16730717   منطقة الجوف    طبرجل                    حي/بسيطاء   \n",
       "\n",
       "            Date Property_classification Property_type  Number_of_properties  \\\n",
       "0     2023-01-01                    سكني      قطعة أرض                     1   \n",
       "1     2023-01-01                    سكني      قطعة أرض                     1   \n",
       "2     2023-01-01                    سكني      قطعة أرض                     1   \n",
       "3     2023-01-01                    سكني      قطعة أرض                     1   \n",
       "4     2023-01-01                    سكني      قطعة أرض                     1   \n",
       "...          ...                     ...           ...                   ...   \n",
       "59841 2022-04-14                    سكني      قطعة أرض                     1   \n",
       "59842 2022-04-14                    سكني      قطعة أرض                     1   \n",
       "59843 2022-04-14                    سكني      قطعة أرض                     1   \n",
       "59844 2022-04-14                   زراعي      قطعة أرض                     1   \n",
       "59845 2022-04-14                   زراعي    أرض زراعية                     1   \n",
       "\n",
       "          Price       Space  Price_per_square-meter  \n",
       "0       32000.0      630.00                 50.7936  \n",
       "1       60000.0      690.00                 86.9565  \n",
       "2       20000.0      630.00                 31.7460  \n",
       "3      140000.0      333.00                420.4204  \n",
       "4       50000.0      380.00                131.5789  \n",
       "...         ...         ...                     ...  \n",
       "59841   20000.0      600.00                 33.3333  \n",
       "59842   50000.0      471.85                105.9658  \n",
       "59843   50000.0      507.33                 98.5551  \n",
       "59844  450000.0      510.00                882.3529  \n",
       "59845  400000.0  1000000.00                  0.4000  \n",
       "\n",
       "[142748 rows x 11 columns]"
      ]
     },
     "execution_count": 6,
     "metadata": {},
     "output_type": "execute_result"
    }
   ],
   "source": [
    "RealEstate_Data = pd.concat([data_23_1, data_23_2, data_22_1])\n",
    "RealEstate_Data"
   ]
  },
  {
   "cell_type": "code",
   "execution_count": 7,
   "id": "da3x7G9b_wfj",
   "metadata": {
    "id": "da3x7G9b_wfj",
    "tags": []
   },
   "outputs": [],
   "source": [
    "RealEstate_Data['Region'] = RealEstate_Data['Region'].replace(['منطقة الشرقية','منطقة المدينة المنوره', 'منطقة مكة المكرمة'],['منطقة مكة المكرمه', 'منطقة المدينة المنورة','المنطقة الشرقية'])"
   ]
  },
  {
   "cell_type": "code",
   "execution_count": 8,
   "id": "WZr6tUOfHQya",
   "metadata": {
    "id": "WZr6tUOfHQya"
   },
   "outputs": [],
   "source": [
    "#.replace(['حي','/'],['',''])\n",
    "RealEstate_Data['City/Neighborhood']= RealEstate_Data.loc[:,'City/Neighborhood'].replace('حي/','',regex=True)\n",
    "RealEstate_Data['City/Neighborhood']= RealEstate_Data.loc[:,'City/Neighborhood'].replace('الرياض/','',regex=True)"
   ]
  },
  {
   "cell_type": "code",
   "execution_count": 9,
   "id": "R-2ExBAz5r05",
   "metadata": {
    "id": "R-2ExBAz5r05"
   },
   "outputs": [],
   "source": [
    "#dowloand the new data\n",
    "RealEstate_Data.to_csv('RealEstate_Data.csv', index=False)"
   ]
  },
  {
   "cell_type": "markdown",
   "id": "Q5kDmhKPkyGd",
   "metadata": {
    "id": "Q5kDmhKPkyGd",
    "tags": []
   },
   "source": [
    "## **Second: Data Verification**"
   ]
  },
  {
   "cell_type": "code",
   "execution_count": 3,
   "id": "5yckxHtMJIVL",
   "metadata": {
    "id": "5yckxHtMJIVL"
   },
   "outputs": [],
   "source": [
    "path = pd.read_csv('RealEstate_Data.csv')\n",
    "RealEstate_Data = pd.DSataFrame(path)"
   ]
  },
  {
   "cell_type": "code",
   "execution_count": 4,
   "id": "uXg9_Ql6sl6K",
   "metadata": {
    "colab": {
     "base_uri": "https://localhost:8080/",
     "height": 423
    },
    "id": "uXg9_Ql6sl6K",
    "outputId": "de954d2e-1077-4e95-bd2a-8fb7311d47a8"
   },
   "outputs": [
    {
     "data": {
      "text/html": [
       "<div>\n",
       "<style scoped>\n",
       "    .dataframe tbody tr th:only-of-type {\n",
       "        vertical-align: middle;\n",
       "    }\n",
       "\n",
       "    .dataframe tbody tr th {\n",
       "        vertical-align: top;\n",
       "    }\n",
       "\n",
       "    .dataframe thead th {\n",
       "        text-align: right;\n",
       "    }\n",
       "</style>\n",
       "<table border=\"1\" class=\"dataframe\">\n",
       "  <thead>\n",
       "    <tr style=\"text-align: right;\">\n",
       "      <th></th>\n",
       "      <th>Reference_Number</th>\n",
       "      <th>Region</th>\n",
       "      <th>City</th>\n",
       "      <th>City/Neighborhood</th>\n",
       "      <th>Date</th>\n",
       "      <th>Property_classification</th>\n",
       "      <th>Property_type</th>\n",
       "      <th>Number_of_properties</th>\n",
       "      <th>Price</th>\n",
       "      <th>Space</th>\n",
       "      <th>Price_per_square-meter</th>\n",
       "    </tr>\n",
       "  </thead>\n",
       "  <tbody>\n",
       "    <tr>\n",
       "      <th>0</th>\n",
       "      <td>18923186</td>\n",
       "      <td>منطقة الرياض</td>\n",
       "      <td>الافلاج</td>\n",
       "      <td>أخرى</td>\n",
       "      <td>2023-01-01</td>\n",
       "      <td>سكني</td>\n",
       "      <td>قطعة أرض</td>\n",
       "      <td>1</td>\n",
       "      <td>32000.0</td>\n",
       "      <td>630.00</td>\n",
       "      <td>50.7936</td>\n",
       "    </tr>\n",
       "    <tr>\n",
       "      <th>1</th>\n",
       "      <td>18920819</td>\n",
       "      <td>منطقة الرياض</td>\n",
       "      <td>الافلاج</td>\n",
       "      <td>الريان</td>\n",
       "      <td>2023-01-01</td>\n",
       "      <td>سكني</td>\n",
       "      <td>قطعة أرض</td>\n",
       "      <td>1</td>\n",
       "      <td>60000.0</td>\n",
       "      <td>690.00</td>\n",
       "      <td>86.9565</td>\n",
       "    </tr>\n",
       "    <tr>\n",
       "      <th>2</th>\n",
       "      <td>18923523</td>\n",
       "      <td>منطقة الرياض</td>\n",
       "      <td>الخرج</td>\n",
       "      <td>827 حى هجرة الصاع</td>\n",
       "      <td>2023-01-01</td>\n",
       "      <td>سكني</td>\n",
       "      <td>قطعة أرض</td>\n",
       "      <td>1</td>\n",
       "      <td>20000.0</td>\n",
       "      <td>630.00</td>\n",
       "      <td>31.7460</td>\n",
       "    </tr>\n",
       "    <tr>\n",
       "      <th>3</th>\n",
       "      <td>18909006</td>\n",
       "      <td>منطقة الرياض</td>\n",
       "      <td>الخرج</td>\n",
       "      <td>الاندلس</td>\n",
       "      <td>2023-01-01</td>\n",
       "      <td>سكني</td>\n",
       "      <td>قطعة أرض</td>\n",
       "      <td>1</td>\n",
       "      <td>140000.0</td>\n",
       "      <td>333.00</td>\n",
       "      <td>420.4204</td>\n",
       "    </tr>\n",
       "    <tr>\n",
       "      <th>4</th>\n",
       "      <td>18857540</td>\n",
       "      <td>منطقة الرياض</td>\n",
       "      <td>الخرج</td>\n",
       "      <td>الخالديه</td>\n",
       "      <td>2023-01-01</td>\n",
       "      <td>سكني</td>\n",
       "      <td>قطعة أرض</td>\n",
       "      <td>1</td>\n",
       "      <td>50000.0</td>\n",
       "      <td>380.00</td>\n",
       "      <td>131.5789</td>\n",
       "    </tr>\n",
       "    <tr>\n",
       "      <th>...</th>\n",
       "      <td>...</td>\n",
       "      <td>...</td>\n",
       "      <td>...</td>\n",
       "      <td>...</td>\n",
       "      <td>...</td>\n",
       "      <td>...</td>\n",
       "      <td>...</td>\n",
       "      <td>...</td>\n",
       "      <td>...</td>\n",
       "      <td>...</td>\n",
       "      <td>...</td>\n",
       "    </tr>\n",
       "    <tr>\n",
       "      <th>142743</th>\n",
       "      <td>16723273</td>\n",
       "      <td>منطقة الجوف</td>\n",
       "      <td>سكاكا</td>\n",
       "      <td>هديب الجنوبى</td>\n",
       "      <td>2022-04-14</td>\n",
       "      <td>سكني</td>\n",
       "      <td>قطعة أرض</td>\n",
       "      <td>1</td>\n",
       "      <td>20000.0</td>\n",
       "      <td>600.00</td>\n",
       "      <td>33.3333</td>\n",
       "    </tr>\n",
       "    <tr>\n",
       "      <th>142744</th>\n",
       "      <td>16730845</td>\n",
       "      <td>منطقة الجوف</td>\n",
       "      <td>طبرجل</td>\n",
       "      <td>23/ 7/ 2/ 1431/ س</td>\n",
       "      <td>2022-04-14</td>\n",
       "      <td>سكني</td>\n",
       "      <td>قطعة أرض</td>\n",
       "      <td>1</td>\n",
       "      <td>50000.0</td>\n",
       "      <td>471.85</td>\n",
       "      <td>105.9658</td>\n",
       "    </tr>\n",
       "    <tr>\n",
       "      <th>142745</th>\n",
       "      <td>16730691</td>\n",
       "      <td>منطقة الجوف</td>\n",
       "      <td>طبرجل</td>\n",
       "      <td>23/ 7/ 2/ 1431/ س</td>\n",
       "      <td>2022-04-14</td>\n",
       "      <td>سكني</td>\n",
       "      <td>قطعة أرض</td>\n",
       "      <td>1</td>\n",
       "      <td>50000.0</td>\n",
       "      <td>507.33</td>\n",
       "      <td>98.5551</td>\n",
       "    </tr>\n",
       "    <tr>\n",
       "      <th>142746</th>\n",
       "      <td>16728812</td>\n",
       "      <td>منطقة الجوف</td>\n",
       "      <td>طبرجل</td>\n",
       "      <td>6 / 7 / 2/ 1423/ معدل/ س</td>\n",
       "      <td>2022-04-14</td>\n",
       "      <td>زراعي</td>\n",
       "      <td>قطعة أرض</td>\n",
       "      <td>1</td>\n",
       "      <td>450000.0</td>\n",
       "      <td>510.00</td>\n",
       "      <td>882.3529</td>\n",
       "    </tr>\n",
       "    <tr>\n",
       "      <th>142747</th>\n",
       "      <td>16730717</td>\n",
       "      <td>منطقة الجوف</td>\n",
       "      <td>طبرجل</td>\n",
       "      <td>بسيطاء</td>\n",
       "      <td>2022-04-14</td>\n",
       "      <td>زراعي</td>\n",
       "      <td>أرض زراعية</td>\n",
       "      <td>1</td>\n",
       "      <td>400000.0</td>\n",
       "      <td>1000000.00</td>\n",
       "      <td>0.4000</td>\n",
       "    </tr>\n",
       "  </tbody>\n",
       "</table>\n",
       "<p>142748 rows × 11 columns</p>\n",
       "</div>"
      ],
      "text/plain": [
       "        Reference_Number        Region     City         City/Neighborhood  \\\n",
       "0               18923186  منطقة الرياض  الافلاج                      أخرى   \n",
       "1               18920819  منطقة الرياض  الافلاج                    الريان   \n",
       "2               18923523  منطقة الرياض    الخرج         827 حى هجرة الصاع   \n",
       "3               18909006  منطقة الرياض    الخرج                   الاندلس   \n",
       "4               18857540  منطقة الرياض    الخرج                  الخالديه   \n",
       "...                  ...           ...      ...                       ...   \n",
       "142743          16723273   منطقة الجوف    سكاكا              هديب الجنوبى   \n",
       "142744          16730845   منطقة الجوف    طبرجل         23/ 7/ 2/ 1431/ س   \n",
       "142745          16730691   منطقة الجوف    طبرجل         23/ 7/ 2/ 1431/ س   \n",
       "142746          16728812   منطقة الجوف    طبرجل  6 / 7 / 2/ 1423/ معدل/ س   \n",
       "142747          16730717   منطقة الجوف    طبرجل                    بسيطاء   \n",
       "\n",
       "              Date Property_classification Property_type  \\\n",
       "0       2023-01-01                    سكني      قطعة أرض   \n",
       "1       2023-01-01                    سكني      قطعة أرض   \n",
       "2       2023-01-01                    سكني      قطعة أرض   \n",
       "3       2023-01-01                    سكني      قطعة أرض   \n",
       "4       2023-01-01                    سكني      قطعة أرض   \n",
       "...            ...                     ...           ...   \n",
       "142743  2022-04-14                    سكني      قطعة أرض   \n",
       "142744  2022-04-14                    سكني      قطعة أرض   \n",
       "142745  2022-04-14                    سكني      قطعة أرض   \n",
       "142746  2022-04-14                   زراعي      قطعة أرض   \n",
       "142747  2022-04-14                   زراعي    أرض زراعية   \n",
       "\n",
       "        Number_of_properties     Price       Space  Price_per_square-meter  \n",
       "0                          1   32000.0      630.00                 50.7936  \n",
       "1                          1   60000.0      690.00                 86.9565  \n",
       "2                          1   20000.0      630.00                 31.7460  \n",
       "3                          1  140000.0      333.00                420.4204  \n",
       "4                          1   50000.0      380.00                131.5789  \n",
       "...                      ...       ...         ...                     ...  \n",
       "142743                     1   20000.0      600.00                 33.3333  \n",
       "142744                     1   50000.0      471.85                105.9658  \n",
       "142745                     1   50000.0      507.33                 98.5551  \n",
       "142746                     1  450000.0      510.00                882.3529  \n",
       "142747                     1  400000.0  1000000.00                  0.4000  \n",
       "\n",
       "[142748 rows x 11 columns]"
      ]
     },
     "execution_count": 4,
     "metadata": {},
     "output_type": "execute_result"
    }
   ],
   "source": [
    "RealEstate_Data"
   ]
  },
  {
   "cell_type": "code",
   "execution_count": 11,
   "id": "4ecad9c7",
   "metadata": {
    "colab": {
     "base_uri": "https://localhost:8080/"
    },
    "id": "4ecad9c7",
    "outputId": "725b0e36-ee6c-4edc-f48d-fa43837da50f"
   },
   "outputs": [
    {
     "data": {
      "text/plain": [
       "Reference_Number           0\n",
       "Region                     0\n",
       "City                       0\n",
       "City/Neighborhood          0\n",
       "Date                       0\n",
       "Property_classification    0\n",
       "Property_type              0\n",
       "Number_of_properties       0\n",
       "Price                      0\n",
       "Space                      0\n",
       "Price_per_square-meter     0\n",
       "dtype: int64"
      ]
     },
     "execution_count": 11,
     "metadata": {},
     "output_type": "execute_result"
    }
   ],
   "source": [
    "#to make sure no null values\n",
    "RealEstate_Data.isnull().sum()"
   ]
  },
  {
   "cell_type": "code",
   "execution_count": 12,
   "id": "ebdcac42",
   "metadata": {
    "colab": {
     "base_uri": "https://localhost:8080/"
    },
    "id": "ebdcac42",
    "outputId": "5f71bc1f-cd0a-4d83-9d2a-e1f0cc0a6d62"
   },
   "outputs": [
    {
     "data": {
      "text/plain": [
       "0"
      ]
     },
     "execution_count": 12,
     "metadata": {},
     "output_type": "execute_result"
    }
   ],
   "source": [
    "#no duplicated rows\n",
    "RealEstate_Data.duplicated().sum()"
   ]
  },
  {
   "cell_type": "code",
   "execution_count": 13,
   "id": "c500f30c",
   "metadata": {
    "colab": {
     "base_uri": "https://localhost:8080/"
    },
    "id": "c500f30c",
    "outputId": "8dbdce22-369d-467b-cfc6-5bcf90164bf1"
   },
   "outputs": [
    {
     "data": {
      "text/plain": [
       "منطقة الرياض             49327\n",
       "المنطقة الشرقية          35675\n",
       "منطقة القصيم             13626\n",
       "منطقة مكة المكرمه        13498\n",
       "منطقة المدينة المنورة     6294\n",
       "منطقة عسير                6002\n",
       "منطقة حائل                5625\n",
       "منطقة جازان               2814\n",
       "منطقة تبوك                2628\n",
       "منطقة الجوف               2305\n",
       "منطقة نجران               2156\n",
       "منطقة الحدود الشمالية     2044\n",
       "منطقة الباحة               754\n",
       "Name: Region, dtype: int64"
      ]
     },
     "execution_count": 13,
     "metadata": {},
     "output_type": "execute_result"
    }
   ],
   "source": [
    "\n",
    "RealEstate_Data['Region'].value_counts()"
   ]
  },
  {
   "cell_type": "code",
   "execution_count": 14,
   "id": "42db7cbf",
   "metadata": {
    "colab": {
     "base_uri": "https://localhost:8080/"
    },
    "id": "42db7cbf",
    "outputId": "9d66554f-97c7-4546-b298-45beba72f9a3"
   },
   "outputs": [
    {
     "data": {
      "text/plain": [
       "قطعة أرض      118464\n",
       "شقة            18279\n",
       "أرض زراعية      4547\n",
       "بيت              853\n",
       "فيلا             225\n",
       "معرض/محل         207\n",
       "عمارة             57\n",
       "مرفق              51\n",
       "مركز تجاري        38\n",
       "إستراحة           26\n",
       "قصر                1\n",
       "Name: Property_type, dtype: int64"
      ]
     },
     "execution_count": 14,
     "metadata": {},
     "output_type": "execute_result"
    }
   ],
   "source": [
    "#how many types\n",
    "RealEstate_Data['Property_type'].value_counts()"
   ]
  },
  {
   "cell_type": "code",
   "execution_count": 15,
   "id": "460460ec",
   "metadata": {
    "colab": {
     "base_uri": "https://localhost:8080/"
    },
    "id": "460460ec",
    "outputId": "8fc526db-2f41-494d-aedd-d0c9b43d8ded"
   },
   "outputs": [
    {
     "data": {
      "text/plain": [
       "سكني     110676\n",
       "تجاري     18610\n",
       "زراعي     13384\n",
       "صناعي        78\n",
       "Name: Property_classification, dtype: int64"
      ]
     },
     "execution_count": 15,
     "metadata": {},
     "output_type": "execute_result"
    }
   ],
   "source": [
    "#What are the categories\n",
    "RealEstate_Data[\"Property_classification\"].value_counts()"
   ]
  },
  {
   "cell_type": "code",
   "execution_count": 59,
   "id": "YpvBhmWO2DST",
   "metadata": {
    "id": "YpvBhmWO2DST"
   },
   "outputs": [],
   "source": [
    "RealEstate_Data['Date'] = pd.to_datetime(RealEstate_Data['Date'])\n",
    "RealEstate_Data['month_year'] = RealEstate_Data['Date'].dt.strftime('%B %Y')"
   ]
  },
  {
   "cell_type": "code",
   "execution_count": 60,
   "id": "VF4e8I6d2VuC",
   "metadata": {
    "colab": {
     "base_uri": "https://localhost:8080/",
     "height": 614
    },
    "id": "VF4e8I6d2VuC",
    "outputId": "bfbb1050-7d1f-4746-9b05-e85fa6d099c8"
   },
   "outputs": [
    {
     "data": {
      "text/html": [
       "<div>\n",
       "<style scoped>\n",
       "    .dataframe tbody tr th:only-of-type {\n",
       "        vertical-align: middle;\n",
       "    }\n",
       "\n",
       "    .dataframe tbody tr th {\n",
       "        vertical-align: top;\n",
       "    }\n",
       "\n",
       "    .dataframe thead th {\n",
       "        text-align: right;\n",
       "    }\n",
       "</style>\n",
       "<table border=\"1\" class=\"dataframe\">\n",
       "  <thead>\n",
       "    <tr style=\"text-align: right;\">\n",
       "      <th></th>\n",
       "      <th>Reference_Number</th>\n",
       "      <th>Region</th>\n",
       "      <th>City</th>\n",
       "      <th>City/Neighborhood</th>\n",
       "      <th>Date</th>\n",
       "      <th>Property_classification</th>\n",
       "      <th>Property_type</th>\n",
       "      <th>Number_of_properties</th>\n",
       "      <th>Price</th>\n",
       "      <th>Space</th>\n",
       "      <th>Price_per_square-meter</th>\n",
       "      <th>month_year</th>\n",
       "    </tr>\n",
       "  </thead>\n",
       "  <tbody>\n",
       "    <tr>\n",
       "      <th>0</th>\n",
       "      <td>18923186</td>\n",
       "      <td>منطقة الرياض</td>\n",
       "      <td>الافلاج</td>\n",
       "      <td>أخرى</td>\n",
       "      <td>2023-01-01</td>\n",
       "      <td>سكني</td>\n",
       "      <td>قطعة أرض</td>\n",
       "      <td>1</td>\n",
       "      <td>32000.0</td>\n",
       "      <td>630.00</td>\n",
       "      <td>50.7936</td>\n",
       "      <td>January 2023</td>\n",
       "    </tr>\n",
       "    <tr>\n",
       "      <th>1</th>\n",
       "      <td>18920819</td>\n",
       "      <td>منطقة الرياض</td>\n",
       "      <td>الافلاج</td>\n",
       "      <td>الريان</td>\n",
       "      <td>2023-01-01</td>\n",
       "      <td>سكني</td>\n",
       "      <td>قطعة أرض</td>\n",
       "      <td>1</td>\n",
       "      <td>60000.0</td>\n",
       "      <td>690.00</td>\n",
       "      <td>86.9565</td>\n",
       "      <td>January 2023</td>\n",
       "    </tr>\n",
       "    <tr>\n",
       "      <th>2</th>\n",
       "      <td>18923523</td>\n",
       "      <td>منطقة الرياض</td>\n",
       "      <td>الخرج</td>\n",
       "      <td>827 حى هجرة الصاع</td>\n",
       "      <td>2023-01-01</td>\n",
       "      <td>سكني</td>\n",
       "      <td>قطعة أرض</td>\n",
       "      <td>1</td>\n",
       "      <td>20000.0</td>\n",
       "      <td>630.00</td>\n",
       "      <td>31.7460</td>\n",
       "      <td>January 2023</td>\n",
       "    </tr>\n",
       "    <tr>\n",
       "      <th>3</th>\n",
       "      <td>18909006</td>\n",
       "      <td>منطقة الرياض</td>\n",
       "      <td>الخرج</td>\n",
       "      <td>الاندلس</td>\n",
       "      <td>2023-01-01</td>\n",
       "      <td>سكني</td>\n",
       "      <td>قطعة أرض</td>\n",
       "      <td>1</td>\n",
       "      <td>140000.0</td>\n",
       "      <td>333.00</td>\n",
       "      <td>420.4204</td>\n",
       "      <td>January 2023</td>\n",
       "    </tr>\n",
       "    <tr>\n",
       "      <th>4</th>\n",
       "      <td>18857540</td>\n",
       "      <td>منطقة الرياض</td>\n",
       "      <td>الخرج</td>\n",
       "      <td>الخالديه</td>\n",
       "      <td>2023-01-01</td>\n",
       "      <td>سكني</td>\n",
       "      <td>قطعة أرض</td>\n",
       "      <td>1</td>\n",
       "      <td>50000.0</td>\n",
       "      <td>380.00</td>\n",
       "      <td>131.5789</td>\n",
       "      <td>January 2023</td>\n",
       "    </tr>\n",
       "    <tr>\n",
       "      <th>...</th>\n",
       "      <td>...</td>\n",
       "      <td>...</td>\n",
       "      <td>...</td>\n",
       "      <td>...</td>\n",
       "      <td>...</td>\n",
       "      <td>...</td>\n",
       "      <td>...</td>\n",
       "      <td>...</td>\n",
       "      <td>...</td>\n",
       "      <td>...</td>\n",
       "      <td>...</td>\n",
       "      <td>...</td>\n",
       "    </tr>\n",
       "    <tr>\n",
       "      <th>142743</th>\n",
       "      <td>16723273</td>\n",
       "      <td>منطقة الجوف</td>\n",
       "      <td>سكاكا</td>\n",
       "      <td>هديب الجنوبى</td>\n",
       "      <td>2022-04-14</td>\n",
       "      <td>سكني</td>\n",
       "      <td>قطعة أرض</td>\n",
       "      <td>1</td>\n",
       "      <td>20000.0</td>\n",
       "      <td>600.00</td>\n",
       "      <td>33.3333</td>\n",
       "      <td>April 2022</td>\n",
       "    </tr>\n",
       "    <tr>\n",
       "      <th>142744</th>\n",
       "      <td>16730845</td>\n",
       "      <td>منطقة الجوف</td>\n",
       "      <td>طبرجل</td>\n",
       "      <td>23/ 7/ 2/ 1431/ س</td>\n",
       "      <td>2022-04-14</td>\n",
       "      <td>سكني</td>\n",
       "      <td>قطعة أرض</td>\n",
       "      <td>1</td>\n",
       "      <td>50000.0</td>\n",
       "      <td>471.85</td>\n",
       "      <td>105.9658</td>\n",
       "      <td>April 2022</td>\n",
       "    </tr>\n",
       "    <tr>\n",
       "      <th>142745</th>\n",
       "      <td>16730691</td>\n",
       "      <td>منطقة الجوف</td>\n",
       "      <td>طبرجل</td>\n",
       "      <td>23/ 7/ 2/ 1431/ س</td>\n",
       "      <td>2022-04-14</td>\n",
       "      <td>سكني</td>\n",
       "      <td>قطعة أرض</td>\n",
       "      <td>1</td>\n",
       "      <td>50000.0</td>\n",
       "      <td>507.33</td>\n",
       "      <td>98.5551</td>\n",
       "      <td>April 2022</td>\n",
       "    </tr>\n",
       "    <tr>\n",
       "      <th>142746</th>\n",
       "      <td>16728812</td>\n",
       "      <td>منطقة الجوف</td>\n",
       "      <td>طبرجل</td>\n",
       "      <td>6 / 7 / 2/ 1423/ معدل/ س</td>\n",
       "      <td>2022-04-14</td>\n",
       "      <td>زراعي</td>\n",
       "      <td>قطعة أرض</td>\n",
       "      <td>1</td>\n",
       "      <td>450000.0</td>\n",
       "      <td>510.00</td>\n",
       "      <td>882.3529</td>\n",
       "      <td>April 2022</td>\n",
       "    </tr>\n",
       "    <tr>\n",
       "      <th>142747</th>\n",
       "      <td>16730717</td>\n",
       "      <td>منطقة الجوف</td>\n",
       "      <td>طبرجل</td>\n",
       "      <td>بسيطاء</td>\n",
       "      <td>2022-04-14</td>\n",
       "      <td>زراعي</td>\n",
       "      <td>أرض زراعية</td>\n",
       "      <td>1</td>\n",
       "      <td>400000.0</td>\n",
       "      <td>1000000.00</td>\n",
       "      <td>0.4000</td>\n",
       "      <td>April 2022</td>\n",
       "    </tr>\n",
       "  </tbody>\n",
       "</table>\n",
       "<p>142748 rows × 12 columns</p>\n",
       "</div>"
      ],
      "text/plain": [
       "        Reference_Number        Region     City         City/Neighborhood  \\\n",
       "0               18923186  منطقة الرياض  الافلاج                      أخرى   \n",
       "1               18920819  منطقة الرياض  الافلاج                    الريان   \n",
       "2               18923523  منطقة الرياض    الخرج         827 حى هجرة الصاع   \n",
       "3               18909006  منطقة الرياض    الخرج                   الاندلس   \n",
       "4               18857540  منطقة الرياض    الخرج                  الخالديه   \n",
       "...                  ...           ...      ...                       ...   \n",
       "142743          16723273   منطقة الجوف    سكاكا              هديب الجنوبى   \n",
       "142744          16730845   منطقة الجوف    طبرجل         23/ 7/ 2/ 1431/ س   \n",
       "142745          16730691   منطقة الجوف    طبرجل         23/ 7/ 2/ 1431/ س   \n",
       "142746          16728812   منطقة الجوف    طبرجل  6 / 7 / 2/ 1423/ معدل/ س   \n",
       "142747          16730717   منطقة الجوف    طبرجل                    بسيطاء   \n",
       "\n",
       "             Date Property_classification Property_type  Number_of_properties  \\\n",
       "0      2023-01-01                    سكني      قطعة أرض                     1   \n",
       "1      2023-01-01                    سكني      قطعة أرض                     1   \n",
       "2      2023-01-01                    سكني      قطعة أرض                     1   \n",
       "3      2023-01-01                    سكني      قطعة أرض                     1   \n",
       "4      2023-01-01                    سكني      قطعة أرض                     1   \n",
       "...           ...                     ...           ...                   ...   \n",
       "142743 2022-04-14                    سكني      قطعة أرض                     1   \n",
       "142744 2022-04-14                    سكني      قطعة أرض                     1   \n",
       "142745 2022-04-14                    سكني      قطعة أرض                     1   \n",
       "142746 2022-04-14                   زراعي      قطعة أرض                     1   \n",
       "142747 2022-04-14                   زراعي    أرض زراعية                     1   \n",
       "\n",
       "           Price       Space  Price_per_square-meter    month_year  \n",
       "0        32000.0      630.00                 50.7936  January 2023  \n",
       "1        60000.0      690.00                 86.9565  January 2023  \n",
       "2        20000.0      630.00                 31.7460  January 2023  \n",
       "3       140000.0      333.00                420.4204  January 2023  \n",
       "4        50000.0      380.00                131.5789  January 2023  \n",
       "...          ...         ...                     ...           ...  \n",
       "142743   20000.0      600.00                 33.3333    April 2022  \n",
       "142744   50000.0      471.85                105.9658    April 2022  \n",
       "142745   50000.0      507.33                 98.5551    April 2022  \n",
       "142746  450000.0      510.00                882.3529    April 2022  \n",
       "142747  400000.0  1000000.00                  0.4000    April 2022  \n",
       "\n",
       "[142748 rows x 12 columns]"
      ]
     },
     "execution_count": 60,
     "metadata": {},
     "output_type": "execute_result"
    }
   ],
   "source": [
    "RealEstate_Data"
   ]
  },
  {
   "cell_type": "code",
   "execution_count": 10,
   "id": "3253b585",
   "metadata": {
    "colab": {
     "base_uri": "https://localhost:8080/",
     "height": 423
    },
    "id": "3253b585",
    "outputId": "520e43b1-0b77-4f8f-a398-d2b9324443c0"
   },
   "outputs": [
    {
     "data": {
      "text/html": [
       "<div>\n",
       "<style scoped>\n",
       "    .dataframe tbody tr th:only-of-type {\n",
       "        vertical-align: middle;\n",
       "    }\n",
       "\n",
       "    .dataframe tbody tr th {\n",
       "        vertical-align: top;\n",
       "    }\n",
       "\n",
       "    .dataframe thead th {\n",
       "        text-align: right;\n",
       "    }\n",
       "</style>\n",
       "<table border=\"1\" class=\"dataframe\">\n",
       "  <thead>\n",
       "    <tr style=\"text-align: right;\">\n",
       "      <th></th>\n",
       "      <th>Price</th>\n",
       "      <th>Space</th>\n",
       "    </tr>\n",
       "  </thead>\n",
       "  <tbody>\n",
       "    <tr>\n",
       "      <th>0</th>\n",
       "      <td>32000.0</td>\n",
       "      <td>630.00</td>\n",
       "    </tr>\n",
       "    <tr>\n",
       "      <th>1</th>\n",
       "      <td>60000.0</td>\n",
       "      <td>690.00</td>\n",
       "    </tr>\n",
       "    <tr>\n",
       "      <th>2</th>\n",
       "      <td>20000.0</td>\n",
       "      <td>630.00</td>\n",
       "    </tr>\n",
       "    <tr>\n",
       "      <th>3</th>\n",
       "      <td>140000.0</td>\n",
       "      <td>333.00</td>\n",
       "    </tr>\n",
       "    <tr>\n",
       "      <th>4</th>\n",
       "      <td>50000.0</td>\n",
       "      <td>380.00</td>\n",
       "    </tr>\n",
       "    <tr>\n",
       "      <th>...</th>\n",
       "      <td>...</td>\n",
       "      <td>...</td>\n",
       "    </tr>\n",
       "    <tr>\n",
       "      <th>142743</th>\n",
       "      <td>20000.0</td>\n",
       "      <td>600.00</td>\n",
       "    </tr>\n",
       "    <tr>\n",
       "      <th>142744</th>\n",
       "      <td>50000.0</td>\n",
       "      <td>471.85</td>\n",
       "    </tr>\n",
       "    <tr>\n",
       "      <th>142745</th>\n",
       "      <td>50000.0</td>\n",
       "      <td>507.33</td>\n",
       "    </tr>\n",
       "    <tr>\n",
       "      <th>142746</th>\n",
       "      <td>450000.0</td>\n",
       "      <td>510.00</td>\n",
       "    </tr>\n",
       "    <tr>\n",
       "      <th>142747</th>\n",
       "      <td>400000.0</td>\n",
       "      <td>1000000.00</td>\n",
       "    </tr>\n",
       "  </tbody>\n",
       "</table>\n",
       "<p>142748 rows × 2 columns</p>\n",
       "</div>"
      ],
      "text/plain": [
       "           Price       Space\n",
       "0        32000.0      630.00\n",
       "1        60000.0      690.00\n",
       "2        20000.0      630.00\n",
       "3       140000.0      333.00\n",
       "4        50000.0      380.00\n",
       "...          ...         ...\n",
       "142743   20000.0      600.00\n",
       "142744   50000.0      471.85\n",
       "142745   50000.0      507.33\n",
       "142746  450000.0      510.00\n",
       "142747  400000.0  1000000.00\n",
       "\n",
       "[142748 rows x 2 columns]"
      ]
     },
     "execution_count": 10,
     "metadata": {},
     "output_type": "execute_result"
    }
   ],
   "source": [
    "#create dataframe with each space and its price\n",
    "#finds outliers\n",
    "Price_space = RealEstate_Data[['Price','Space']]\n",
    "Price_space"
   ]
  },
  {
   "cell_type": "code",
   "execution_count": 35,
   "id": "5eaa160e-5946-4b1e-b364-0c4c0ed85d04",
   "metadata": {},
   "outputs": [
    {
     "data": {
      "image/png": "[encoded data removed]",
      "text/plain": [
       "<Figure size 640x480 with 1 Axes>"
      ]
     },
     "metadata": {},
     "output_type": "display_data"
    }
   ],
   "source": [
    "plt.boxplot(RealEstate_Data['Space'])\n",
    "plt.xlabel('Space')\n",
    "plt.title('Box Plot of Space')\n",
    "plt.show()"
   ]
  },
  {
   "cell_type": "code",
   "execution_count": 99,
   "id": "84cc56ac",
   "metadata": {
    "colab": {
     "base_uri": "https://localhost:8080/"
    },
    "id": "84cc56ac",
    "outputId": "24425f16-4f38-4f82-964a-6babd2410929"
   },
   "outputs": [
    {
     "data": {
      "text/plain": [
       "شقة           8384\n",
       "أرض زراعية    4507\n",
       "قطعة أرض       483\n",
       "إستراحة          5\n",
       "بيت              3\n",
       "معرض/محل         2\n",
       "Name: Property_type, dtype: int64"
      ]
     },
     "execution_count": 99,
     "metadata": {},
     "output_type": "execute_result"
    }
   ],
   "source": [
    "agricultural_realestate =RealEstate_Data[RealEstate_Data[\"Property_classification\"]==\"زراعي\"]\n",
    "agricultural_realestate['Property_type'].value_counts()"
   ]
  },
  {
   "cell_type": "code",
   "execution_count": 100,
   "id": "f5cc5d52",
   "metadata": {
    "colab": {
     "base_uri": "https://localhost:8080/"
    },
    "id": "f5cc5d52",
    "outputId": "cc136488-6e64-492b-a0ed-a67f5d57d5c1"
   },
   "outputs": [
    {
     "data": {
      "text/plain": [
       "قطعة أرض      18153\n",
       "شقة             307\n",
       "بيت              44\n",
       "فيلا             32\n",
       "أرض زراعية       21\n",
       "مركز تجاري       21\n",
       "معرض/محل         15\n",
       "مرفق             12\n",
       "عمارة             3\n",
       "قصر               1\n",
       "إستراحة           1\n",
       "Name: Property_type, dtype: int64"
      ]
     },
     "execution_count": 100,
     "metadata": {},
     "output_type": "execute_result"
    }
   ],
   "source": [
    "Commercial_realestate =RealEstate_Data[RealEstate_Data[\"Property_classification\"]==\"تجاري\"]\n",
    "Commercial_realestate['Property_type'].value_counts()"
   ]
  },
  {
   "cell_type": "code",
   "execution_count": 101,
   "id": "16b29980",
   "metadata": {
    "colab": {
     "base_uri": "https://localhost:8080/"
    },
    "id": "16b29980",
    "outputId": "83de2f73-1942-4d6e-b1bc-4607f41a5682"
   },
   "outputs": [
    {
     "data": {
      "text/plain": [
       "قطعة أرض      99750\n",
       "شقة            9588\n",
       "بيت             806\n",
       "فيلا            193\n",
       "معرض/محل        190\n",
       "عمارة            54\n",
       "مرفق             39\n",
       "إستراحة          20\n",
       "أرض زراعية       19\n",
       "مركز تجاري       17\n",
       "Name: Property_type, dtype: int64"
      ]
     },
     "execution_count": 101,
     "metadata": {},
     "output_type": "execute_result"
    }
   ],
   "source": [
    "residential_data = RealEstate_Data[RealEstate_Data[\"Property_classification\"]==\"سكني\"]\n",
    "residential_data['Property_type'].value_counts()"
   ]
  },
  {
   "cell_type": "code",
   "execution_count": 102,
   "id": "gmkfcVpCCGIV",
   "metadata": {
    "colab": {
     "base_uri": "https://localhost:8080/"
    },
    "id": "gmkfcVpCCGIV",
    "outputId": "3dc745d0-b377-4e30-d859-db233ed00442"
   },
   "outputs": [
    {
     "data": {
      "text/plain": [
       "قطعة أرض    78\n",
       "Name: Property_type, dtype: int64"
      ]
     },
     "execution_count": 102,
     "metadata": {},
     "output_type": "execute_result"
    }
   ],
   "source": [
    "Industrial_data = RealEstate_Data[RealEstate_Data[\"Property_classification\"]==\"صناعي\"]\n",
    "Industrial_data['Property_type'].value_counts()"
   ]
  },
  {
   "cell_type": "markdown",
   "id": "8cc8bd4b",
   "metadata": {
    "id": "8cc8bd4b",
    "tags": []
   },
   "source": [
    "Region****\n",
    "\n",
    "## **Third: Doing Operations**"
   ]
  },
  {
   "cell_type": "code",
   "execution_count": 27,
   "id": "4UrPD1eMIrcw",
   "metadata": {
    "colab": {
     "base_uri": "https://localhost:8080/"
    },
    "id": "4UrPD1eMIrcw",
    "outputId": "140268db-4f62-4e08-b579-aab851222a43"
   },
   "outputs": [
    {
     "name": "stdout",
     "output_type": "stream",
     "text": [
      "Requirement already satisfied: arabic_reshaper in c:\\users\\rahaf\\anaconda3\\lib\\site-packages (3.0.0)\n",
      "Note: you may need to restart the kernel to use updated packages.\n"
     ]
    }
   ],
   "source": [
    "pip install arabic_reshaper"
   ]
  },
  {
   "cell_type": "code",
   "execution_count": 28,
   "id": "Ch1OqzSGIvUY",
   "metadata": {
    "colab": {
     "base_uri": "https://localhost:8080/"
    },
    "id": "Ch1OqzSGIvUY",
    "outputId": "996f7fd8-6c49-471a-f213-2839dbbbd3c1"
   },
   "outputs": [
    {
     "name": "stdout",
     "output_type": "stream",
     "text": [
      "Requirement already satisfied: python-bidi in c:\\users\\rahaf\\anaconda3\\lib\\site-packages (0.4.2)\n",
      "Requirement already satisfied: six in c:\\users\\rahaf\\anaconda3\\lib\\site-packages (from python-bidi) (1.16.0)\n",
      "Note: you may need to restart the kernel to use updated packages.\n"
     ]
    }
   ],
   "source": [
    "pip install python-bidi"
   ]
  },
  {
   "cell_type": "code",
   "execution_count": 55,
   "id": "030ac6ce",
   "metadata": {
    "id": "030ac6ce"
   },
   "outputs": [],
   "source": [
    "#for arabic words \n",
    "import arabic_reshaper\n",
    "from bidi.algorithm import get_display\n",
    "def handle_arabic(input_string):\n",
    "    reshaped_text = arabic_reshaper.reshape(input_string)\n",
    "    return get_display(reshaped_text)"
   ]
  },
  {
   "cell_type": "code",
   "execution_count": 62,
   "id": "575e3ba4",
   "metadata": {
    "colab": {
     "base_uri": "https://localhost:8080/",
     "height": 927
    },
    "id": "575e3ba4",
    "outputId": "7488017a-fad3-4e39-b063-4d54edefb7fa"
   },
   "outputs": [
    {
     "data": {
      "text/html": [
       "<div>\n",
       "<style scoped>\n",
       "    .dataframe tbody tr th:only-of-type {\n",
       "        vertical-align: middle;\n",
       "    }\n",
       "\n",
       "    .dataframe tbody tr th {\n",
       "        vertical-align: top;\n",
       "    }\n",
       "\n",
       "    .dataframe thead th {\n",
       "        text-align: right;\n",
       "    }\n",
       "</style>\n",
       "<table border=\"1\" class=\"dataframe\">\n",
       "  <thead>\n",
       "    <tr style=\"text-align: right;\">\n",
       "      <th></th>\n",
       "      <th>Property_classification</th>\n",
       "      <th>Property_type</th>\n",
       "      <th>Price</th>\n",
       "    </tr>\n",
       "  </thead>\n",
       "  <tbody>\n",
       "    <tr>\n",
       "      <th>0</th>\n",
       "      <td>تجاري</td>\n",
       "      <td>أرض زراعية</td>\n",
       "      <td>9.083199e+06</td>\n",
       "    </tr>\n",
       "    <tr>\n",
       "      <th>1</th>\n",
       "      <td>تجاري</td>\n",
       "      <td>إستراحة</td>\n",
       "      <td>1.325000e+06</td>\n",
       "    </tr>\n",
       "    <tr>\n",
       "      <th>2</th>\n",
       "      <td>تجاري</td>\n",
       "      <td>بيت</td>\n",
       "      <td>7.788746e+05</td>\n",
       "    </tr>\n",
       "    <tr>\n",
       "      <th>3</th>\n",
       "      <td>تجاري</td>\n",
       "      <td>شقة</td>\n",
       "      <td>4.756832e+05</td>\n",
       "    </tr>\n",
       "    <tr>\n",
       "      <th>4</th>\n",
       "      <td>تجاري</td>\n",
       "      <td>عمارة</td>\n",
       "      <td>4.725000e+06</td>\n",
       "    </tr>\n",
       "    <tr>\n",
       "      <th>5</th>\n",
       "      <td>تجاري</td>\n",
       "      <td>فيلا</td>\n",
       "      <td>2.374387e+06</td>\n",
       "    </tr>\n",
       "    <tr>\n",
       "      <th>6</th>\n",
       "      <td>تجاري</td>\n",
       "      <td>قصر</td>\n",
       "      <td>4.696720e+07</td>\n",
       "    </tr>\n",
       "    <tr>\n",
       "      <th>7</th>\n",
       "      <td>تجاري</td>\n",
       "      <td>قطعة أرض</td>\n",
       "      <td>2.541867e+06</td>\n",
       "    </tr>\n",
       "    <tr>\n",
       "      <th>8</th>\n",
       "      <td>تجاري</td>\n",
       "      <td>مرفق</td>\n",
       "      <td>2.586978e+07</td>\n",
       "    </tr>\n",
       "    <tr>\n",
       "      <th>9</th>\n",
       "      <td>تجاري</td>\n",
       "      <td>مركز تجاري</td>\n",
       "      <td>1.036844e+07</td>\n",
       "    </tr>\n",
       "    <tr>\n",
       "      <th>10</th>\n",
       "      <td>تجاري</td>\n",
       "      <td>معرض/محل</td>\n",
       "      <td>1.346667e+06</td>\n",
       "    </tr>\n",
       "    <tr>\n",
       "      <th>11</th>\n",
       "      <td>زراعي</td>\n",
       "      <td>أرض زراعية</td>\n",
       "      <td>1.031918e+06</td>\n",
       "    </tr>\n",
       "    <tr>\n",
       "      <th>12</th>\n",
       "      <td>زراعي</td>\n",
       "      <td>إستراحة</td>\n",
       "      <td>8.460000e+05</td>\n",
       "    </tr>\n",
       "    <tr>\n",
       "      <th>13</th>\n",
       "      <td>زراعي</td>\n",
       "      <td>بيت</td>\n",
       "      <td>6.396667e+05</td>\n",
       "    </tr>\n",
       "    <tr>\n",
       "      <th>14</th>\n",
       "      <td>زراعي</td>\n",
       "      <td>شقة</td>\n",
       "      <td>6.851111e+05</td>\n",
       "    </tr>\n",
       "    <tr>\n",
       "      <th>15</th>\n",
       "      <td>زراعي</td>\n",
       "      <td>قطعة أرض</td>\n",
       "      <td>7.518988e+05</td>\n",
       "    </tr>\n",
       "    <tr>\n",
       "      <th>16</th>\n",
       "      <td>زراعي</td>\n",
       "      <td>معرض/محل</td>\n",
       "      <td>3.300000e+05</td>\n",
       "    </tr>\n",
       "    <tr>\n",
       "      <th>17</th>\n",
       "      <td>سكني</td>\n",
       "      <td>أرض زراعية</td>\n",
       "      <td>2.430019e+06</td>\n",
       "    </tr>\n",
       "    <tr>\n",
       "      <th>18</th>\n",
       "      <td>سكني</td>\n",
       "      <td>إستراحة</td>\n",
       "      <td>6.016132e+05</td>\n",
       "    </tr>\n",
       "    <tr>\n",
       "      <th>19</th>\n",
       "      <td>سكني</td>\n",
       "      <td>بيت</td>\n",
       "      <td>3.608733e+05</td>\n",
       "    </tr>\n",
       "    <tr>\n",
       "      <th>20</th>\n",
       "      <td>سكني</td>\n",
       "      <td>شقة</td>\n",
       "      <td>6.350210e+05</td>\n",
       "    </tr>\n",
       "    <tr>\n",
       "      <th>21</th>\n",
       "      <td>سكني</td>\n",
       "      <td>عمارة</td>\n",
       "      <td>6.285293e+05</td>\n",
       "    </tr>\n",
       "    <tr>\n",
       "      <th>22</th>\n",
       "      <td>سكني</td>\n",
       "      <td>فيلا</td>\n",
       "      <td>1.059827e+06</td>\n",
       "    </tr>\n",
       "    <tr>\n",
       "      <th>23</th>\n",
       "      <td>سكني</td>\n",
       "      <td>قطعة أرض</td>\n",
       "      <td>7.496867e+05</td>\n",
       "    </tr>\n",
       "    <tr>\n",
       "      <th>24</th>\n",
       "      <td>سكني</td>\n",
       "      <td>مرفق</td>\n",
       "      <td>8.104545e+06</td>\n",
       "    </tr>\n",
       "    <tr>\n",
       "      <th>25</th>\n",
       "      <td>سكني</td>\n",
       "      <td>مركز تجاري</td>\n",
       "      <td>3.356495e+06</td>\n",
       "    </tr>\n",
       "    <tr>\n",
       "      <th>26</th>\n",
       "      <td>سكني</td>\n",
       "      <td>معرض/محل</td>\n",
       "      <td>4.458290e+05</td>\n",
       "    </tr>\n",
       "    <tr>\n",
       "      <th>27</th>\n",
       "      <td>صناعي</td>\n",
       "      <td>قطعة أرض</td>\n",
       "      <td>7.259071e+06</td>\n",
       "    </tr>\n",
       "  </tbody>\n",
       "</table>\n",
       "</div>"
      ],
      "text/plain": [
       "   Property_classification Property_type         Price\n",
       "0                    تجاري    أرض زراعية  9.083199e+06\n",
       "1                    تجاري       إستراحة  1.325000e+06\n",
       "2                    تجاري           بيت  7.788746e+05\n",
       "3                    تجاري           شقة  4.756832e+05\n",
       "4                    تجاري         عمارة  4.725000e+06\n",
       "5                    تجاري          فيلا  2.374387e+06\n",
       "6                    تجاري           قصر  4.696720e+07\n",
       "7                    تجاري      قطعة أرض  2.541867e+06\n",
       "8                    تجاري          مرفق  2.586978e+07\n",
       "9                    تجاري    مركز تجاري  1.036844e+07\n",
       "10                   تجاري      معرض/محل  1.346667e+06\n",
       "11                   زراعي    أرض زراعية  1.031918e+06\n",
       "12                   زراعي       إستراحة  8.460000e+05\n",
       "13                   زراعي           بيت  6.396667e+05\n",
       "14                   زراعي           شقة  6.851111e+05\n",
       "15                   زراعي      قطعة أرض  7.518988e+05\n",
       "16                   زراعي      معرض/محل  3.300000e+05\n",
       "17                    سكني    أرض زراعية  2.430019e+06\n",
       "18                    سكني       إستراحة  6.016132e+05\n",
       "19                    سكني           بيت  3.608733e+05\n",
       "20                    سكني           شقة  6.350210e+05\n",
       "21                    سكني         عمارة  6.285293e+05\n",
       "22                    سكني          فيلا  1.059827e+06\n",
       "23                    سكني      قطعة أرض  7.496867e+05\n",
       "24                    سكني          مرفق  8.104545e+06\n",
       "25                    سكني    مركز تجاري  3.356495e+06\n",
       "26                    سكني      معرض/محل  4.458290e+05\n",
       "27                   صناعي      قطعة أرض  7.259071e+06"
      ]
     },
     "execution_count": 62,
     "metadata": {},
     "output_type": "execute_result"
    }
   ],
   "source": [
    "#Average price for each type in each category\n",
    "average_price = RealEstate_Data.loc[:,['Property_classification','Property_type','Price']]\n",
    "data_avrage_price = pd.DataFrame(average_price.groupby(['Property_classification', 'Property_type'])['Price'].mean())\n",
    "data_avrage_price = data_avrage_price.reset_index()\n",
    "data_avrage_price\n"
   ]
  },
  {
   "cell_type": "code",
   "execution_count": 185,
   "id": "2d2b1bce",
   "metadata": {
    "colab": {
     "base_uri": "https://localhost:8080/",
     "height": 515
    },
    "id": "2d2b1bce",
    "outputId": "0c62dc11-9356-4e2a-87bd-ce895f24a4a6",
    "scrolled": true
   },
   "outputs": [
    {
     "data": {
      "image/png": "[encoded data removed]",
      "text/plain": [
       "<Figure size 1000x500 with 1 Axes>"
      ]
     },
     "metadata": {},
     "output_type": "display_data"
    }
   ],
   "source": [
    "plt.figure(figsize=(10, 5))\n",
    "sns.swarmplot(data= data_avrage_price, x=data_avrage_price['Property_classification'].apply(handle_arabic), y='Price',\n",
    "              hue=data_avrage_price['Property_type'].apply(handle_arabic))\n",
    "plt.title(handle_arabic('متوسط الأسعار حسب فئة العقار ونوعه'))\n",
    "plt.ylabel('Average Price')\n",
    "plt.xticks(rotation=45)\n",
    "plt.show()"
   ]
  },
  {
   "cell_type": "code",
   "execution_count": 187,
   "id": "58a57db7-45e4-4b06-aa47-7541c2a6382b",
   "metadata": {},
   "outputs": [
    {
     "data": {
      "image/png": "[encoded data removed]",
      "text/plain": [
       "<Figure size 640x480 with 2 Axes>"
      ]
     },
     "metadata": {},
     "output_type": "display_data"
    }
   ],
   "source": [
    "import seaborn as sns\n",
    "import matplotlib.pyplot as plt\n",
    "\n",
    "data_avrage_price['Property_classification'] = data_avrage_price['Property_classification'].apply(handle_arabic)\n",
    "data_avrage_price['Property_type'] = data_avrage_price['Property_type'].apply(handle_arabic)\n",
    "\n",
    "pivot_table = data_avrage_price.pivot_table(values='Price', index='Property_classification', columns='Property_type')\n",
    "\n",
    "sns.heatmap(pivot_table, cmap='YlGnBu')\n",
    "\n",
    "plt.title('Average Price Heatmap')\n",
    "plt.xlabel('Property Type')\n",
    "plt.ylabel('Property Classification')\n",
    "\n",
    "# Show the plot\n",
    "plt.show()\n"
   ]
  },
  {
   "cell_type": "code",
   "execution_count": 65,
   "id": "95abfd1f",
   "metadata": {
    "colab": {
     "base_uri": "https://localhost:8080/",
     "height": 447
    },
    "id": "95abfd1f",
    "outputId": "098d4c89-9e76-4a47-a668-c66e50f4f79d",
    "scrolled": true
   },
   "outputs": [
    {
     "data": {
      "text/html": [
       "<div>\n",
       "<style scoped>\n",
       "    .dataframe tbody tr th:only-of-type {\n",
       "        vertical-align: middle;\n",
       "    }\n",
       "\n",
       "    .dataframe tbody tr th {\n",
       "        vertical-align: top;\n",
       "    }\n",
       "\n",
       "    .dataframe thead th {\n",
       "        text-align: right;\n",
       "    }\n",
       "</style>\n",
       "<table border=\"1\" class=\"dataframe\">\n",
       "  <thead>\n",
       "    <tr style=\"text-align: right;\">\n",
       "      <th>Property_classification</th>\n",
       "      <th>month_year</th>\n",
       "      <th>تجاري</th>\n",
       "      <th>زراعي</th>\n",
       "      <th>سكني</th>\n",
       "      <th>صناعي</th>\n",
       "    </tr>\n",
       "  </thead>\n",
       "  <tbody>\n",
       "    <tr>\n",
       "      <th>0</th>\n",
       "      <td>2022-02-01</td>\n",
       "      <td>1.939675e+06</td>\n",
       "      <td>8.038751e+05</td>\n",
       "      <td>662606.502120</td>\n",
       "      <td>7.212500e+05</td>\n",
       "    </tr>\n",
       "    <tr>\n",
       "      <th>1</th>\n",
       "      <td>2022-03-01</td>\n",
       "      <td>1.849617e+06</td>\n",
       "      <td>8.426284e+05</td>\n",
       "      <td>699829.112481</td>\n",
       "      <td>0.000000e+00</td>\n",
       "    </tr>\n",
       "    <tr>\n",
       "      <th>2</th>\n",
       "      <td>2022-04-01</td>\n",
       "      <td>2.670421e+06</td>\n",
       "      <td>8.527745e+05</td>\n",
       "      <td>688755.584155</td>\n",
       "      <td>0.000000e+00</td>\n",
       "    </tr>\n",
       "    <tr>\n",
       "      <th>3</th>\n",
       "      <td>2023-01-01</td>\n",
       "      <td>2.558245e+06</td>\n",
       "      <td>7.479668e+05</td>\n",
       "      <td>718848.756851</td>\n",
       "      <td>0.000000e+00</td>\n",
       "    </tr>\n",
       "    <tr>\n",
       "      <th>4</th>\n",
       "      <td>2023-02-01</td>\n",
       "      <td>1.853884e+06</td>\n",
       "      <td>7.150569e+05</td>\n",
       "      <td>735087.079851</td>\n",
       "      <td>2.679765e+06</td>\n",
       "    </tr>\n",
       "    <tr>\n",
       "      <th>5</th>\n",
       "      <td>2023-03-01</td>\n",
       "      <td>3.198365e+06</td>\n",
       "      <td>8.177508e+05</td>\n",
       "      <td>696098.098546</td>\n",
       "      <td>8.866543e+06</td>\n",
       "    </tr>\n",
       "    <tr>\n",
       "      <th>6</th>\n",
       "      <td>2023-04-01</td>\n",
       "      <td>2.663128e+06</td>\n",
       "      <td>1.680718e+06</td>\n",
       "      <td>756282.137169</td>\n",
       "      <td>0.000000e+00</td>\n",
       "    </tr>\n",
       "    <tr>\n",
       "      <th>7</th>\n",
       "      <td>2023-05-01</td>\n",
       "      <td>2.758140e+06</td>\n",
       "      <td>8.920546e+05</td>\n",
       "      <td>884776.768807</td>\n",
       "      <td>0.000000e+00</td>\n",
       "    </tr>\n",
       "    <tr>\n",
       "      <th>8</th>\n",
       "      <td>2023-06-01</td>\n",
       "      <td>4.357557e+06</td>\n",
       "      <td>7.888671e+05</td>\n",
       "      <td>853420.645402</td>\n",
       "      <td>0.000000e+00</td>\n",
       "    </tr>\n",
       "  </tbody>\n",
       "</table>\n",
       "</div>"
      ],
      "text/plain": [
       "Property_classification month_year         تجاري         زراعي           سكني  \\\n",
       "0                       2022-02-01  1.939675e+06  8.038751e+05  662606.502120   \n",
       "1                       2022-03-01  1.849617e+06  8.426284e+05  699829.112481   \n",
       "2                       2022-04-01  2.670421e+06  8.527745e+05  688755.584155   \n",
       "3                       2023-01-01  2.558245e+06  7.479668e+05  718848.756851   \n",
       "4                       2023-02-01  1.853884e+06  7.150569e+05  735087.079851   \n",
       "5                       2023-03-01  3.198365e+06  8.177508e+05  696098.098546   \n",
       "6                       2023-04-01  2.663128e+06  1.680718e+06  756282.137169   \n",
       "7                       2023-05-01  2.758140e+06  8.920546e+05  884776.768807   \n",
       "8                       2023-06-01  4.357557e+06  7.888671e+05  853420.645402   \n",
       "\n",
       "Property_classification         صناعي  \n",
       "0                        7.212500e+05  \n",
       "1                        0.000000e+00  \n",
       "2                        0.000000e+00  \n",
       "3                        0.000000e+00  \n",
       "4                        2.679765e+06  \n",
       "5                        8.866543e+06  \n",
       "6                        0.000000e+00  \n",
       "7                        0.000000e+00  \n",
       "8                        0.000000e+00  "
      ]
     },
     "execution_count": 65,
     "metadata": {},
     "output_type": "execute_result"
    }
   ],
   "source": [
    "#A representation of the price increases for each category\n",
    "\n",
    "average_prices2 = RealEstate_Data.groupby(['Property_classification', 'month_year'])['Price'].mean().reset_index()\n",
    "pivot_table = average_prices2.pivot(index='month_year', columns='Property_classification', values='Price')\n",
    "pivot_table\n",
    "pivot_table = pivot_table.fillna(0)\n",
    "pivot_table.reset_index(inplace=True)\n",
    "pivot_table"
   ]
  },
  {
   "cell_type": "code",
   "execution_count": 75,
   "id": "tSZaxHCZJw9A",
   "metadata": {
    "id": "tSZaxHCZJw9A"
   },
   "outputs": [],
   "source": [
    "import plotly.offline as pyo\n",
    "import plotly.graph_objs as go"
   ]
  },
  {
   "cell_type": "code",
   "execution_count": 87,
   "id": "AJxpBrgCJx6W",
   "metadata": {
    "colab": {
     "base_uri": "https://localhost:8080/",
     "height": 542
    },
    "id": "AJxpBrgCJx6W",
    "outputId": "14d6a3e6-a2fc-4cb5-b37a-2dee92bed437"
   },
   "outputs": [
    {
     "data": {
      "text/html": [
       "        <script type=\"text/javascript\">\n",
       "        window.PlotlyConfig = {MathJaxConfig: 'local'};\n",
       "        if (window.MathJax && window.MathJax.Hub && window.MathJax.Hub.Config) {window.MathJax.Hub.Config({SVG: {font: \"STIX-Web\"}});}\n",
       "        if (typeof require !== 'undefined') {\n",
       "        require.undef(\"plotly\");\n",
       "        requirejs.config({\n",
       "            paths: {\n",
       "                'plotly': ['https://cdn.plot.ly/plotly-2.12.1.min']\n",
       "            }\n",
       "        });\n",
       "        require(['plotly'], function(Plotly) {\n",
       "            window._Plotly = Plotly;\n",
       "        });\n",
       "        }\n",
       "        </script>\n",
       "        "
      ]
     },
     "metadata": {},
     "output_type": "display_data"
    },
    {
     "data": {
      "text/html": [
       "        <script type=\"text/javascript\">\n",
       "        window.PlotlyConfig = {MathJaxConfig: 'local'};\n",
       "        if (window.MathJax && window.MathJax.Hub && window.MathJax.Hub.Config) {window.MathJax.Hub.Config({SVG: {font: \"STIX-Web\"}});}\n",
       "        if (typeof require !== 'undefined') {\n",
       "        require.undef(\"plotly\");\n",
       "        requirejs.config({\n",
       "            paths: {\n",
       "                'plotly': ['https://cdn.plot.ly/plotly-2.12.1.min']\n",
       "            }\n",
       "        });\n",
       "        require(['plotly'], function(Plotly) {\n",
       "            window._Plotly = Plotly;\n",
       "        });\n",
       "        }\n",
       "        </script>\n",
       "        "
      ]
     },
     "metadata": {},
     "output_type": "display_data"
    },
    {
     "data": {
      "application/vnd.plotly.v1+json": {
       "config": {
        "linkText": "Export to plot.ly",
        "plotlyServerURL": "https://plot.ly",
        "showLink": true
       },
       "data": [
        {
         "fill": "tonexty",
         "fillcolor": "rgba(135, 206, 235, 0.3)",
         "line": {
          "color": "rgba(135, 206, 235, 1.0)",
          "dash": "solid",
          "shape": "linear",
          "width": 1.3
         },
         "mode": "lines",
         "name": "تجاري",
         "text": "",
         "type": "scatter",
         "x": [
          "2022-02-01",
          "2022-03-01",
          "2022-04-01",
          "2023-01-01",
          "2023-02-01",
          "2023-03-01",
          "2023-04-01",
          "2023-05-01",
          "2023-06-01"
         ],
         "y": [
          1939674.9990817264,
          1849616.8927304964,
          2670420.7835757057,
          2558244.832068311,
          1853883.9673239437,
          3198364.5318791945,
          2663127.7201565215,
          2758140.0810297704,
          4357557.232302084
         ]
        },
        {
         "fill": "tonexty",
         "fillcolor": "rgba(0, 128, 0, 0.3)",
         "line": {
          "color": "rgba(0, 128, 0, 1.0)",
          "dash": "solid",
          "shape": "linear",
          "width": 1.3
         },
         "mode": "lines",
         "name": "زراعي",
         "text": "",
         "type": "scatter",
         "x": [
          "2022-02-01",
          "2022-03-01",
          "2022-04-01",
          "2023-01-01",
          "2023-02-01",
          "2023-03-01",
          "2023-04-01",
          "2023-05-01",
          "2023-06-01"
         ],
         "y": [
          2743550.141794277,
          2692245.3199893017,
          3523195.2748547755,
          3306211.6784284646,
          2568940.8389483728,
          4016115.343487187,
          4343846.1867544595,
          3650194.665850773,
          5146424.36807336
         ]
        },
        {
         "fill": "tonexty",
         "fillcolor": "rgba(219, 64, 82, 0.3)",
         "line": {
          "color": "rgba(219, 64, 82, 1.0)",
          "dash": "solid",
          "shape": "linear",
          "width": 1.3
         },
         "mode": "lines",
         "name": "سكني",
         "text": "",
         "type": "scatter",
         "x": [
          "2022-02-01",
          "2022-03-01",
          "2022-04-01",
          "2023-01-01",
          "2023-02-01",
          "2023-03-01",
          "2023-04-01",
          "2023-05-01",
          "2023-06-01"
         ],
         "y": [
          3406156.643914295,
          3392074.432470654,
          4211950.859010186,
          4025060.4352799337,
          3304027.9187992653,
          4712213.442033228,
          5100128.3239230495,
          4534971.434657479,
          5999845.013475696
         ]
        },
        {
         "fill": "tonexty",
         "fillcolor": "rgba(128, 0, 0, 0.3)",
         "line": {
          "color": "rgba(128, 0, 0, 1.0)",
          "dash": "solid",
          "shape": "linear",
          "width": 1.3
         },
         "mode": "lines",
         "name": "صناعي",
         "text": "",
         "type": "scatter",
         "x": [
          "2022-02-01",
          "2022-03-01",
          "2022-04-01",
          "2023-01-01",
          "2023-02-01",
          "2023-03-01",
          "2023-04-01",
          "2023-05-01",
          "2023-06-01"
         ],
         "y": [
          4127406.643914295,
          3392074.432470654,
          4211950.859010186,
          4025060.4352799337,
          5983792.518799266,
          13578756.475931533,
          5100128.3239230495,
          4534971.434657479,
          5999845.013475696
         ]
        }
       ],
       "layout": {
        "autosize": true,
        "legend": {
         "bgcolor": "#FFFFFF",
         "font": {
          "color": "#4D5663"
         }
        },
        "paper_bgcolor": "#FFFFFF",
        "plot_bgcolor": "#FFFFFF",
        "template": {
         "data": {
          "bar": [
           {
            "error_x": {
             "color": "#2a3f5f"
            },
            "error_y": {
             "color": "#2a3f5f"
            },
            "marker": {
             "line": {
              "color": "#E5ECF6",
              "width": 0.5
             },
             "pattern": {
              "fillmode": "overlay",
              "size": 10,
              "solidity": 0.2
             }
            },
            "type": "bar"
           }
          ],
          "barpolar": [
           {
            "marker": {
             "line": {
              "color": "#E5ECF6",
              "width": 0.5
             },
             "pattern": {
              "fillmode": "overlay",
              "size": 10,
              "solidity": 0.2
             }
            },
            "type": "barpolar"
           }
          ],
          "carpet": [
           {
            "aaxis": {
             "endlinecolor": "#2a3f5f",
             "gridcolor": "white",
             "linecolor": "white",
             "minorgridcolor": "white",
             "startlinecolor": "#2a3f5f"
            },
            "baxis": {
             "endlinecolor": "#2a3f5f",
             "gridcolor": "white",
             "linecolor": "white",
             "minorgridcolor": "white",
             "startlinecolor": "#2a3f5f"
            },
            "type": "carpet"
           }
          ],
          "choropleth": [
           {
            "colorbar": {
             "outlinewidth": 0,
             "ticks": ""
            },
            "type": "choropleth"
           }
          ],
          "contour": [
           {
            "colorbar": {
             "outlinewidth": 0,
             "ticks": ""
            },
            "colorscale": [
             [
              0,
              "#0d0887"
             ],
             [
              0.1111111111111111,
              "#46039f"
             ],
             [
              0.2222222222222222,
              "#7201a8"
             ],
             [
              0.3333333333333333,
              "#9c179e"
             ],
             [
              0.4444444444444444,
              "#bd3786"
             ],
             [
              0.5555555555555556,
              "#d8576b"
             ],
             [
              0.6666666666666666,
              "#ed7953"
             ],
             [
              0.7777777777777778,
              "#fb9f3a"
             ],
             [
              0.8888888888888888,
              "#fdca26"
             ],
             [
              1,
              "#f0f921"
             ]
            ],
            "type": "contour"
           }
          ],
          "contourcarpet": [
           {
            "colorbar": {
             "outlinewidth": 0,
             "ticks": ""
            },
            "type": "contourcarpet"
           }
          ],
          "heatmap": [
           {
            "colorbar": {
             "outlinewidth": 0,
             "ticks": ""
            },
            "colorscale": [
             [
              0,
              "#0d0887"
             ],
             [
              0.1111111111111111,
              "#46039f"
             ],
             [
              0.2222222222222222,
              "#7201a8"
             ],
             [
              0.3333333333333333,
              "#9c179e"
             ],
             [
              0.4444444444444444,
              "#bd3786"
             ],
             [
              0.5555555555555556,
              "#d8576b"
             ],
             [
              0.6666666666666666,
              "#ed7953"
             ],
             [
              0.7777777777777778,
              "#fb9f3a"
             ],
             [
              0.8888888888888888,
              "#fdca26"
             ],
             [
              1,
              "#f0f921"
             ]
            ],
            "type": "heatmap"
           }
          ],
          "heatmapgl": [
           {
            "colorbar": {
             "outlinewidth": 0,
             "ticks": ""
            },
            "colorscale": [
             [
              0,
              "#0d0887"
             ],
             [
              0.1111111111111111,
              "#46039f"
             ],
             [
              0.2222222222222222,
              "#7201a8"
             ],
             [
              0.3333333333333333,
              "#9c179e"
             ],
             [
              0.4444444444444444,
              "#bd3786"
             ],
             [
              0.5555555555555556,
              "#d8576b"
             ],
             [
              0.6666666666666666,
              "#ed7953"
             ],
             [
              0.7777777777777778,
              "#fb9f3a"
             ],
             [
              0.8888888888888888,
              "#fdca26"
             ],
             [
              1,
              "#f0f921"
             ]
            ],
            "type": "heatmapgl"
           }
          ],
          "histogram": [
           {
            "marker": {
             "pattern": {
              "fillmode": "overlay",
              "size": 10,
              "solidity": 0.2
             }
            },
            "type": "histogram"
           }
          ],
          "histogram2d": [
           {
            "colorbar": {
             "outlinewidth": 0,
             "ticks": ""
            },
            "colorscale": [
             [
              0,
              "#0d0887"
             ],
             [
              0.1111111111111111,
              "#46039f"
             ],
             [
              0.2222222222222222,
              "#7201a8"
             ],
             [
              0.3333333333333333,
              "#9c179e"
             ],
             [
              0.4444444444444444,
              "#bd3786"
             ],
             [
              0.5555555555555556,
              "#d8576b"
             ],
             [
              0.6666666666666666,
              "#ed7953"
             ],
             [
              0.7777777777777778,
              "#fb9f3a"
             ],
             [
              0.8888888888888888,
              "#fdca26"
             ],
             [
              1,
              "#f0f921"
             ]
            ],
            "type": "histogram2d"
           }
          ],
          "histogram2dcontour": [
           {
            "colorbar": {
             "outlinewidth": 0,
             "ticks": ""
            },
            "colorscale": [
             [
              0,
              "#0d0887"
             ],
             [
              0.1111111111111111,
              "#46039f"
             ],
             [
              0.2222222222222222,
              "#7201a8"
             ],
             [
              0.3333333333333333,
              "#9c179e"
             ],
             [
              0.4444444444444444,
              "#bd3786"
             ],
             [
              0.5555555555555556,
              "#d8576b"
             ],
             [
              0.6666666666666666,
              "#ed7953"
             ],
             [
              0.7777777777777778,
              "#fb9f3a"
             ],
             [
              0.8888888888888888,
              "#fdca26"
             ],
             [
              1,
              "#f0f921"
             ]
            ],
            "type": "histogram2dcontour"
           }
          ],
          "mesh3d": [
           {
            "colorbar": {
             "outlinewidth": 0,
             "ticks": ""
            },
            "type": "mesh3d"
           }
          ],
          "parcoords": [
           {
            "line": {
             "colorbar": {
              "outlinewidth": 0,
              "ticks": ""
             }
            },
            "type": "parcoords"
           }
          ],
          "pie": [
           {
            "automargin": true,
            "type": "pie"
           }
          ],
          "scatter": [
           {
            "fillpattern": {
             "fillmode": "overlay",
             "size": 10,
             "solidity": 0.2
            },
            "type": "scatter"
           }
          ],
          "scatter3d": [
           {
            "line": {
             "colorbar": {
              "outlinewidth": 0,
              "ticks": ""
             }
            },
            "marker": {
             "colorbar": {
              "outlinewidth": 0,
              "ticks": ""
             }
            },
            "type": "scatter3d"
           }
          ],
          "scattercarpet": [
           {
            "marker": {
             "colorbar": {
              "outlinewidth": 0,
              "ticks": ""
             }
            },
            "type": "scattercarpet"
           }
          ],
          "scattergeo": [
           {
            "marker": {
             "colorbar": {
              "outlinewidth": 0,
              "ticks": ""
             }
            },
            "type": "scattergeo"
           }
          ],
          "scattergl": [
           {
            "marker": {
             "colorbar": {
              "outlinewidth": 0,
              "ticks": ""
             }
            },
            "type": "scattergl"
           }
          ],
          "scattermapbox": [
           {
            "marker": {
             "colorbar": {
              "outlinewidth": 0,
              "ticks": ""
             }
            },
            "type": "scattermapbox"
           }
          ],
          "scatterpolar": [
           {
            "marker": {
             "colorbar": {
              "outlinewidth": 0,
              "ticks": ""
             }
            },
            "type": "scatterpolar"
           }
          ],
          "scatterpolargl": [
           {
            "marker": {
             "colorbar": {
              "outlinewidth": 0,
              "ticks": ""
             }
            },
            "type": "scatterpolargl"
           }
          ],
          "scatterternary": [
           {
            "marker": {
             "colorbar": {
              "outlinewidth": 0,
              "ticks": ""
             }
            },
            "type": "scatterternary"
           }
          ],
          "surface": [
           {
            "colorbar": {
             "outlinewidth": 0,
             "ticks": ""
            },
            "colorscale": [
             [
              0,
              "#0d0887"
             ],
             [
              0.1111111111111111,
              "#46039f"
             ],
             [
              0.2222222222222222,
              "#7201a8"
             ],
             [
              0.3333333333333333,
              "#9c179e"
             ],
             [
              0.4444444444444444,
              "#bd3786"
             ],
             [
              0.5555555555555556,
              "#d8576b"
             ],
             [
              0.6666666666666666,
              "#ed7953"
             ],
             [
              0.7777777777777778,
              "#fb9f3a"
             ],
             [
              0.8888888888888888,
              "#fdca26"
             ],
             [
              1,
              "#f0f921"
             ]
            ],
            "type": "surface"
           }
          ],
          "table": [
           {
            "cells": {
             "fill": {
              "color": "#EBF0F8"
             },
             "line": {
              "color": "white"
             }
            },
            "header": {
             "fill": {
              "color": "#C8D4E3"
             },
             "line": {
              "color": "white"
             }
            },
            "type": "table"
           }
          ]
         },
         "layout": {
          "annotationdefaults": {
           "arrowcolor": "#2a3f5f",
           "arrowhead": 0,
           "arrowwidth": 1
          },
          "autotypenumbers": "strict",
          "coloraxis": {
           "colorbar": {
            "outlinewidth": 0,
            "ticks": ""
           }
          },
          "colorscale": {
           "diverging": [
            [
             0,
             "#8e0152"
            ],
            [
             0.1,
             "#c51b7d"
            ],
            [
             0.2,
             "#de77ae"
            ],
            [
             0.3,
             "#f1b6da"
            ],
            [
             0.4,
             "#fde0ef"
            ],
            [
             0.5,
             "#f7f7f7"
            ],
            [
             0.6,
             "#e6f5d0"
            ],
            [
             0.7,
             "#b8e186"
            ],
            [
             0.8,
             "#7fbc41"
            ],
            [
             0.9,
             "#4d9221"
            ],
            [
             1,
             "#276419"
            ]
           ],
           "sequential": [
            [
             0,
             "#0d0887"
            ],
            [
             0.1111111111111111,
             "#46039f"
            ],
            [
             0.2222222222222222,
             "#7201a8"
            ],
            [
             0.3333333333333333,
             "#9c179e"
            ],
            [
             0.4444444444444444,
             "#bd3786"
            ],
            [
             0.5555555555555556,
             "#d8576b"
            ],
            [
             0.6666666666666666,
             "#ed7953"
            ],
            [
             0.7777777777777778,
             "#fb9f3a"
            ],
            [
             0.8888888888888888,
             "#fdca26"
            ],
            [
             1,
             "#f0f921"
            ]
           ],
           "sequentialminus": [
            [
             0,
             "#0d0887"
            ],
            [
             0.1111111111111111,
             "#46039f"
            ],
            [
             0.2222222222222222,
             "#7201a8"
            ],
            [
             0.3333333333333333,
             "#9c179e"
            ],
            [
             0.4444444444444444,
             "#bd3786"
            ],
            [
             0.5555555555555556,
             "#d8576b"
            ],
            [
             0.6666666666666666,
             "#ed7953"
            ],
            [
             0.7777777777777778,
             "#fb9f3a"
            ],
            [
             0.8888888888888888,
             "#fdca26"
            ],
            [
             1,
             "#f0f921"
            ]
           ]
          },
          "colorway": [
           "#636efa",
           "#EF553B",
           "#00cc96",
           "#ab63fa",
           "#FFA15A",
           "#19d3f3",
           "#FF6692",
           "#B6E880",
           "#FF97FF",
           "#FECB52"
          ],
          "font": {
           "color": "#2a3f5f"
          },
          "geo": {
           "bgcolor": "white",
           "lakecolor": "white",
           "landcolor": "#E5ECF6",
           "showlakes": true,
           "showland": true,
           "subunitcolor": "white"
          },
          "hoverlabel": {
           "align": "left"
          },
          "hovermode": "closest",
          "mapbox": {
           "style": "light"
          },
          "paper_bgcolor": "white",
          "plot_bgcolor": "#E5ECF6",
          "polar": {
           "angularaxis": {
            "gridcolor": "white",
            "linecolor": "white",
            "ticks": ""
           },
           "bgcolor": "#E5ECF6",
           "radialaxis": {
            "gridcolor": "white",
            "linecolor": "white",
            "ticks": ""
           }
          },
          "scene": {
           "xaxis": {
            "backgroundcolor": "#E5ECF6",
            "gridcolor": "white",
            "gridwidth": 2,
            "linecolor": "white",
            "showbackground": true,
            "ticks": "",
            "zerolinecolor": "white"
           },
           "yaxis": {
            "backgroundcolor": "#E5ECF6",
            "gridcolor": "white",
            "gridwidth": 2,
            "linecolor": "white",
            "showbackground": true,
            "ticks": "",
            "zerolinecolor": "white"
           },
           "zaxis": {
            "backgroundcolor": "#E5ECF6",
            "gridcolor": "white",
            "gridwidth": 2,
            "linecolor": "white",
            "showbackground": true,
            "ticks": "",
            "zerolinecolor": "white"
           }
          },
          "shapedefaults": {
           "line": {
            "color": "#2a3f5f"
           }
          },
          "ternary": {
           "aaxis": {
            "gridcolor": "white",
            "linecolor": "white",
            "ticks": ""
           },
           "baxis": {
            "gridcolor": "white",
            "linecolor": "white",
            "ticks": ""
           },
           "bgcolor": "#E5ECF6",
           "caxis": {
            "gridcolor": "white",
            "linecolor": "white",
            "ticks": ""
           }
          },
          "title": {
           "x": 0.05
          },
          "xaxis": {
           "automargin": true,
           "gridcolor": "white",
           "linecolor": "white",
           "ticks": "",
           "title": {
            "standoff": 15
           },
           "zerolinecolor": "white",
           "zerolinewidth": 2
          },
          "yaxis": {
           "automargin": true,
           "gridcolor": "white",
           "linecolor": "white",
           "ticks": "",
           "title": {
            "standoff": 15
           },
           "zerolinecolor": "white",
           "zerolinewidth": 2
          }
         }
        },
        "title": {
         "font": {
          "color": "#4D5663"
         },
         "text": "Stacked Area Chart"
        },
        "xaxis": {
         "autorange": true,
         "gridcolor": "#E1E5ED",
         "range": [
          "2022-02-01",
          "2023-06-01"
         ],
         "showgrid": true,
         "tickfont": {
          "color": "#4D5663"
         },
         "title": {
          "font": {
           "color": "#4D5663"
          },
          "text": ""
         },
         "type": "date",
         "zerolinecolor": "#E1E5ED"
        },
        "yaxis": {
         "autorange": true,
         "gridcolor": "#E1E5ED",
         "range": [
          0,
          14293427.869401613
         ],
         "showgrid": true,
         "tickfont": {
          "color": "#4D5663"
         },
         "title": {
          "font": {
           "color": "#4D5663"
          },
          "text": ""
         },
         "type": "linear",
         "zerolinecolor": "#E1E5ED"
        }
       }
      },
      "image/png": "[encoded data removed]",
      "text/html": [
       "<div>                            <div id=\"409d6b8f-ca7d-4dfe-ae44-b2f4d09faa2d\" class=\"plotly-graph-div\" style=\"height:525px; width:100%;\"></div>            <script type=\"text/javascript\">                require([\"plotly\"], function(Plotly) {                    window.PLOTLYENV=window.PLOTLYENV || {};\n",
       "                    window.PLOTLYENV.BASE_URL='https://plot.ly';                                    if (document.getElementById(\"409d6b8f-ca7d-4dfe-ae44-b2f4d09faa2d\")) {                    Plotly.newPlot(                        \"409d6b8f-ca7d-4dfe-ae44-b2f4d09faa2d\",                        [{\"fill\":\"tonexty\",\"fillcolor\":\"rgba(135, 206, 235, 0.3)\",\"line\":{\"color\":\"rgba(135, 206, 235, 1.0)\",\"dash\":\"solid\",\"shape\":\"linear\",\"width\":1.3},\"mode\":\"lines\",\"name\":\"\\u062a\\u062c\\u0627\\u0631\\u064a\",\"text\":\"\",\"x\":[\"2022-02-01\",\"2022-03-01\",\"2022-04-01\",\"2023-01-01\",\"2023-02-01\",\"2023-03-01\",\"2023-04-01\",\"2023-05-01\",\"2023-06-01\"],\"y\":[1939674.9990817264,1849616.8927304964,2670420.7835757057,2558244.832068311,1853883.9673239437,3198364.5318791945,2663127.7201565215,2758140.0810297704,4357557.232302084],\"type\":\"scatter\"},{\"fill\":\"tonexty\",\"fillcolor\":\"rgba(0, 128, 0, 0.3)\",\"line\":{\"color\":\"rgba(0, 128, 0, 1.0)\",\"dash\":\"solid\",\"shape\":\"linear\",\"width\":1.3},\"mode\":\"lines\",\"name\":\"\\u0632\\u0631\\u0627\\u0639\\u064a\",\"text\":\"\",\"x\":[\"2022-02-01\",\"2022-03-01\",\"2022-04-01\",\"2023-01-01\",\"2023-02-01\",\"2023-03-01\",\"2023-04-01\",\"2023-05-01\",\"2023-06-01\"],\"y\":[2743550.141794277,2692245.3199893017,3523195.2748547755,3306211.6784284646,2568940.8389483728,4016115.343487187,4343846.1867544595,3650194.665850773,5146424.36807336],\"type\":\"scatter\"},{\"fill\":\"tonexty\",\"fillcolor\":\"rgba(219, 64, 82, 0.3)\",\"line\":{\"color\":\"rgba(219, 64, 82, 1.0)\",\"dash\":\"solid\",\"shape\":\"linear\",\"width\":1.3},\"mode\":\"lines\",\"name\":\"\\u0633\\u0643\\u0646\\u064a\",\"text\":\"\",\"x\":[\"2022-02-01\",\"2022-03-01\",\"2022-04-01\",\"2023-01-01\",\"2023-02-01\",\"2023-03-01\",\"2023-04-01\",\"2023-05-01\",\"2023-06-01\"],\"y\":[3406156.643914295,3392074.432470654,4211950.859010186,4025060.4352799337,3304027.9187992653,4712213.442033228,5100128.3239230495,4534971.434657479,5999845.013475696],\"type\":\"scatter\"},{\"fill\":\"tonexty\",\"fillcolor\":\"rgba(128, 0, 0, 0.3)\",\"line\":{\"color\":\"rgba(128, 0, 0, 1.0)\",\"dash\":\"solid\",\"shape\":\"linear\",\"width\":1.3},\"mode\":\"lines\",\"name\":\"\\u0635\\u0646\\u0627\\u0639\\u064a\",\"text\":\"\",\"x\":[\"2022-02-01\",\"2022-03-01\",\"2022-04-01\",\"2023-01-01\",\"2023-02-01\",\"2023-03-01\",\"2023-04-01\",\"2023-05-01\",\"2023-06-01\"],\"y\":[4127406.643914295,3392074.432470654,4211950.859010186,4025060.4352799337,5983792.518799266,13578756.475931533,5100128.3239230495,4534971.434657479,5999845.013475696],\"type\":\"scatter\"}],                        {\"legend\":{\"bgcolor\":\"#FFFFFF\",\"font\":{\"color\":\"#4D5663\"}},\"paper_bgcolor\":\"#FFFFFF\",\"plot_bgcolor\":\"#FFFFFF\",\"template\":{\"data\":{\"barpolar\":[{\"marker\":{\"line\":{\"color\":\"#E5ECF6\",\"width\":0.5},\"pattern\":{\"fillmode\":\"overlay\",\"size\":10,\"solidity\":0.2}},\"type\":\"barpolar\"}],\"bar\":[{\"error_x\":{\"color\":\"#2a3f5f\"},\"error_y\":{\"color\":\"#2a3f5f\"},\"marker\":{\"line\":{\"color\":\"#E5ECF6\",\"width\":0.5},\"pattern\":{\"fillmode\":\"overlay\",\"size\":10,\"solidity\":0.2}},\"type\":\"bar\"}],\"carpet\":[{\"aaxis\":{\"endlinecolor\":\"#2a3f5f\",\"gridcolor\":\"white\",\"linecolor\":\"white\",\"minorgridcolor\":\"white\",\"startlinecolor\":\"#2a3f5f\"},\"baxis\":{\"endlinecolor\":\"#2a3f5f\",\"gridcolor\":\"white\",\"linecolor\":\"white\",\"minorgridcolor\":\"white\",\"startlinecolor\":\"#2a3f5f\"},\"type\":\"carpet\"}],\"choropleth\":[{\"colorbar\":{\"outlinewidth\":0,\"ticks\":\"\"},\"type\":\"choropleth\"}],\"contourcarpet\":[{\"colorbar\":{\"outlinewidth\":0,\"ticks\":\"\"},\"type\":\"contourcarpet\"}],\"contour\":[{\"colorbar\":{\"outlinewidth\":0,\"ticks\":\"\"},\"colorscale\":[[0.0,\"#0d0887\"],[0.1111111111111111,\"#46039f\"],[0.2222222222222222,\"#7201a8\"],[0.3333333333333333,\"#9c179e\"],[0.4444444444444444,\"#bd3786\"],[0.5555555555555556,\"#d8576b\"],[0.6666666666666666,\"#ed7953\"],[0.7777777777777778,\"#fb9f3a\"],[0.8888888888888888,\"#fdca26\"],[1.0,\"#f0f921\"]],\"type\":\"contour\"}],\"heatmapgl\":[{\"colorbar\":{\"outlinewidth\":0,\"ticks\":\"\"},\"colorscale\":[[0.0,\"#0d0887\"],[0.1111111111111111,\"#46039f\"],[0.2222222222222222,\"#7201a8\"],[0.3333333333333333,\"#9c179e\"],[0.4444444444444444,\"#bd3786\"],[0.5555555555555556,\"#d8576b\"],[0.6666666666666666,\"#ed7953\"],[0.7777777777777778,\"#fb9f3a\"],[0.8888888888888888,\"#fdca26\"],[1.0,\"#f0f921\"]],\"type\":\"heatmapgl\"}],\"heatmap\":[{\"colorbar\":{\"outlinewidth\":0,\"ticks\":\"\"},\"colorscale\":[[0.0,\"#0d0887\"],[0.1111111111111111,\"#46039f\"],[0.2222222222222222,\"#7201a8\"],[0.3333333333333333,\"#9c179e\"],[0.4444444444444444,\"#bd3786\"],[0.5555555555555556,\"#d8576b\"],[0.6666666666666666,\"#ed7953\"],[0.7777777777777778,\"#fb9f3a\"],[0.8888888888888888,\"#fdca26\"],[1.0,\"#f0f921\"]],\"type\":\"heatmap\"}],\"histogram2dcontour\":[{\"colorbar\":{\"outlinewidth\":0,\"ticks\":\"\"},\"colorscale\":[[0.0,\"#0d0887\"],[0.1111111111111111,\"#46039f\"],[0.2222222222222222,\"#7201a8\"],[0.3333333333333333,\"#9c179e\"],[0.4444444444444444,\"#bd3786\"],[0.5555555555555556,\"#d8576b\"],[0.6666666666666666,\"#ed7953\"],[0.7777777777777778,\"#fb9f3a\"],[0.8888888888888888,\"#fdca26\"],[1.0,\"#f0f921\"]],\"type\":\"histogram2dcontour\"}],\"histogram2d\":[{\"colorbar\":{\"outlinewidth\":0,\"ticks\":\"\"},\"colorscale\":[[0.0,\"#0d0887\"],[0.1111111111111111,\"#46039f\"],[0.2222222222222222,\"#7201a8\"],[0.3333333333333333,\"#9c179e\"],[0.4444444444444444,\"#bd3786\"],[0.5555555555555556,\"#d8576b\"],[0.6666666666666666,\"#ed7953\"],[0.7777777777777778,\"#fb9f3a\"],[0.8888888888888888,\"#fdca26\"],[1.0,\"#f0f921\"]],\"type\":\"histogram2d\"}],\"histogram\":[{\"marker\":{\"pattern\":{\"fillmode\":\"overlay\",\"size\":10,\"solidity\":0.2}},\"type\":\"histogram\"}],\"mesh3d\":[{\"colorbar\":{\"outlinewidth\":0,\"ticks\":\"\"},\"type\":\"mesh3d\"}],\"parcoords\":[{\"line\":{\"colorbar\":{\"outlinewidth\":0,\"ticks\":\"\"}},\"type\":\"parcoords\"}],\"pie\":[{\"automargin\":true,\"type\":\"pie\"}],\"scatter3d\":[{\"line\":{\"colorbar\":{\"outlinewidth\":0,\"ticks\":\"\"}},\"marker\":{\"colorbar\":{\"outlinewidth\":0,\"ticks\":\"\"}},\"type\":\"scatter3d\"}],\"scattercarpet\":[{\"marker\":{\"colorbar\":{\"outlinewidth\":0,\"ticks\":\"\"}},\"type\":\"scattercarpet\"}],\"scattergeo\":[{\"marker\":{\"colorbar\":{\"outlinewidth\":0,\"ticks\":\"\"}},\"type\":\"scattergeo\"}],\"scattergl\":[{\"marker\":{\"colorbar\":{\"outlinewidth\":0,\"ticks\":\"\"}},\"type\":\"scattergl\"}],\"scattermapbox\":[{\"marker\":{\"colorbar\":{\"outlinewidth\":0,\"ticks\":\"\"}},\"type\":\"scattermapbox\"}],\"scatterpolargl\":[{\"marker\":{\"colorbar\":{\"outlinewidth\":0,\"ticks\":\"\"}},\"type\":\"scatterpolargl\"}],\"scatterpolar\":[{\"marker\":{\"colorbar\":{\"outlinewidth\":0,\"ticks\":\"\"}},\"type\":\"scatterpolar\"}],\"scatter\":[{\"fillpattern\":{\"fillmode\":\"overlay\",\"size\":10,\"solidity\":0.2},\"type\":\"scatter\"}],\"scatterternary\":[{\"marker\":{\"colorbar\":{\"outlinewidth\":0,\"ticks\":\"\"}},\"type\":\"scatterternary\"}],\"surface\":[{\"colorbar\":{\"outlinewidth\":0,\"ticks\":\"\"},\"colorscale\":[[0.0,\"#0d0887\"],[0.1111111111111111,\"#46039f\"],[0.2222222222222222,\"#7201a8\"],[0.3333333333333333,\"#9c179e\"],[0.4444444444444444,\"#bd3786\"],[0.5555555555555556,\"#d8576b\"],[0.6666666666666666,\"#ed7953\"],[0.7777777777777778,\"#fb9f3a\"],[0.8888888888888888,\"#fdca26\"],[1.0,\"#f0f921\"]],\"type\":\"surface\"}],\"table\":[{\"cells\":{\"fill\":{\"color\":\"#EBF0F8\"},\"line\":{\"color\":\"white\"}},\"header\":{\"fill\":{\"color\":\"#C8D4E3\"},\"line\":{\"color\":\"white\"}},\"type\":\"table\"}]},\"layout\":{\"annotationdefaults\":{\"arrowcolor\":\"#2a3f5f\",\"arrowhead\":0,\"arrowwidth\":1},\"autotypenumbers\":\"strict\",\"coloraxis\":{\"colorbar\":{\"outlinewidth\":0,\"ticks\":\"\"}},\"colorscale\":{\"diverging\":[[0,\"#8e0152\"],[0.1,\"#c51b7d\"],[0.2,\"#de77ae\"],[0.3,\"#f1b6da\"],[0.4,\"#fde0ef\"],[0.5,\"#f7f7f7\"],[0.6,\"#e6f5d0\"],[0.7,\"#b8e186\"],[0.8,\"#7fbc41\"],[0.9,\"#4d9221\"],[1,\"#276419\"]],\"sequential\":[[0.0,\"#0d0887\"],[0.1111111111111111,\"#46039f\"],[0.2222222222222222,\"#7201a8\"],[0.3333333333333333,\"#9c179e\"],[0.4444444444444444,\"#bd3786\"],[0.5555555555555556,\"#d8576b\"],[0.6666666666666666,\"#ed7953\"],[0.7777777777777778,\"#fb9f3a\"],[0.8888888888888888,\"#fdca26\"],[1.0,\"#f0f921\"]],\"sequentialminus\":[[0.0,\"#0d0887\"],[0.1111111111111111,\"#46039f\"],[0.2222222222222222,\"#7201a8\"],[0.3333333333333333,\"#9c179e\"],[0.4444444444444444,\"#bd3786\"],[0.5555555555555556,\"#d8576b\"],[0.6666666666666666,\"#ed7953\"],[0.7777777777777778,\"#fb9f3a\"],[0.8888888888888888,\"#fdca26\"],[1.0,\"#f0f921\"]]},\"colorway\":[\"#636efa\",\"#EF553B\",\"#00cc96\",\"#ab63fa\",\"#FFA15A\",\"#19d3f3\",\"#FF6692\",\"#B6E880\",\"#FF97FF\",\"#FECB52\"],\"font\":{\"color\":\"#2a3f5f\"},\"geo\":{\"bgcolor\":\"white\",\"lakecolor\":\"white\",\"landcolor\":\"#E5ECF6\",\"showlakes\":true,\"showland\":true,\"subunitcolor\":\"white\"},\"hoverlabel\":{\"align\":\"left\"},\"hovermode\":\"closest\",\"mapbox\":{\"style\":\"light\"},\"paper_bgcolor\":\"white\",\"plot_bgcolor\":\"#E5ECF6\",\"polar\":{\"angularaxis\":{\"gridcolor\":\"white\",\"linecolor\":\"white\",\"ticks\":\"\"},\"bgcolor\":\"#E5ECF6\",\"radialaxis\":{\"gridcolor\":\"white\",\"linecolor\":\"white\",\"ticks\":\"\"}},\"scene\":{\"xaxis\":{\"backgroundcolor\":\"#E5ECF6\",\"gridcolor\":\"white\",\"gridwidth\":2,\"linecolor\":\"white\",\"showbackground\":true,\"ticks\":\"\",\"zerolinecolor\":\"white\"},\"yaxis\":{\"backgroundcolor\":\"#E5ECF6\",\"gridcolor\":\"white\",\"gridwidth\":2,\"linecolor\":\"white\",\"showbackground\":true,\"ticks\":\"\",\"zerolinecolor\":\"white\"},\"zaxis\":{\"backgroundcolor\":\"#E5ECF6\",\"gridcolor\":\"white\",\"gridwidth\":2,\"linecolor\":\"white\",\"showbackground\":true,\"ticks\":\"\",\"zerolinecolor\":\"white\"}},\"shapedefaults\":{\"line\":{\"color\":\"#2a3f5f\"}},\"ternary\":{\"aaxis\":{\"gridcolor\":\"white\",\"linecolor\":\"white\",\"ticks\":\"\"},\"baxis\":{\"gridcolor\":\"white\",\"linecolor\":\"white\",\"ticks\":\"\"},\"bgcolor\":\"#E5ECF6\",\"caxis\":{\"gridcolor\":\"white\",\"linecolor\":\"white\",\"ticks\":\"\"}},\"title\":{\"x\":0.05},\"xaxis\":{\"automargin\":true,\"gridcolor\":\"white\",\"linecolor\":\"white\",\"ticks\":\"\",\"title\":{\"standoff\":15},\"zerolinecolor\":\"white\",\"zerolinewidth\":2},\"yaxis\":{\"automargin\":true,\"gridcolor\":\"white\",\"linecolor\":\"white\",\"ticks\":\"\",\"title\":{\"standoff\":15},\"zerolinecolor\":\"white\",\"zerolinewidth\":2}}},\"title\":{\"font\":{\"color\":\"#4D5663\"},\"text\":\"Stacked Area Chart\"},\"xaxis\":{\"gridcolor\":\"#E1E5ED\",\"showgrid\":true,\"tickfont\":{\"color\":\"#4D5663\"},\"title\":{\"font\":{\"color\":\"#4D5663\"},\"text\":\"\"},\"zerolinecolor\":\"#E1E5ED\"},\"yaxis\":{\"gridcolor\":\"#E1E5ED\",\"showgrid\":true,\"tickfont\":{\"color\":\"#4D5663\"},\"title\":{\"font\":{\"color\":\"#4D5663\"},\"text\":\"\"},\"zerolinecolor\":\"#E1E5ED\"}},                        {\"showLink\": true, \"linkText\": \"Export to plot.ly\", \"plotlyServerURL\": \"https://plot.ly\", \"responsive\": true}                    ).then(function(){\n",
       "                            \n",
       "var gd = document.getElementById('409d6b8f-ca7d-4dfe-ae44-b2f4d09faa2d');\n",
       "var x = new MutationObserver(function (mutations, observer) {{\n",
       "        var display = window.getComputedStyle(gd).display;\n",
       "        if (!display || display === 'none') {{\n",
       "            console.log([gd, 'removed!']);\n",
       "            Plotly.purge(gd);\n",
       "            observer.disconnect();\n",
       "        }}\n",
       "}});\n",
       "\n",
       "// Listen for the removal of the full notebook cells\n",
       "var notebookContainer = gd.closest('#notebook-container');\n",
       "if (notebookContainer) {{\n",
       "    x.observe(notebookContainer, {childList: true});\n",
       "}}\n",
       "\n",
       "// Listen for the clearing of the current output cell\n",
       "var outputEl = gd.closest('.output');\n",
       "if (outputEl) {{\n",
       "    x.observe(outputEl, {childList: true});\n",
       "}}\n",
       "\n",
       "                        })                };                });            </script>        </div>"
      ]
     },
     "metadata": {},
     "output_type": "display_data"
    }
   ],
   "source": [
    "pyo.init_notebook_mode(connected=True)\n",
    "cf.go_offline()\n",
    "pivot_table.iplot(kind='area', x='month_year', y=['تجاري', 'زراعي', 'سكني', 'صناعي'], fill=True, colors=['skyblue', 'green', 'red', 'maroon'], theme='white', title='Stacked Area Chart')\n"
   ]
  },
  {
   "cell_type": "code",
   "execution_count": 69,
   "id": "mewVx8IS-faK",
   "metadata": {
    "colab": {
     "base_uri": "https://localhost:8080/",
     "height": 489
    },
    "id": "mewVx8IS-faK",
    "outputId": "1f75065e-f309-4221-fad1-2a34271a8f97"
   },
   "outputs": [
    {
     "name": "stderr",
     "output_type": "stream",
     "text": [
      "No artists with labels found to put in legend.  Note that artists whose label start with an underscore are ignored when legend() is called with no argument.\n"
     ]
    },
    {
     "data": {
      "image/png": "[encoded data removed]",
      "text/plain": [
       "<Figure size 640x480 with 1 Axes>"
      ]
     },
     "metadata": {},
     "output_type": "display_data"
    }
   ],
   "source": [
    "#Total transactions in each region\n",
    "\n",
    "districts = RealEstate_Data.groupby('Region')\n",
    "district_deals = districts['Reference_Number'].count()\n",
    "district_deals = district_deals.to_frame('Deals_Count').reset_index()\n",
    "district_deals\n",
    "\n",
    "district_deals = district_deals.sort_values('Deals_Count', ascending=False)\n",
    "\n",
    "plt.barh(district_deals['Region'].apply(handle_arabic), district_deals['Deals_Count'])\n",
    "plt.xlabel('Regions')\n",
    "plt.ylabel('Total Deals')\n",
    "plt.title('Total Deals per Regions')\n",
    "plt.legend(loc='upper left')\n",
    "plt.show()\n"
   ]
  },
  {
   "cell_type": "markdown",
   "id": "jQ18oVxVUYxx",
   "metadata": {
    "id": "jQ18oVxVUYxx",
    "tags": []
   },
   "source": [
    "## **Analysis only in Riyad**"
   ]
  },
  {
   "cell_type": "code",
   "execution_count": 70,
   "id": "CG4A5UtqUXsk",
   "metadata": {
    "colab": {
     "base_uri": "https://localhost:8080/",
     "height": 614
    },
    "id": "CG4A5UtqUXsk",
    "outputId": "2ff28f5d-691e-40a5-f8e8-e009bbff63ab"
   },
   "outputs": [
    {
     "data": {
      "text/html": [
       "<div>\n",
       "<style scoped>\n",
       "    .dataframe tbody tr th:only-of-type {\n",
       "        vertical-align: middle;\n",
       "    }\n",
       "\n",
       "    .dataframe tbody tr th {\n",
       "        vertical-align: top;\n",
       "    }\n",
       "\n",
       "    .dataframe thead th {\n",
       "        text-align: right;\n",
       "    }\n",
       "</style>\n",
       "<table border=\"1\" class=\"dataframe\">\n",
       "  <thead>\n",
       "    <tr style=\"text-align: right;\">\n",
       "      <th></th>\n",
       "      <th>Reference_Number</th>\n",
       "      <th>Region</th>\n",
       "      <th>City</th>\n",
       "      <th>City/Neighborhood</th>\n",
       "      <th>Date</th>\n",
       "      <th>Property_classification</th>\n",
       "      <th>Property_type</th>\n",
       "      <th>Number_of_properties</th>\n",
       "      <th>Price</th>\n",
       "      <th>Space</th>\n",
       "      <th>Price_per_square-meter</th>\n",
       "      <th>month_year</th>\n",
       "    </tr>\n",
       "  </thead>\n",
       "  <tbody>\n",
       "    <tr>\n",
       "      <th>0</th>\n",
       "      <td>18923186</td>\n",
       "      <td>منطقة الرياض</td>\n",
       "      <td>الافلاج</td>\n",
       "      <td>أخرى</td>\n",
       "      <td>2023-01-01</td>\n",
       "      <td>سكني</td>\n",
       "      <td>قطعة أرض</td>\n",
       "      <td>1</td>\n",
       "      <td>32000.0</td>\n",
       "      <td>630.00</td>\n",
       "      <td>50.7936</td>\n",
       "      <td>2023-01-01</td>\n",
       "    </tr>\n",
       "    <tr>\n",
       "      <th>1</th>\n",
       "      <td>18920819</td>\n",
       "      <td>منطقة الرياض</td>\n",
       "      <td>الافلاج</td>\n",
       "      <td>الريان</td>\n",
       "      <td>2023-01-01</td>\n",
       "      <td>سكني</td>\n",
       "      <td>قطعة أرض</td>\n",
       "      <td>1</td>\n",
       "      <td>60000.0</td>\n",
       "      <td>690.00</td>\n",
       "      <td>86.9565</td>\n",
       "      <td>2023-01-01</td>\n",
       "    </tr>\n",
       "    <tr>\n",
       "      <th>2</th>\n",
       "      <td>18923523</td>\n",
       "      <td>منطقة الرياض</td>\n",
       "      <td>الخرج</td>\n",
       "      <td>827 حى هجرة الصاع</td>\n",
       "      <td>2023-01-01</td>\n",
       "      <td>سكني</td>\n",
       "      <td>قطعة أرض</td>\n",
       "      <td>1</td>\n",
       "      <td>20000.0</td>\n",
       "      <td>630.00</td>\n",
       "      <td>31.7460</td>\n",
       "      <td>2023-01-01</td>\n",
       "    </tr>\n",
       "    <tr>\n",
       "      <th>3</th>\n",
       "      <td>18909006</td>\n",
       "      <td>منطقة الرياض</td>\n",
       "      <td>الخرج</td>\n",
       "      <td>الاندلس</td>\n",
       "      <td>2023-01-01</td>\n",
       "      <td>سكني</td>\n",
       "      <td>قطعة أرض</td>\n",
       "      <td>1</td>\n",
       "      <td>140000.0</td>\n",
       "      <td>333.00</td>\n",
       "      <td>420.4204</td>\n",
       "      <td>2023-01-01</td>\n",
       "    </tr>\n",
       "    <tr>\n",
       "      <th>4</th>\n",
       "      <td>18857540</td>\n",
       "      <td>منطقة الرياض</td>\n",
       "      <td>الخرج</td>\n",
       "      <td>الخالديه</td>\n",
       "      <td>2023-01-01</td>\n",
       "      <td>سكني</td>\n",
       "      <td>قطعة أرض</td>\n",
       "      <td>1</td>\n",
       "      <td>50000.0</td>\n",
       "      <td>380.00</td>\n",
       "      <td>131.5789</td>\n",
       "      <td>2023-01-01</td>\n",
       "    </tr>\n",
       "    <tr>\n",
       "      <th>...</th>\n",
       "      <td>...</td>\n",
       "      <td>...</td>\n",
       "      <td>...</td>\n",
       "      <td>...</td>\n",
       "      <td>...</td>\n",
       "      <td>...</td>\n",
       "      <td>...</td>\n",
       "      <td>...</td>\n",
       "      <td>...</td>\n",
       "      <td>...</td>\n",
       "      <td>...</td>\n",
       "      <td>...</td>\n",
       "    </tr>\n",
       "    <tr>\n",
       "      <th>142740</th>\n",
       "      <td>16723883</td>\n",
       "      <td>منطقة الجوف</td>\n",
       "      <td>سكاكا</td>\n",
       "      <td>ج26</td>\n",
       "      <td>2022-04-14</td>\n",
       "      <td>سكني</td>\n",
       "      <td>قطعة أرض</td>\n",
       "      <td>1</td>\n",
       "      <td>50000.0</td>\n",
       "      <td>800.00</td>\n",
       "      <td>62.5000</td>\n",
       "      <td>2022-04-01</td>\n",
       "    </tr>\n",
       "    <tr>\n",
       "      <th>142742</th>\n",
       "      <td>16724005</td>\n",
       "      <td>منطقة الجوف</td>\n",
       "      <td>سكاكا</td>\n",
       "      <td>شمال سكاكا</td>\n",
       "      <td>2022-04-14</td>\n",
       "      <td>سكني</td>\n",
       "      <td>قطعة أرض</td>\n",
       "      <td>1</td>\n",
       "      <td>20000.0</td>\n",
       "      <td>892.79</td>\n",
       "      <td>22.4016</td>\n",
       "      <td>2022-04-01</td>\n",
       "    </tr>\n",
       "    <tr>\n",
       "      <th>142743</th>\n",
       "      <td>16723273</td>\n",
       "      <td>منطقة الجوف</td>\n",
       "      <td>سكاكا</td>\n",
       "      <td>هديب الجنوبى</td>\n",
       "      <td>2022-04-14</td>\n",
       "      <td>سكني</td>\n",
       "      <td>قطعة أرض</td>\n",
       "      <td>1</td>\n",
       "      <td>20000.0</td>\n",
       "      <td>600.00</td>\n",
       "      <td>33.3333</td>\n",
       "      <td>2022-04-01</td>\n",
       "    </tr>\n",
       "    <tr>\n",
       "      <th>142744</th>\n",
       "      <td>16730845</td>\n",
       "      <td>منطقة الجوف</td>\n",
       "      <td>طبرجل</td>\n",
       "      <td>23/ 7/ 2/ 1431/ س</td>\n",
       "      <td>2022-04-14</td>\n",
       "      <td>سكني</td>\n",
       "      <td>قطعة أرض</td>\n",
       "      <td>1</td>\n",
       "      <td>50000.0</td>\n",
       "      <td>471.85</td>\n",
       "      <td>105.9658</td>\n",
       "      <td>2022-04-01</td>\n",
       "    </tr>\n",
       "    <tr>\n",
       "      <th>142745</th>\n",
       "      <td>16730691</td>\n",
       "      <td>منطقة الجوف</td>\n",
       "      <td>طبرجل</td>\n",
       "      <td>23/ 7/ 2/ 1431/ س</td>\n",
       "      <td>2022-04-14</td>\n",
       "      <td>سكني</td>\n",
       "      <td>قطعة أرض</td>\n",
       "      <td>1</td>\n",
       "      <td>50000.0</td>\n",
       "      <td>507.33</td>\n",
       "      <td>98.5551</td>\n",
       "      <td>2022-04-01</td>\n",
       "    </tr>\n",
       "  </tbody>\n",
       "</table>\n",
       "<p>110676 rows × 12 columns</p>\n",
       "</div>"
      ],
      "text/plain": [
       "        Reference_Number        Region     City  City/Neighborhood       Date  \\\n",
       "0               18923186  منطقة الرياض  الافلاج               أخرى 2023-01-01   \n",
       "1               18920819  منطقة الرياض  الافلاج             الريان 2023-01-01   \n",
       "2               18923523  منطقة الرياض    الخرج  827 حى هجرة الصاع 2023-01-01   \n",
       "3               18909006  منطقة الرياض    الخرج            الاندلس 2023-01-01   \n",
       "4               18857540  منطقة الرياض    الخرج           الخالديه 2023-01-01   \n",
       "...                  ...           ...      ...                ...        ...   \n",
       "142740          16723883   منطقة الجوف    سكاكا                ج26 2022-04-14   \n",
       "142742          16724005   منطقة الجوف    سكاكا         شمال سكاكا 2022-04-14   \n",
       "142743          16723273   منطقة الجوف    سكاكا       هديب الجنوبى 2022-04-14   \n",
       "142744          16730845   منطقة الجوف    طبرجل  23/ 7/ 2/ 1431/ س 2022-04-14   \n",
       "142745          16730691   منطقة الجوف    طبرجل  23/ 7/ 2/ 1431/ س 2022-04-14   \n",
       "\n",
       "       Property_classification Property_type  Number_of_properties     Price  \\\n",
       "0                         سكني      قطعة أرض                     1   32000.0   \n",
       "1                         سكني      قطعة أرض                     1   60000.0   \n",
       "2                         سكني      قطعة أرض                     1   20000.0   \n",
       "3                         سكني      قطعة أرض                     1  140000.0   \n",
       "4                         سكني      قطعة أرض                     1   50000.0   \n",
       "...                        ...           ...                   ...       ...   \n",
       "142740                    سكني      قطعة أرض                     1   50000.0   \n",
       "142742                    سكني      قطعة أرض                     1   20000.0   \n",
       "142743                    سكني      قطعة أرض                     1   20000.0   \n",
       "142744                    سكني      قطعة أرض                     1   50000.0   \n",
       "142745                    سكني      قطعة أرض                     1   50000.0   \n",
       "\n",
       "         Space  Price_per_square-meter month_year  \n",
       "0       630.00                 50.7936 2023-01-01  \n",
       "1       690.00                 86.9565 2023-01-01  \n",
       "2       630.00                 31.7460 2023-01-01  \n",
       "3       333.00                420.4204 2023-01-01  \n",
       "4       380.00                131.5789 2023-01-01  \n",
       "...        ...                     ...        ...  \n",
       "142740  800.00                 62.5000 2022-04-01  \n",
       "142742  892.79                 22.4016 2022-04-01  \n",
       "142743  600.00                 33.3333 2022-04-01  \n",
       "142744  471.85                105.9658 2022-04-01  \n",
       "142745  507.33                 98.5551 2022-04-01  \n",
       "\n",
       "[110676 rows x 12 columns]"
      ]
     },
     "execution_count": 70,
     "metadata": {},
     "output_type": "execute_result"
    }
   ],
   "source": [
    "#Residential real estate\n",
    "\n",
    "Residential_data= RealEstate_Data[RealEstate_Data[\"Property_classification\"]==\"سكني\"]\n",
    "Residential_data"
   ]
  },
  {
   "cell_type": "code",
   "execution_count": 71,
   "id": "9zEgIBw1dmsZ",
   "metadata": {
    "colab": {
     "base_uri": "https://localhost:8080/"
    },
    "id": "9zEgIBw1dmsZ",
    "outputId": "acb5cecd-6900-4a3c-e554-665203a0532f"
   },
   "outputs": [
    {
     "data": {
      "text/plain": [
       "False    25688\n",
       "Name: Reference_Number, dtype: int64"
      ]
     },
     "execution_count": 71,
     "metadata": {},
     "output_type": "execute_result"
    }
   ],
   "source": [
    "#Residential real estate in Riyadh\n",
    "riyadh_data = Residential_data.loc[Residential_data['City'] == 'الرياض']\n",
    "riyadh_data['Reference_Number'].duplicated().value_counts()"
   ]
  },
  {
   "cell_type": "code",
   "execution_count": 72,
   "id": "jhRA-W8Z1mvd",
   "metadata": {
    "colab": {
     "base_uri": "https://localhost:8080/",
     "height": 614
    },
    "id": "jhRA-W8Z1mvd",
    "outputId": "d3256ff9-086e-482f-bfa6-b834f6dfd8c3"
   },
   "outputs": [
    {
     "data": {
      "text/html": [
       "<div>\n",
       "<style scoped>\n",
       "    .dataframe tbody tr th:only-of-type {\n",
       "        vertical-align: middle;\n",
       "    }\n",
       "\n",
       "    .dataframe tbody tr th {\n",
       "        vertical-align: top;\n",
       "    }\n",
       "\n",
       "    .dataframe thead th {\n",
       "        text-align: right;\n",
       "    }\n",
       "</style>\n",
       "<table border=\"1\" class=\"dataframe\">\n",
       "  <thead>\n",
       "    <tr style=\"text-align: right;\">\n",
       "      <th></th>\n",
       "      <th>Reference_Number</th>\n",
       "      <th>Region</th>\n",
       "      <th>City</th>\n",
       "      <th>City/Neighborhood</th>\n",
       "      <th>Date</th>\n",
       "      <th>Property_classification</th>\n",
       "      <th>Property_type</th>\n",
       "      <th>Number_of_properties</th>\n",
       "      <th>Price</th>\n",
       "      <th>Space</th>\n",
       "      <th>Price_per_square-meter</th>\n",
       "      <th>month_year</th>\n",
       "    </tr>\n",
       "  </thead>\n",
       "  <tbody>\n",
       "    <tr>\n",
       "      <th>56</th>\n",
       "      <td>18916574</td>\n",
       "      <td>منطقة الرياض</td>\n",
       "      <td>الرياض</td>\n",
       "      <td>اشبيليا</td>\n",
       "      <td>2023-01-01</td>\n",
       "      <td>سكني</td>\n",
       "      <td>قطعة أرض</td>\n",
       "      <td>1</td>\n",
       "      <td>1150000.0</td>\n",
       "      <td>450.00</td>\n",
       "      <td>2555.5555</td>\n",
       "      <td>2023-01-01</td>\n",
       "    </tr>\n",
       "    <tr>\n",
       "      <th>57</th>\n",
       "      <td>18917832</td>\n",
       "      <td>منطقة الرياض</td>\n",
       "      <td>الرياض</td>\n",
       "      <td>اشبيليا</td>\n",
       "      <td>2023-01-01</td>\n",
       "      <td>سكني</td>\n",
       "      <td>قطعة أرض</td>\n",
       "      <td>1</td>\n",
       "      <td>136117.0</td>\n",
       "      <td>450.00</td>\n",
       "      <td>302.4822</td>\n",
       "      <td>2023-01-01</td>\n",
       "    </tr>\n",
       "    <tr>\n",
       "      <th>58</th>\n",
       "      <td>18923510</td>\n",
       "      <td>منطقة الرياض</td>\n",
       "      <td>الرياض</td>\n",
       "      <td>اشبيليا</td>\n",
       "      <td>2023-01-01</td>\n",
       "      <td>سكني</td>\n",
       "      <td>شقة</td>\n",
       "      <td>1</td>\n",
       "      <td>350000.0</td>\n",
       "      <td>166.67</td>\n",
       "      <td>2099.9580</td>\n",
       "      <td>2023-01-01</td>\n",
       "    </tr>\n",
       "    <tr>\n",
       "      <th>59</th>\n",
       "      <td>18921934</td>\n",
       "      <td>منطقة الرياض</td>\n",
       "      <td>الرياض</td>\n",
       "      <td>البيان</td>\n",
       "      <td>2023-01-01</td>\n",
       "      <td>سكني</td>\n",
       "      <td>قطعة أرض</td>\n",
       "      <td>1</td>\n",
       "      <td>922500.0</td>\n",
       "      <td>450.00</td>\n",
       "      <td>2050.0000</td>\n",
       "      <td>2023-01-01</td>\n",
       "    </tr>\n",
       "    <tr>\n",
       "      <th>60</th>\n",
       "      <td>18907617</td>\n",
       "      <td>منطقة الرياض</td>\n",
       "      <td>الرياض</td>\n",
       "      <td>الحمراء</td>\n",
       "      <td>2023-01-01</td>\n",
       "      <td>سكني</td>\n",
       "      <td>قطعة أرض</td>\n",
       "      <td>1</td>\n",
       "      <td>1428600.0</td>\n",
       "      <td>450.00</td>\n",
       "      <td>3174.6666</td>\n",
       "      <td>2023-01-01</td>\n",
       "    </tr>\n",
       "    <tr>\n",
       "      <th>...</th>\n",
       "      <td>...</td>\n",
       "      <td>...</td>\n",
       "      <td>...</td>\n",
       "      <td>...</td>\n",
       "      <td>...</td>\n",
       "      <td>...</td>\n",
       "      <td>...</td>\n",
       "      <td>...</td>\n",
       "      <td>...</td>\n",
       "      <td>...</td>\n",
       "      <td>...</td>\n",
       "      <td>...</td>\n",
       "    </tr>\n",
       "    <tr>\n",
       "      <th>142283</th>\n",
       "      <td>16732007</td>\n",
       "      <td>منطقة الرياض</td>\n",
       "      <td>الرياض</td>\n",
       "      <td>لبن</td>\n",
       "      <td>2022-04-14</td>\n",
       "      <td>سكني</td>\n",
       "      <td>شقة</td>\n",
       "      <td>1</td>\n",
       "      <td>475000.0</td>\n",
       "      <td>140.62</td>\n",
       "      <td>3377.8978</td>\n",
       "      <td>2022-04-01</td>\n",
       "    </tr>\n",
       "    <tr>\n",
       "      <th>142285</th>\n",
       "      <td>16726892</td>\n",
       "      <td>منطقة الرياض</td>\n",
       "      <td>الرياض</td>\n",
       "      <td>نمار</td>\n",
       "      <td>2022-04-14</td>\n",
       "      <td>سكني</td>\n",
       "      <td>قطعة أرض</td>\n",
       "      <td>1</td>\n",
       "      <td>450000.0</td>\n",
       "      <td>450.00</td>\n",
       "      <td>1000.0000</td>\n",
       "      <td>2022-04-01</td>\n",
       "    </tr>\n",
       "    <tr>\n",
       "      <th>142286</th>\n",
       "      <td>16727995</td>\n",
       "      <td>منطقة الرياض</td>\n",
       "      <td>الرياض</td>\n",
       "      <td>نمار</td>\n",
       "      <td>2022-04-14</td>\n",
       "      <td>سكني</td>\n",
       "      <td>قطعة أرض</td>\n",
       "      <td>1</td>\n",
       "      <td>490000.0</td>\n",
       "      <td>468.00</td>\n",
       "      <td>1047.0085</td>\n",
       "      <td>2022-04-01</td>\n",
       "    </tr>\n",
       "    <tr>\n",
       "      <th>142287</th>\n",
       "      <td>16726578</td>\n",
       "      <td>منطقة الرياض</td>\n",
       "      <td>الرياض</td>\n",
       "      <td>نمار</td>\n",
       "      <td>2022-04-14</td>\n",
       "      <td>سكني</td>\n",
       "      <td>قطعة أرض</td>\n",
       "      <td>1</td>\n",
       "      <td>260000.0</td>\n",
       "      <td>230.55</td>\n",
       "      <td>1127.7380</td>\n",
       "      <td>2022-04-01</td>\n",
       "    </tr>\n",
       "    <tr>\n",
       "      <th>142288</th>\n",
       "      <td>16732122</td>\n",
       "      <td>منطقة الرياض</td>\n",
       "      <td>الرياض</td>\n",
       "      <td>نمار</td>\n",
       "      <td>2022-04-14</td>\n",
       "      <td>سكني</td>\n",
       "      <td>قطعة أرض</td>\n",
       "      <td>1</td>\n",
       "      <td>1000000.0</td>\n",
       "      <td>900.00</td>\n",
       "      <td>1111.1111</td>\n",
       "      <td>2022-04-01</td>\n",
       "    </tr>\n",
       "  </tbody>\n",
       "</table>\n",
       "<p>25688 rows × 12 columns</p>\n",
       "</div>"
      ],
      "text/plain": [
       "        Reference_Number        Region    City City/Neighborhood       Date  \\\n",
       "56              18916574  منطقة الرياض  الرياض           اشبيليا 2023-01-01   \n",
       "57              18917832  منطقة الرياض  الرياض           اشبيليا 2023-01-01   \n",
       "58              18923510  منطقة الرياض  الرياض           اشبيليا 2023-01-01   \n",
       "59              18921934  منطقة الرياض  الرياض            البيان 2023-01-01   \n",
       "60              18907617  منطقة الرياض  الرياض           الحمراء 2023-01-01   \n",
       "...                  ...           ...     ...               ...        ...   \n",
       "142283          16732007  منطقة الرياض  الرياض               لبن 2022-04-14   \n",
       "142285          16726892  منطقة الرياض  الرياض              نمار 2022-04-14   \n",
       "142286          16727995  منطقة الرياض  الرياض              نمار 2022-04-14   \n",
       "142287          16726578  منطقة الرياض  الرياض              نمار 2022-04-14   \n",
       "142288          16732122  منطقة الرياض  الرياض              نمار 2022-04-14   \n",
       "\n",
       "       Property_classification Property_type  Number_of_properties      Price  \\\n",
       "56                        سكني      قطعة أرض                     1  1150000.0   \n",
       "57                        سكني      قطعة أرض                     1   136117.0   \n",
       "58                        سكني           شقة                     1   350000.0   \n",
       "59                        سكني      قطعة أرض                     1   922500.0   \n",
       "60                        سكني      قطعة أرض                     1  1428600.0   \n",
       "...                        ...           ...                   ...        ...   \n",
       "142283                    سكني           شقة                     1   475000.0   \n",
       "142285                    سكني      قطعة أرض                     1   450000.0   \n",
       "142286                    سكني      قطعة أرض                     1   490000.0   \n",
       "142287                    سكني      قطعة أرض                     1   260000.0   \n",
       "142288                    سكني      قطعة أرض                     1  1000000.0   \n",
       "\n",
       "         Space  Price_per_square-meter month_year  \n",
       "56      450.00               2555.5555 2023-01-01  \n",
       "57      450.00                302.4822 2023-01-01  \n",
       "58      166.67               2099.9580 2023-01-01  \n",
       "59      450.00               2050.0000 2023-01-01  \n",
       "60      450.00               3174.6666 2023-01-01  \n",
       "...        ...                     ...        ...  \n",
       "142283  140.62               3377.8978 2022-04-01  \n",
       "142285  450.00               1000.0000 2022-04-01  \n",
       "142286  468.00               1047.0085 2022-04-01  \n",
       "142287  230.55               1127.7380 2022-04-01  \n",
       "142288  900.00               1111.1111 2022-04-01  \n",
       "\n",
       "[25688 rows x 12 columns]"
      ]
     },
     "execution_count": 72,
     "metadata": {},
     "output_type": "execute_result"
    }
   ],
   "source": [
    "riyadh_data"
   ]
  },
  {
   "cell_type": "code",
   "execution_count": 73,
   "id": "8362233e-d4ca-4565-8b82-15c73f9cc1fb",
   "metadata": {},
   "outputs": [
    {
     "data": {
      "text/html": [
       "<div>\n",
       "<style scoped>\n",
       "    .dataframe tbody tr th:only-of-type {\n",
       "        vertical-align: middle;\n",
       "    }\n",
       "\n",
       "    .dataframe tbody tr th {\n",
       "        vertical-align: top;\n",
       "    }\n",
       "\n",
       "    .dataframe thead th {\n",
       "        text-align: right;\n",
       "    }\n",
       "</style>\n",
       "<table border=\"1\" class=\"dataframe\">\n",
       "  <thead>\n",
       "    <tr style=\"text-align: right;\">\n",
       "      <th>Property_classification</th>\n",
       "      <th>month_year</th>\n",
       "      <th>سكني</th>\n",
       "    </tr>\n",
       "  </thead>\n",
       "  <tbody>\n",
       "    <tr>\n",
       "      <th>0</th>\n",
       "      <td>2022-02-01</td>\n",
       "      <td>1.035871e+06</td>\n",
       "    </tr>\n",
       "    <tr>\n",
       "      <th>1</th>\n",
       "      <td>2022-03-01</td>\n",
       "      <td>1.167025e+06</td>\n",
       "    </tr>\n",
       "    <tr>\n",
       "      <th>2</th>\n",
       "      <td>2022-04-01</td>\n",
       "      <td>1.249690e+06</td>\n",
       "    </tr>\n",
       "    <tr>\n",
       "      <th>3</th>\n",
       "      <td>2023-01-01</td>\n",
       "      <td>1.338671e+06</td>\n",
       "    </tr>\n",
       "    <tr>\n",
       "      <th>4</th>\n",
       "      <td>2023-02-01</td>\n",
       "      <td>1.168962e+06</td>\n",
       "    </tr>\n",
       "    <tr>\n",
       "      <th>5</th>\n",
       "      <td>2023-03-01</td>\n",
       "      <td>1.391089e+06</td>\n",
       "    </tr>\n",
       "    <tr>\n",
       "      <th>6</th>\n",
       "      <td>2023-04-01</td>\n",
       "      <td>1.355741e+06</td>\n",
       "    </tr>\n",
       "    <tr>\n",
       "      <th>7</th>\n",
       "      <td>2023-05-01</td>\n",
       "      <td>2.007074e+06</td>\n",
       "    </tr>\n",
       "    <tr>\n",
       "      <th>8</th>\n",
       "      <td>2023-06-01</td>\n",
       "      <td>1.498307e+06</td>\n",
       "    </tr>\n",
       "  </tbody>\n",
       "</table>\n",
       "</div>"
      ],
      "text/plain": [
       "Property_classification month_year          سكني\n",
       "0                       2022-02-01  1.035871e+06\n",
       "1                       2022-03-01  1.167025e+06\n",
       "2                       2022-04-01  1.249690e+06\n",
       "3                       2023-01-01  1.338671e+06\n",
       "4                       2023-02-01  1.168962e+06\n",
       "5                       2023-03-01  1.391089e+06\n",
       "6                       2023-04-01  1.355741e+06\n",
       "7                       2023-05-01  2.007074e+06\n",
       "8                       2023-06-01  1.498307e+06"
      ]
     },
     "execution_count": 73,
     "metadata": {},
     "output_type": "execute_result"
    }
   ],
   "source": [
    "average_prices_ryiadh = riyadh_data.groupby(['Property_classification', 'month_year'])['Price'].mean().reset_index()\n",
    "pivot_table2 = average_prices_ryiadh.pivot(index='month_year', columns='Property_classification', values='Price')\n",
    "pivot_table2.reset_index(inplace=True)\n",
    "pivot_table2"
   ]
  },
  {
   "cell_type": "code",
   "execution_count": 76,
   "id": "932c8e21-1aa6-4123-a359-c3d48b3ba858",
   "metadata": {},
   "outputs": [
    {
     "data": {
      "text/html": [
       "        <script type=\"text/javascript\">\n",
       "        window.PlotlyConfig = {MathJaxConfig: 'local'};\n",
       "        if (window.MathJax && window.MathJax.Hub && window.MathJax.Hub.Config) {window.MathJax.Hub.Config({SVG: {font: \"STIX-Web\"}});}\n",
       "        if (typeof require !== 'undefined') {\n",
       "        require.undef(\"plotly\");\n",
       "        requirejs.config({\n",
       "            paths: {\n",
       "                'plotly': ['https://cdn.plot.ly/plotly-2.12.1.min']\n",
       "            }\n",
       "        });\n",
       "        require(['plotly'], function(Plotly) {\n",
       "            window._Plotly = Plotly;\n",
       "        });\n",
       "        }\n",
       "        </script>\n",
       "        "
      ]
     },
     "metadata": {},
     "output_type": "display_data"
    },
    {
     "data": {
      "text/html": [
       "        <script type=\"text/javascript\">\n",
       "        window.PlotlyConfig = {MathJaxConfig: 'local'};\n",
       "        if (window.MathJax && window.MathJax.Hub && window.MathJax.Hub.Config) {window.MathJax.Hub.Config({SVG: {font: \"STIX-Web\"}});}\n",
       "        if (typeof require !== 'undefined') {\n",
       "        require.undef(\"plotly\");\n",
       "        requirejs.config({\n",
       "            paths: {\n",
       "                'plotly': ['https://cdn.plot.ly/plotly-2.12.1.min']\n",
       "            }\n",
       "        });\n",
       "        require(['plotly'], function(Plotly) {\n",
       "            window._Plotly = Plotly;\n",
       "        });\n",
       "        }\n",
       "        </script>\n",
       "        "
      ]
     },
     "metadata": {},
     "output_type": "display_data"
    },
    {
     "data": {
      "application/vnd.plotly.v1+json": {
       "config": {
        "linkText": "Export to plot.ly",
        "plotlyServerURL": "https://plot.ly",
        "showLink": true
       },
       "data": [
        {
         "fill": "tonexty",
         "fillcolor": "rgba(135, 206, 235, 0.3)",
         "line": {
          "color": "rgba(135, 206, 235, 1.0)",
          "dash": "solid",
          "shape": "linear",
          "width": 1.3
         },
         "mode": "lines",
         "name": "سكني",
         "text": "",
         "type": "scatter",
         "x": [
          "2022-02-01",
          "2022-03-01",
          "2022-04-01",
          "2023-01-01",
          "2023-02-01",
          "2023-03-01",
          "2023-04-01",
          "2023-05-01",
          "2023-06-01"
         ],
         "y": [
          1035871.4077208919,
          1167024.5747501086,
          1249689.9412171508,
          1338670.68,
          1168962.1220850481,
          1391089.3928234184,
          1355740.8891161473,
          2007073.9262480228,
          1498307.0702123896
         ]
        }
       ],
       "layout": {
        "autosize": true,
        "legend": {
         "bgcolor": "#FFFFFF",
         "font": {
          "color": "#4D5663"
         }
        },
        "paper_bgcolor": "#FFFFFF",
        "plot_bgcolor": "#FFFFFF",
        "template": {
         "data": {
          "bar": [
           {
            "error_x": {
             "color": "#2a3f5f"
            },
            "error_y": {
             "color": "#2a3f5f"
            },
            "marker": {
             "line": {
              "color": "#E5ECF6",
              "width": 0.5
             },
             "pattern": {
              "fillmode": "overlay",
              "size": 10,
              "solidity": 0.2
             }
            },
            "type": "bar"
           }
          ],
          "barpolar": [
           {
            "marker": {
             "line": {
              "color": "#E5ECF6",
              "width": 0.5
             },
             "pattern": {
              "fillmode": "overlay",
              "size": 10,
              "solidity": 0.2
             }
            },
            "type": "barpolar"
           }
          ],
          "carpet": [
           {
            "aaxis": {
             "endlinecolor": "#2a3f5f",
             "gridcolor": "white",
             "linecolor": "white",
             "minorgridcolor": "white",
             "startlinecolor": "#2a3f5f"
            },
            "baxis": {
             "endlinecolor": "#2a3f5f",
             "gridcolor": "white",
             "linecolor": "white",
             "minorgridcolor": "white",
             "startlinecolor": "#2a3f5f"
            },
            "type": "carpet"
           }
          ],
          "choropleth": [
           {
            "colorbar": {
             "outlinewidth": 0,
             "ticks": ""
            },
            "type": "choropleth"
           }
          ],
          "contour": [
           {
            "colorbar": {
             "outlinewidth": 0,
             "ticks": ""
            },
            "colorscale": [
             [
              0,
              "#0d0887"
             ],
             [
              0.1111111111111111,
              "#46039f"
             ],
             [
              0.2222222222222222,
              "#7201a8"
             ],
             [
              0.3333333333333333,
              "#9c179e"
             ],
             [
              0.4444444444444444,
              "#bd3786"
             ],
             [
              0.5555555555555556,
              "#d8576b"
             ],
             [
              0.6666666666666666,
              "#ed7953"
             ],
             [
              0.7777777777777778,
              "#fb9f3a"
             ],
             [
              0.8888888888888888,
              "#fdca26"
             ],
             [
              1,
              "#f0f921"
             ]
            ],
            "type": "contour"
           }
          ],
          "contourcarpet": [
           {
            "colorbar": {
             "outlinewidth": 0,
             "ticks": ""
            },
            "type": "contourcarpet"
           }
          ],
          "heatmap": [
           {
            "colorbar": {
             "outlinewidth": 0,
             "ticks": ""
            },
            "colorscale": [
             [
              0,
              "#0d0887"
             ],
             [
              0.1111111111111111,
              "#46039f"
             ],
             [
              0.2222222222222222,
              "#7201a8"
             ],
             [
              0.3333333333333333,
              "#9c179e"
             ],
             [
              0.4444444444444444,
              "#bd3786"
             ],
             [
              0.5555555555555556,
              "#d8576b"
             ],
             [
              0.6666666666666666,
              "#ed7953"
             ],
             [
              0.7777777777777778,
              "#fb9f3a"
             ],
             [
              0.8888888888888888,
              "#fdca26"
             ],
             [
              1,
              "#f0f921"
             ]
            ],
            "type": "heatmap"
           }
          ],
          "heatmapgl": [
           {
            "colorbar": {
             "outlinewidth": 0,
             "ticks": ""
            },
            "colorscale": [
             [
              0,
              "#0d0887"
             ],
             [
              0.1111111111111111,
              "#46039f"
             ],
             [
              0.2222222222222222,
              "#7201a8"
             ],
             [
              0.3333333333333333,
              "#9c179e"
             ],
             [
              0.4444444444444444,
              "#bd3786"
             ],
             [
              0.5555555555555556,
              "#d8576b"
             ],
             [
              0.6666666666666666,
              "#ed7953"
             ],
             [
              0.7777777777777778,
              "#fb9f3a"
             ],
             [
              0.8888888888888888,
              "#fdca26"
             ],
             [
              1,
              "#f0f921"
             ]
            ],
            "type": "heatmapgl"
           }
          ],
          "histogram": [
           {
            "marker": {
             "pattern": {
              "fillmode": "overlay",
              "size": 10,
              "solidity": 0.2
             }
            },
            "type": "histogram"
           }
          ],
          "histogram2d": [
           {
            "colorbar": {
             "outlinewidth": 0,
             "ticks": ""
            },
            "colorscale": [
             [
              0,
              "#0d0887"
             ],
             [
              0.1111111111111111,
              "#46039f"
             ],
             [
              0.2222222222222222,
              "#7201a8"
             ],
             [
              0.3333333333333333,
              "#9c179e"
             ],
             [
              0.4444444444444444,
              "#bd3786"
             ],
             [
              0.5555555555555556,
              "#d8576b"
             ],
             [
              0.6666666666666666,
              "#ed7953"
             ],
             [
              0.7777777777777778,
              "#fb9f3a"
             ],
             [
              0.8888888888888888,
              "#fdca26"
             ],
             [
              1,
              "#f0f921"
             ]
            ],
            "type": "histogram2d"
           }
          ],
          "histogram2dcontour": [
           {
            "colorbar": {
             "outlinewidth": 0,
             "ticks": ""
            },
            "colorscale": [
             [
              0,
              "#0d0887"
             ],
             [
              0.1111111111111111,
              "#46039f"
             ],
             [
              0.2222222222222222,
              "#7201a8"
             ],
             [
              0.3333333333333333,
              "#9c179e"
             ],
             [
              0.4444444444444444,
              "#bd3786"
             ],
             [
              0.5555555555555556,
              "#d8576b"
             ],
             [
              0.6666666666666666,
              "#ed7953"
             ],
             [
              0.7777777777777778,
              "#fb9f3a"
             ],
             [
              0.8888888888888888,
              "#fdca26"
             ],
             [
              1,
              "#f0f921"
             ]
            ],
            "type": "histogram2dcontour"
           }
          ],
          "mesh3d": [
           {
            "colorbar": {
             "outlinewidth": 0,
             "ticks": ""
            },
            "type": "mesh3d"
           }
          ],
          "parcoords": [
           {
            "line": {
             "colorbar": {
              "outlinewidth": 0,
              "ticks": ""
             }
            },
            "type": "parcoords"
           }
          ],
          "pie": [
           {
            "automargin": true,
            "type": "pie"
           }
          ],
          "scatter": [
           {
            "fillpattern": {
             "fillmode": "overlay",
             "size": 10,
             "solidity": 0.2
            },
            "type": "scatter"
           }
          ],
          "scatter3d": [
           {
            "line": {
             "colorbar": {
              "outlinewidth": 0,
              "ticks": ""
             }
            },
            "marker": {
             "colorbar": {
              "outlinewidth": 0,
              "ticks": ""
             }
            },
            "type": "scatter3d"
           }
          ],
          "scattercarpet": [
           {
            "marker": {
             "colorbar": {
              "outlinewidth": 0,
              "ticks": ""
             }
            },
            "type": "scattercarpet"
           }
          ],
          "scattergeo": [
           {
            "marker": {
             "colorbar": {
              "outlinewidth": 0,
              "ticks": ""
             }
            },
            "type": "scattergeo"
           }
          ],
          "scattergl": [
           {
            "marker": {
             "colorbar": {
              "outlinewidth": 0,
              "ticks": ""
             }
            },
            "type": "scattergl"
           }
          ],
          "scattermapbox": [
           {
            "marker": {
             "colorbar": {
              "outlinewidth": 0,
              "ticks": ""
             }
            },
            "type": "scattermapbox"
           }
          ],
          "scatterpolar": [
           {
            "marker": {
             "colorbar": {
              "outlinewidth": 0,
              "ticks": ""
             }
            },
            "type": "scatterpolar"
           }
          ],
          "scatterpolargl": [
           {
            "marker": {
             "colorbar": {
              "outlinewidth": 0,
              "ticks": ""
             }
            },
            "type": "scatterpolargl"
           }
          ],
          "scatterternary": [
           {
            "marker": {
             "colorbar": {
              "outlinewidth": 0,
              "ticks": ""
             }
            },
            "type": "scatterternary"
           }
          ],
          "surface": [
           {
            "colorbar": {
             "outlinewidth": 0,
             "ticks": ""
            },
            "colorscale": [
             [
              0,
              "#0d0887"
             ],
             [
              0.1111111111111111,
              "#46039f"
             ],
             [
              0.2222222222222222,
              "#7201a8"
             ],
             [
              0.3333333333333333,
              "#9c179e"
             ],
             [
              0.4444444444444444,
              "#bd3786"
             ],
             [
              0.5555555555555556,
              "#d8576b"
             ],
             [
              0.6666666666666666,
              "#ed7953"
             ],
             [
              0.7777777777777778,
              "#fb9f3a"
             ],
             [
              0.8888888888888888,
              "#fdca26"
             ],
             [
              1,
              "#f0f921"
             ]
            ],
            "type": "surface"
           }
          ],
          "table": [
           {
            "cells": {
             "fill": {
              "color": "#EBF0F8"
             },
             "line": {
              "color": "white"
             }
            },
            "header": {
             "fill": {
              "color": "#C8D4E3"
             },
             "line": {
              "color": "white"
             }
            },
            "type": "table"
           }
          ]
         },
         "layout": {
          "annotationdefaults": {
           "arrowcolor": "#2a3f5f",
           "arrowhead": 0,
           "arrowwidth": 1
          },
          "autotypenumbers": "strict",
          "coloraxis": {
           "colorbar": {
            "outlinewidth": 0,
            "ticks": ""
           }
          },
          "colorscale": {
           "diverging": [
            [
             0,
             "#8e0152"
            ],
            [
             0.1,
             "#c51b7d"
            ],
            [
             0.2,
             "#de77ae"
            ],
            [
             0.3,
             "#f1b6da"
            ],
            [
             0.4,
             "#fde0ef"
            ],
            [
             0.5,
             "#f7f7f7"
            ],
            [
             0.6,
             "#e6f5d0"
            ],
            [
             0.7,
             "#b8e186"
            ],
            [
             0.8,
             "#7fbc41"
            ],
            [
             0.9,
             "#4d9221"
            ],
            [
             1,
             "#276419"
            ]
           ],
           "sequential": [
            [
             0,
             "#0d0887"
            ],
            [
             0.1111111111111111,
             "#46039f"
            ],
            [
             0.2222222222222222,
             "#7201a8"
            ],
            [
             0.3333333333333333,
             "#9c179e"
            ],
            [
             0.4444444444444444,
             "#bd3786"
            ],
            [
             0.5555555555555556,
             "#d8576b"
            ],
            [
             0.6666666666666666,
             "#ed7953"
            ],
            [
             0.7777777777777778,
             "#fb9f3a"
            ],
            [
             0.8888888888888888,
             "#fdca26"
            ],
            [
             1,
             "#f0f921"
            ]
           ],
           "sequentialminus": [
            [
             0,
             "#0d0887"
            ],
            [
             0.1111111111111111,
             "#46039f"
            ],
            [
             0.2222222222222222,
             "#7201a8"
            ],
            [
             0.3333333333333333,
             "#9c179e"
            ],
            [
             0.4444444444444444,
             "#bd3786"
            ],
            [
             0.5555555555555556,
             "#d8576b"
            ],
            [
             0.6666666666666666,
             "#ed7953"
            ],
            [
             0.7777777777777778,
             "#fb9f3a"
            ],
            [
             0.8888888888888888,
             "#fdca26"
            ],
            [
             1,
             "#f0f921"
            ]
           ]
          },
          "colorway": [
           "#636efa",
           "#EF553B",
           "#00cc96",
           "#ab63fa",
           "#FFA15A",
           "#19d3f3",
           "#FF6692",
           "#B6E880",
           "#FF97FF",
           "#FECB52"
          ],
          "font": {
           "color": "#2a3f5f"
          },
          "geo": {
           "bgcolor": "white",
           "lakecolor": "white",
           "landcolor": "#E5ECF6",
           "showlakes": true,
           "showland": true,
           "subunitcolor": "white"
          },
          "hoverlabel": {
           "align": "left"
          },
          "hovermode": "closest",
          "mapbox": {
           "style": "light"
          },
          "paper_bgcolor": "white",
          "plot_bgcolor": "#E5ECF6",
          "polar": {
           "angularaxis": {
            "gridcolor": "white",
            "linecolor": "white",
            "ticks": ""
           },
           "bgcolor": "#E5ECF6",
           "radialaxis": {
            "gridcolor": "white",
            "linecolor": "white",
            "ticks": ""
           }
          },
          "scene": {
           "xaxis": {
            "backgroundcolor": "#E5ECF6",
            "gridcolor": "white",
            "gridwidth": 2,
            "linecolor": "white",
            "showbackground": true,
            "ticks": "",
            "zerolinecolor": "white"
           },
           "yaxis": {
            "backgroundcolor": "#E5ECF6",
            "gridcolor": "white",
            "gridwidth": 2,
            "linecolor": "white",
            "showbackground": true,
            "ticks": "",
            "zerolinecolor": "white"
           },
           "zaxis": {
            "backgroundcolor": "#E5ECF6",
            "gridcolor": "white",
            "gridwidth": 2,
            "linecolor": "white",
            "showbackground": true,
            "ticks": "",
            "zerolinecolor": "white"
           }
          },
          "shapedefaults": {
           "line": {
            "color": "#2a3f5f"
           }
          },
          "ternary": {
           "aaxis": {
            "gridcolor": "white",
            "linecolor": "white",
            "ticks": ""
           },
           "baxis": {
            "gridcolor": "white",
            "linecolor": "white",
            "ticks": ""
           },
           "bgcolor": "#E5ECF6",
           "caxis": {
            "gridcolor": "white",
            "linecolor": "white",
            "ticks": ""
           }
          },
          "title": {
           "x": 0.05
          },
          "xaxis": {
           "automargin": true,
           "gridcolor": "white",
           "linecolor": "white",
           "ticks": "",
           "title": {
            "standoff": 15
           },
           "zerolinecolor": "white",
           "zerolinewidth": 2
          },
          "yaxis": {
           "automargin": true,
           "gridcolor": "white",
           "linecolor": "white",
           "ticks": "",
           "title": {
            "standoff": 15
           },
           "zerolinecolor": "white",
           "zerolinewidth": 2
          }
         }
        },
        "title": {
         "font": {
          "color": "#4D5663"
         },
         "text": "Stacked Area Chart"
        },
        "xaxis": {
         "autorange": true,
         "gridcolor": "#E1E5ED",
         "range": [
          "2022-02-01",
          "2023-06-01"
         ],
         "showgrid": true,
         "tickfont": {
          "color": "#4D5663"
         },
         "title": {
          "font": {
           "color": "#4D5663"
          },
          "text": ""
         },
         "type": "date",
         "zerolinecolor": "#E1E5ED"
        },
        "yaxis": {
         "autorange": true,
         "gridcolor": "#E1E5ED",
         "range": [
          0,
          2112709.3960505505
         ],
         "showgrid": true,
         "tickfont": {
          "color": "#4D5663"
         },
         "title": {
          "font": {
           "color": "#4D5663"
          },
          "text": ""
         },
         "type": "linear",
         "zerolinecolor": "#E1E5ED"
        }
       }
      },
      "image/png": "[encoded data removed]",
      "text/html": [
       "<div>                            <div id=\"4674d7e9-3eff-4937-a0c4-f565c5b049b1\" class=\"plotly-graph-div\" style=\"height:525px; width:100%;\"></div>            <script type=\"text/javascript\">                require([\"plotly\"], function(Plotly) {                    window.PLOTLYENV=window.PLOTLYENV || {};\n",
       "                    window.PLOTLYENV.BASE_URL='https://plot.ly';                                    if (document.getElementById(\"4674d7e9-3eff-4937-a0c4-f565c5b049b1\")) {                    Plotly.newPlot(                        \"4674d7e9-3eff-4937-a0c4-f565c5b049b1\",                        [{\"fill\":\"tonexty\",\"fillcolor\":\"rgba(135, 206, 235, 0.3)\",\"line\":{\"color\":\"rgba(135, 206, 235, 1.0)\",\"dash\":\"solid\",\"shape\":\"linear\",\"width\":1.3},\"mode\":\"lines\",\"name\":\"\\u0633\\u0643\\u0646\\u064a\",\"text\":\"\",\"x\":[\"2022-02-01\",\"2022-03-01\",\"2022-04-01\",\"2023-01-01\",\"2023-02-01\",\"2023-03-01\",\"2023-04-01\",\"2023-05-01\",\"2023-06-01\"],\"y\":[1035871.4077208919,1167024.5747501086,1249689.9412171508,1338670.68,1168962.1220850481,1391089.3928234184,1355740.8891161473,2007073.9262480228,1498307.0702123896],\"type\":\"scatter\"}],                        {\"legend\":{\"bgcolor\":\"#FFFFFF\",\"font\":{\"color\":\"#4D5663\"}},\"paper_bgcolor\":\"#FFFFFF\",\"plot_bgcolor\":\"#FFFFFF\",\"template\":{\"data\":{\"barpolar\":[{\"marker\":{\"line\":{\"color\":\"#E5ECF6\",\"width\":0.5},\"pattern\":{\"fillmode\":\"overlay\",\"size\":10,\"solidity\":0.2}},\"type\":\"barpolar\"}],\"bar\":[{\"error_x\":{\"color\":\"#2a3f5f\"},\"error_y\":{\"color\":\"#2a3f5f\"},\"marker\":{\"line\":{\"color\":\"#E5ECF6\",\"width\":0.5},\"pattern\":{\"fillmode\":\"overlay\",\"size\":10,\"solidity\":0.2}},\"type\":\"bar\"}],\"carpet\":[{\"aaxis\":{\"endlinecolor\":\"#2a3f5f\",\"gridcolor\":\"white\",\"linecolor\":\"white\",\"minorgridcolor\":\"white\",\"startlinecolor\":\"#2a3f5f\"},\"baxis\":{\"endlinecolor\":\"#2a3f5f\",\"gridcolor\":\"white\",\"linecolor\":\"white\",\"minorgridcolor\":\"white\",\"startlinecolor\":\"#2a3f5f\"},\"type\":\"carpet\"}],\"choropleth\":[{\"colorbar\":{\"outlinewidth\":0,\"ticks\":\"\"},\"type\":\"choropleth\"}],\"contourcarpet\":[{\"colorbar\":{\"outlinewidth\":0,\"ticks\":\"\"},\"type\":\"contourcarpet\"}],\"contour\":[{\"colorbar\":{\"outlinewidth\":0,\"ticks\":\"\"},\"colorscale\":[[0.0,\"#0d0887\"],[0.1111111111111111,\"#46039f\"],[0.2222222222222222,\"#7201a8\"],[0.3333333333333333,\"#9c179e\"],[0.4444444444444444,\"#bd3786\"],[0.5555555555555556,\"#d8576b\"],[0.6666666666666666,\"#ed7953\"],[0.7777777777777778,\"#fb9f3a\"],[0.8888888888888888,\"#fdca26\"],[1.0,\"#f0f921\"]],\"type\":\"contour\"}],\"heatmapgl\":[{\"colorbar\":{\"outlinewidth\":0,\"ticks\":\"\"},\"colorscale\":[[0.0,\"#0d0887\"],[0.1111111111111111,\"#46039f\"],[0.2222222222222222,\"#7201a8\"],[0.3333333333333333,\"#9c179e\"],[0.4444444444444444,\"#bd3786\"],[0.5555555555555556,\"#d8576b\"],[0.6666666666666666,\"#ed7953\"],[0.7777777777777778,\"#fb9f3a\"],[0.8888888888888888,\"#fdca26\"],[1.0,\"#f0f921\"]],\"type\":\"heatmapgl\"}],\"heatmap\":[{\"colorbar\":{\"outlinewidth\":0,\"ticks\":\"\"},\"colorscale\":[[0.0,\"#0d0887\"],[0.1111111111111111,\"#46039f\"],[0.2222222222222222,\"#7201a8\"],[0.3333333333333333,\"#9c179e\"],[0.4444444444444444,\"#bd3786\"],[0.5555555555555556,\"#d8576b\"],[0.6666666666666666,\"#ed7953\"],[0.7777777777777778,\"#fb9f3a\"],[0.8888888888888888,\"#fdca26\"],[1.0,\"#f0f921\"]],\"type\":\"heatmap\"}],\"histogram2dcontour\":[{\"colorbar\":{\"outlinewidth\":0,\"ticks\":\"\"},\"colorscale\":[[0.0,\"#0d0887\"],[0.1111111111111111,\"#46039f\"],[0.2222222222222222,\"#7201a8\"],[0.3333333333333333,\"#9c179e\"],[0.4444444444444444,\"#bd3786\"],[0.5555555555555556,\"#d8576b\"],[0.6666666666666666,\"#ed7953\"],[0.7777777777777778,\"#fb9f3a\"],[0.8888888888888888,\"#fdca26\"],[1.0,\"#f0f921\"]],\"type\":\"histogram2dcontour\"}],\"histogram2d\":[{\"colorbar\":{\"outlinewidth\":0,\"ticks\":\"\"},\"colorscale\":[[0.0,\"#0d0887\"],[0.1111111111111111,\"#46039f\"],[0.2222222222222222,\"#7201a8\"],[0.3333333333333333,\"#9c179e\"],[0.4444444444444444,\"#bd3786\"],[0.5555555555555556,\"#d8576b\"],[0.6666666666666666,\"#ed7953\"],[0.7777777777777778,\"#fb9f3a\"],[0.8888888888888888,\"#fdca26\"],[1.0,\"#f0f921\"]],\"type\":\"histogram2d\"}],\"histogram\":[{\"marker\":{\"pattern\":{\"fillmode\":\"overlay\",\"size\":10,\"solidity\":0.2}},\"type\":\"histogram\"}],\"mesh3d\":[{\"colorbar\":{\"outlinewidth\":0,\"ticks\":\"\"},\"type\":\"mesh3d\"}],\"parcoords\":[{\"line\":{\"colorbar\":{\"outlinewidth\":0,\"ticks\":\"\"}},\"type\":\"parcoords\"}],\"pie\":[{\"automargin\":true,\"type\":\"pie\"}],\"scatter3d\":[{\"line\":{\"colorbar\":{\"outlinewidth\":0,\"ticks\":\"\"}},\"marker\":{\"colorbar\":{\"outlinewidth\":0,\"ticks\":\"\"}},\"type\":\"scatter3d\"}],\"scattercarpet\":[{\"marker\":{\"colorbar\":{\"outlinewidth\":0,\"ticks\":\"\"}},\"type\":\"scattercarpet\"}],\"scattergeo\":[{\"marker\":{\"colorbar\":{\"outlinewidth\":0,\"ticks\":\"\"}},\"type\":\"scattergeo\"}],\"scattergl\":[{\"marker\":{\"colorbar\":{\"outlinewidth\":0,\"ticks\":\"\"}},\"type\":\"scattergl\"}],\"scattermapbox\":[{\"marker\":{\"colorbar\":{\"outlinewidth\":0,\"ticks\":\"\"}},\"type\":\"scattermapbox\"}],\"scatterpolargl\":[{\"marker\":{\"colorbar\":{\"outlinewidth\":0,\"ticks\":\"\"}},\"type\":\"scatterpolargl\"}],\"scatterpolar\":[{\"marker\":{\"colorbar\":{\"outlinewidth\":0,\"ticks\":\"\"}},\"type\":\"scatterpolar\"}],\"scatter\":[{\"fillpattern\":{\"fillmode\":\"overlay\",\"size\":10,\"solidity\":0.2},\"type\":\"scatter\"}],\"scatterternary\":[{\"marker\":{\"colorbar\":{\"outlinewidth\":0,\"ticks\":\"\"}},\"type\":\"scatterternary\"}],\"surface\":[{\"colorbar\":{\"outlinewidth\":0,\"ticks\":\"\"},\"colorscale\":[[0.0,\"#0d0887\"],[0.1111111111111111,\"#46039f\"],[0.2222222222222222,\"#7201a8\"],[0.3333333333333333,\"#9c179e\"],[0.4444444444444444,\"#bd3786\"],[0.5555555555555556,\"#d8576b\"],[0.6666666666666666,\"#ed7953\"],[0.7777777777777778,\"#fb9f3a\"],[0.8888888888888888,\"#fdca26\"],[1.0,\"#f0f921\"]],\"type\":\"surface\"}],\"table\":[{\"cells\":{\"fill\":{\"color\":\"#EBF0F8\"},\"line\":{\"color\":\"white\"}},\"header\":{\"fill\":{\"color\":\"#C8D4E3\"},\"line\":{\"color\":\"white\"}},\"type\":\"table\"}]},\"layout\":{\"annotationdefaults\":{\"arrowcolor\":\"#2a3f5f\",\"arrowhead\":0,\"arrowwidth\":1},\"autotypenumbers\":\"strict\",\"coloraxis\":{\"colorbar\":{\"outlinewidth\":0,\"ticks\":\"\"}},\"colorscale\":{\"diverging\":[[0,\"#8e0152\"],[0.1,\"#c51b7d\"],[0.2,\"#de77ae\"],[0.3,\"#f1b6da\"],[0.4,\"#fde0ef\"],[0.5,\"#f7f7f7\"],[0.6,\"#e6f5d0\"],[0.7,\"#b8e186\"],[0.8,\"#7fbc41\"],[0.9,\"#4d9221\"],[1,\"#276419\"]],\"sequential\":[[0.0,\"#0d0887\"],[0.1111111111111111,\"#46039f\"],[0.2222222222222222,\"#7201a8\"],[0.3333333333333333,\"#9c179e\"],[0.4444444444444444,\"#bd3786\"],[0.5555555555555556,\"#d8576b\"],[0.6666666666666666,\"#ed7953\"],[0.7777777777777778,\"#fb9f3a\"],[0.8888888888888888,\"#fdca26\"],[1.0,\"#f0f921\"]],\"sequentialminus\":[[0.0,\"#0d0887\"],[0.1111111111111111,\"#46039f\"],[0.2222222222222222,\"#7201a8\"],[0.3333333333333333,\"#9c179e\"],[0.4444444444444444,\"#bd3786\"],[0.5555555555555556,\"#d8576b\"],[0.6666666666666666,\"#ed7953\"],[0.7777777777777778,\"#fb9f3a\"],[0.8888888888888888,\"#fdca26\"],[1.0,\"#f0f921\"]]},\"colorway\":[\"#636efa\",\"#EF553B\",\"#00cc96\",\"#ab63fa\",\"#FFA15A\",\"#19d3f3\",\"#FF6692\",\"#B6E880\",\"#FF97FF\",\"#FECB52\"],\"font\":{\"color\":\"#2a3f5f\"},\"geo\":{\"bgcolor\":\"white\",\"lakecolor\":\"white\",\"landcolor\":\"#E5ECF6\",\"showlakes\":true,\"showland\":true,\"subunitcolor\":\"white\"},\"hoverlabel\":{\"align\":\"left\"},\"hovermode\":\"closest\",\"mapbox\":{\"style\":\"light\"},\"paper_bgcolor\":\"white\",\"plot_bgcolor\":\"#E5ECF6\",\"polar\":{\"angularaxis\":{\"gridcolor\":\"white\",\"linecolor\":\"white\",\"ticks\":\"\"},\"bgcolor\":\"#E5ECF6\",\"radialaxis\":{\"gridcolor\":\"white\",\"linecolor\":\"white\",\"ticks\":\"\"}},\"scene\":{\"xaxis\":{\"backgroundcolor\":\"#E5ECF6\",\"gridcolor\":\"white\",\"gridwidth\":2,\"linecolor\":\"white\",\"showbackground\":true,\"ticks\":\"\",\"zerolinecolor\":\"white\"},\"yaxis\":{\"backgroundcolor\":\"#E5ECF6\",\"gridcolor\":\"white\",\"gridwidth\":2,\"linecolor\":\"white\",\"showbackground\":true,\"ticks\":\"\",\"zerolinecolor\":\"white\"},\"zaxis\":{\"backgroundcolor\":\"#E5ECF6\",\"gridcolor\":\"white\",\"gridwidth\":2,\"linecolor\":\"white\",\"showbackground\":true,\"ticks\":\"\",\"zerolinecolor\":\"white\"}},\"shapedefaults\":{\"line\":{\"color\":\"#2a3f5f\"}},\"ternary\":{\"aaxis\":{\"gridcolor\":\"white\",\"linecolor\":\"white\",\"ticks\":\"\"},\"baxis\":{\"gridcolor\":\"white\",\"linecolor\":\"white\",\"ticks\":\"\"},\"bgcolor\":\"#E5ECF6\",\"caxis\":{\"gridcolor\":\"white\",\"linecolor\":\"white\",\"ticks\":\"\"}},\"title\":{\"x\":0.05},\"xaxis\":{\"automargin\":true,\"gridcolor\":\"white\",\"linecolor\":\"white\",\"ticks\":\"\",\"title\":{\"standoff\":15},\"zerolinecolor\":\"white\",\"zerolinewidth\":2},\"yaxis\":{\"automargin\":true,\"gridcolor\":\"white\",\"linecolor\":\"white\",\"ticks\":\"\",\"title\":{\"standoff\":15},\"zerolinecolor\":\"white\",\"zerolinewidth\":2}}},\"title\":{\"font\":{\"color\":\"#4D5663\"},\"text\":\"Stacked Area Chart\"},\"xaxis\":{\"gridcolor\":\"#E1E5ED\",\"showgrid\":true,\"tickfont\":{\"color\":\"#4D5663\"},\"title\":{\"font\":{\"color\":\"#4D5663\"},\"text\":\"\"},\"zerolinecolor\":\"#E1E5ED\"},\"yaxis\":{\"gridcolor\":\"#E1E5ED\",\"showgrid\":true,\"tickfont\":{\"color\":\"#4D5663\"},\"title\":{\"font\":{\"color\":\"#4D5663\"},\"text\":\"\"},\"zerolinecolor\":\"#E1E5ED\"}},                        {\"showLink\": true, \"linkText\": \"Export to plot.ly\", \"plotlyServerURL\": \"https://plot.ly\", \"responsive\": true}                    ).then(function(){\n",
       "                            \n",
       "var gd = document.getElementById('4674d7e9-3eff-4937-a0c4-f565c5b049b1');\n",
       "var x = new MutationObserver(function (mutations, observer) {{\n",
       "        var display = window.getComputedStyle(gd).display;\n",
       "        if (!display || display === 'none') {{\n",
       "            console.log([gd, 'removed!']);\n",
       "            Plotly.purge(gd);\n",
       "            observer.disconnect();\n",
       "        }}\n",
       "}});\n",
       "\n",
       "// Listen for the removal of the full notebook cells\n",
       "var notebookContainer = gd.closest('#notebook-container');\n",
       "if (notebookContainer) {{\n",
       "    x.observe(notebookContainer, {childList: true});\n",
       "}}\n",
       "\n",
       "// Listen for the clearing of the current output cell\n",
       "var outputEl = gd.closest('.output');\n",
       "if (outputEl) {{\n",
       "    x.observe(outputEl, {childList: true});\n",
       "}}\n",
       "\n",
       "                        })                };                });            </script>        </div>"
      ]
     },
     "metadata": {},
     "output_type": "display_data"
    }
   ],
   "source": [
    "pyo.init_notebook_mode(connected=True)\n",
    "cf.go_offline()\n",
    "pivot_table2.iplot(kind='area', x='month_year', y=['سكني'], fill=True, colors=['skyblue'], theme='white', title='Stacked Area Chart')"
   ]
  },
  {
   "cell_type": "code",
   "execution_count": 77,
   "id": "525598ff",
   "metadata": {
    "colab": {
     "base_uri": "https://localhost:8080/",
     "height": 206
    },
    "id": "525598ff",
    "outputId": "f42276c7-6279-482b-8010-3388ddf479ef"
   },
   "outputs": [
    {
     "data": {
      "text/html": [
       "<div>\n",
       "<style scoped>\n",
       "    .dataframe tbody tr th:only-of-type {\n",
       "        vertical-align: middle;\n",
       "    }\n",
       "\n",
       "    .dataframe tbody tr th {\n",
       "        vertical-align: top;\n",
       "    }\n",
       "\n",
       "    .dataframe thead th {\n",
       "        text-align: right;\n",
       "    }\n",
       "</style>\n",
       "<table border=\"1\" class=\"dataframe\">\n",
       "  <thead>\n",
       "    <tr style=\"text-align: right;\">\n",
       "      <th></th>\n",
       "      <th>City/Neighborhood</th>\n",
       "      <th>Reference_Number</th>\n",
       "    </tr>\n",
       "  </thead>\n",
       "  <tbody>\n",
       "    <tr>\n",
       "      <th>35</th>\n",
       "      <td>الخير</td>\n",
       "      <td>3283</td>\n",
       "    </tr>\n",
       "    <tr>\n",
       "      <th>170</th>\n",
       "      <td>شرق الرياض</td>\n",
       "      <td>2314</td>\n",
       "    </tr>\n",
       "    <tr>\n",
       "      <th>189</th>\n",
       "      <td>نمار</td>\n",
       "      <td>1928</td>\n",
       "    </tr>\n",
       "    <tr>\n",
       "      <th>179</th>\n",
       "      <td>عريض</td>\n",
       "      <td>1916</td>\n",
       "    </tr>\n",
       "    <tr>\n",
       "      <th>133</th>\n",
       "      <td>النرجس</td>\n",
       "      <td>1089</td>\n",
       "    </tr>\n",
       "  </tbody>\n",
       "</table>\n",
       "</div>"
      ],
      "text/plain": [
       "    City/Neighborhood  Reference_Number\n",
       "35              الخير              3283\n",
       "170        شرق الرياض              2314\n",
       "189              نمار              1928\n",
       "179              عريض              1916\n",
       "133            النرجس              1089"
      ]
     },
     "execution_count": 77,
     "metadata": {},
     "output_type": "execute_result"
    }
   ],
   "source": [
    "#Neighborhoods with the highest number of transactions over the two years\n",
    "\n",
    "neighborhood_transactions = riyadh_data.groupby('City/Neighborhood')['Reference_Number'].count().reset_index()\n",
    "\n",
    "sorted_neighborhoods = neighborhood_transactions.sort_values('Reference_Number', ascending=False)\n",
    "top_neighborhoods = sorted_neighborhoods.head(5)\n",
    "\n",
    "top_neighborhoods"
   ]
  },
  {
   "cell_type": "code",
   "execution_count": 78,
   "id": "moHVxhyEjxmU",
   "metadata": {
    "colab": {
     "base_uri": "https://localhost:8080/",
     "height": 525
    },
    "id": "moHVxhyEjxmU",
    "outputId": "6e3fe66e-2dc8-4371-86b4-750c4a832c38"
   },
   "outputs": [
    {
     "data": {
      "image/png": "[encoded data removed]",
      "text/plain": [
       "<Figure size 640x480 with 1 Axes>"
      ]
     },
     "metadata": {},
     "output_type": "display_data"
    }
   ],
   "source": [
    "sns.barplot(x=top_neighborhoods['City/Neighborhood'].apply(handle_arabic), y= top_neighborhoods['Reference_Number'], color='skyblue')\n",
    "plt.xlabel('Neighborhoods')\n",
    "plt.ylabel('Total Transactions')\n",
    "plt.title('Total Transactions for Each Neighborhood')\n",
    "plt.xticks(rotation=50)\n",
    "plt.show()"
   ]
  },
  {
   "cell_type": "code",
   "execution_count": 193,
   "id": "Hd8tmjSoUwqu",
   "metadata": {
    "colab": {
     "base_uri": "https://localhost:8080/"
    },
    "id": "Hd8tmjSoUwqu",
    "outputId": "89360914-a1df-4162-857a-503d260c72f4"
   },
   "outputs": [
    {
     "data": {
      "image/png": "[encoded data removed]",
      "text/plain": [
       "<Figure size 640x480 with 1 Axes>"
      ]
     },
     "metadata": {},
     "output_type": "display_data"
    }
   ],
   "source": [
    "#Percentage of residential top_neighborhood deals over the total number of residential deals in Riyadh\n",
    "\n",
    "Total_Reference_Number = riyadh_data['Reference_Number'].count() #25688\n",
    "Total_Reference_Number\n",
    "\n",
    "top_neighborhoods['Percentage'] = (top_neighborhoods['Reference_Number'] / Total_Reference_Number) * 100\n",
    "top_neighborhoods\n",
    "\n",
    "total_precent = top_neighborhoods['Percentage'].sum() #40%\n",
    "total_precent\n",
    "\n",
    "total = RealEstate_Data['Reference_Number'].count() #142748\n",
    "total\n",
    "\n",
    "Total_Reference_Number_prec = (Total_Reference_Number/total)*100\n",
    "Total_Reference_Number_prec\n",
    "\n",
    "plt.pie([Total_Reference_Number_prec, total_precent], autopct='%1.1f%%')\n",
    "plt.title('The Percentage of transactions in neighborhoods to the Percentage of total transactions in Riyadh')\n",
    "plt.show()"
   ]
  },
  {
   "cell_type": "code",
   "execution_count": 194,
   "id": "34883539",
   "metadata": {
    "colab": {
     "base_uri": "https://localhost:8080/",
     "height": 331
    },
    "id": "34883539",
    "outputId": "76715437-5342-49b9-bad8-39e40eae83cf"
   },
   "outputs": [
    {
     "data": {
      "text/html": [
       "<div>\n",
       "<style scoped>\n",
       "    .dataframe tbody tr th:only-of-type {\n",
       "        vertical-align: middle;\n",
       "    }\n",
       "\n",
       "    .dataframe tbody tr th {\n",
       "        vertical-align: top;\n",
       "    }\n",
       "\n",
       "    .dataframe thead th {\n",
       "        text-align: right;\n",
       "    }\n",
       "</style>\n",
       "<table border=\"1\" class=\"dataframe\">\n",
       "  <thead>\n",
       "    <tr style=\"text-align: right;\">\n",
       "      <th></th>\n",
       "      <th>Property_type</th>\n",
       "      <th>month_year</th>\n",
       "      <th>Price_per_square-meter</th>\n",
       "    </tr>\n",
       "  </thead>\n",
       "  <tbody>\n",
       "    <tr>\n",
       "      <th>0</th>\n",
       "      <td>إستراحة</td>\n",
       "      <td>2023-02-01</td>\n",
       "      <td>2200.000000</td>\n",
       "    </tr>\n",
       "    <tr>\n",
       "      <th>1</th>\n",
       "      <td>بيت</td>\n",
       "      <td>2022-02-01</td>\n",
       "      <td>2191.119962</td>\n",
       "    </tr>\n",
       "    <tr>\n",
       "      <th>2</th>\n",
       "      <td>بيت</td>\n",
       "      <td>2022-03-01</td>\n",
       "      <td>1729.500231</td>\n",
       "    </tr>\n",
       "    <tr>\n",
       "      <th>3</th>\n",
       "      <td>بيت</td>\n",
       "      <td>2022-04-01</td>\n",
       "      <td>1738.593525</td>\n",
       "    </tr>\n",
       "    <tr>\n",
       "      <th>4</th>\n",
       "      <td>بيت</td>\n",
       "      <td>2023-01-01</td>\n",
       "      <td>2437.802350</td>\n",
       "    </tr>\n",
       "    <tr>\n",
       "      <th>5</th>\n",
       "      <td>بيت</td>\n",
       "      <td>2023-02-01</td>\n",
       "      <td>9718.818247</td>\n",
       "    </tr>\n",
       "    <tr>\n",
       "      <th>6</th>\n",
       "      <td>بيت</td>\n",
       "      <td>2023-03-01</td>\n",
       "      <td>1947.673144</td>\n",
       "    </tr>\n",
       "    <tr>\n",
       "      <th>7</th>\n",
       "      <td>بيت</td>\n",
       "      <td>2023-04-01</td>\n",
       "      <td>2498.240896</td>\n",
       "    </tr>\n",
       "    <tr>\n",
       "      <th>8</th>\n",
       "      <td>بيت</td>\n",
       "      <td>2023-05-01</td>\n",
       "      <td>2134.798633</td>\n",
       "    </tr>\n",
       "    <tr>\n",
       "      <th>9</th>\n",
       "      <td>بيت</td>\n",
       "      <td>2023-06-01</td>\n",
       "      <td>2087.629735</td>\n",
       "    </tr>\n",
       "    <tr>\n",
       "      <th>10</th>\n",
       "      <td>شقة</td>\n",
       "      <td>2022-02-01</td>\n",
       "      <td>3270.611754</td>\n",
       "    </tr>\n",
       "    <tr>\n",
       "      <th>11</th>\n",
       "      <td>شقة</td>\n",
       "      <td>2022-03-01</td>\n",
       "      <td>2985.821386</td>\n",
       "    </tr>\n",
       "    <tr>\n",
       "      <th>12</th>\n",
       "      <td>شقة</td>\n",
       "      <td>2022-04-01</td>\n",
       "      <td>3625.947242</td>\n",
       "    </tr>\n",
       "    <tr>\n",
       "      <th>13</th>\n",
       "      <td>شقة</td>\n",
       "      <td>2023-01-01</td>\n",
       "      <td>3429.489373</td>\n",
       "    </tr>\n",
       "    <tr>\n",
       "      <th>14</th>\n",
       "      <td>شقة</td>\n",
       "      <td>2023-02-01</td>\n",
       "      <td>3801.334133</td>\n",
       "    </tr>\n",
       "    <tr>\n",
       "      <th>15</th>\n",
       "      <td>شقة</td>\n",
       "      <td>2023-03-01</td>\n",
       "      <td>3605.109728</td>\n",
       "    </tr>\n",
       "    <tr>\n",
       "      <th>16</th>\n",
       "      <td>شقة</td>\n",
       "      <td>2023-04-01</td>\n",
       "      <td>7108.837054</td>\n",
       "    </tr>\n",
       "    <tr>\n",
       "      <th>17</th>\n",
       "      <td>شقة</td>\n",
       "      <td>2023-05-01</td>\n",
       "      <td>6402.173767</td>\n",
       "    </tr>\n",
       "    <tr>\n",
       "      <th>18</th>\n",
       "      <td>شقة</td>\n",
       "      <td>2023-06-01</td>\n",
       "      <td>6904.450972</td>\n",
       "    </tr>\n",
       "    <tr>\n",
       "      <th>19</th>\n",
       "      <td>عمارة</td>\n",
       "      <td>2022-03-01</td>\n",
       "      <td>3340.292200</td>\n",
       "    </tr>\n",
       "    <tr>\n",
       "      <th>20</th>\n",
       "      <td>عمارة</td>\n",
       "      <td>2023-01-01</td>\n",
       "      <td>2343.010250</td>\n",
       "    </tr>\n",
       "    <tr>\n",
       "      <th>21</th>\n",
       "      <td>عمارة</td>\n",
       "      <td>2023-02-01</td>\n",
       "      <td>11506.625150</td>\n",
       "    </tr>\n",
       "    <tr>\n",
       "      <th>22</th>\n",
       "      <td>عمارة</td>\n",
       "      <td>2023-03-01</td>\n",
       "      <td>3546.944100</td>\n",
       "    </tr>\n",
       "    <tr>\n",
       "      <th>23</th>\n",
       "      <td>عمارة</td>\n",
       "      <td>2023-04-01</td>\n",
       "      <td>2946.769359</td>\n",
       "    </tr>\n",
       "    <tr>\n",
       "      <th>24</th>\n",
       "      <td>عمارة</td>\n",
       "      <td>2023-05-01</td>\n",
       "      <td>2672.861089</td>\n",
       "    </tr>\n",
       "    <tr>\n",
       "      <th>25</th>\n",
       "      <td>عمارة</td>\n",
       "      <td>2023-06-01</td>\n",
       "      <td>2093.843901</td>\n",
       "    </tr>\n",
       "    <tr>\n",
       "      <th>26</th>\n",
       "      <td>فيلا</td>\n",
       "      <td>2022-02-01</td>\n",
       "      <td>4066.290250</td>\n",
       "    </tr>\n",
       "    <tr>\n",
       "      <th>27</th>\n",
       "      <td>فيلا</td>\n",
       "      <td>2022-03-01</td>\n",
       "      <td>2215.595012</td>\n",
       "    </tr>\n",
       "    <tr>\n",
       "      <th>28</th>\n",
       "      <td>فيلا</td>\n",
       "      <td>2023-01-01</td>\n",
       "      <td>2419.741000</td>\n",
       "    </tr>\n",
       "    <tr>\n",
       "      <th>29</th>\n",
       "      <td>فيلا</td>\n",
       "      <td>2023-02-01</td>\n",
       "      <td>2792.377475</td>\n",
       "    </tr>\n",
       "    <tr>\n",
       "      <th>30</th>\n",
       "      <td>فيلا</td>\n",
       "      <td>2023-03-01</td>\n",
       "      <td>2719.948386</td>\n",
       "    </tr>\n",
       "    <tr>\n",
       "      <th>31</th>\n",
       "      <td>فيلا</td>\n",
       "      <td>2023-04-01</td>\n",
       "      <td>2776.400367</td>\n",
       "    </tr>\n",
       "    <tr>\n",
       "      <th>32</th>\n",
       "      <td>فيلا</td>\n",
       "      <td>2023-05-01</td>\n",
       "      <td>2622.930484</td>\n",
       "    </tr>\n",
       "    <tr>\n",
       "      <th>33</th>\n",
       "      <td>فيلا</td>\n",
       "      <td>2023-06-01</td>\n",
       "      <td>887.922078</td>\n",
       "    </tr>\n",
       "    <tr>\n",
       "      <th>34</th>\n",
       "      <td>قطعة أرض</td>\n",
       "      <td>2022-02-01</td>\n",
       "      <td>1787.252718</td>\n",
       "    </tr>\n",
       "    <tr>\n",
       "      <th>35</th>\n",
       "      <td>قطعة أرض</td>\n",
       "      <td>2022-03-01</td>\n",
       "      <td>2058.417878</td>\n",
       "    </tr>\n",
       "    <tr>\n",
       "      <th>36</th>\n",
       "      <td>قطعة أرض</td>\n",
       "      <td>2022-04-01</td>\n",
       "      <td>2014.953914</td>\n",
       "    </tr>\n",
       "    <tr>\n",
       "      <th>37</th>\n",
       "      <td>قطعة أرض</td>\n",
       "      <td>2023-01-01</td>\n",
       "      <td>2417.203690</td>\n",
       "    </tr>\n",
       "    <tr>\n",
       "      <th>38</th>\n",
       "      <td>قطعة أرض</td>\n",
       "      <td>2023-02-01</td>\n",
       "      <td>2398.439142</td>\n",
       "    </tr>\n",
       "    <tr>\n",
       "      <th>39</th>\n",
       "      <td>قطعة أرض</td>\n",
       "      <td>2023-03-01</td>\n",
       "      <td>2616.641079</td>\n",
       "    </tr>\n",
       "    <tr>\n",
       "      <th>40</th>\n",
       "      <td>قطعة أرض</td>\n",
       "      <td>2023-04-01</td>\n",
       "      <td>2546.685769</td>\n",
       "    </tr>\n",
       "    <tr>\n",
       "      <th>41</th>\n",
       "      <td>قطعة أرض</td>\n",
       "      <td>2023-05-01</td>\n",
       "      <td>2179.122147</td>\n",
       "    </tr>\n",
       "    <tr>\n",
       "      <th>42</th>\n",
       "      <td>قطعة أرض</td>\n",
       "      <td>2023-06-01</td>\n",
       "      <td>2353.254733</td>\n",
       "    </tr>\n",
       "    <tr>\n",
       "      <th>43</th>\n",
       "      <td>مرفق</td>\n",
       "      <td>2022-03-01</td>\n",
       "      <td>2115.384600</td>\n",
       "    </tr>\n",
       "    <tr>\n",
       "      <th>44</th>\n",
       "      <td>مرفق</td>\n",
       "      <td>2022-04-01</td>\n",
       "      <td>3538.846700</td>\n",
       "    </tr>\n",
       "    <tr>\n",
       "      <th>45</th>\n",
       "      <td>مرفق</td>\n",
       "      <td>2023-02-01</td>\n",
       "      <td>165.735000</td>\n",
       "    </tr>\n",
       "    <tr>\n",
       "      <th>46</th>\n",
       "      <td>مرفق</td>\n",
       "      <td>2023-03-01</td>\n",
       "      <td>3040.154600</td>\n",
       "    </tr>\n",
       "    <tr>\n",
       "      <th>47</th>\n",
       "      <td>مرفق</td>\n",
       "      <td>2023-04-01</td>\n",
       "      <td>1700.000000</td>\n",
       "    </tr>\n",
       "    <tr>\n",
       "      <th>48</th>\n",
       "      <td>مرفق</td>\n",
       "      <td>2023-05-01</td>\n",
       "      <td>3333.945244</td>\n",
       "    </tr>\n",
       "    <tr>\n",
       "      <th>49</th>\n",
       "      <td>مرفق</td>\n",
       "      <td>2023-06-01</td>\n",
       "      <td>1127.087199</td>\n",
       "    </tr>\n",
       "    <tr>\n",
       "      <th>50</th>\n",
       "      <td>معرض/محل</td>\n",
       "      <td>2022-02-01</td>\n",
       "      <td>11308.425567</td>\n",
       "    </tr>\n",
       "    <tr>\n",
       "      <th>51</th>\n",
       "      <td>معرض/محل</td>\n",
       "      <td>2022-03-01</td>\n",
       "      <td>26072.398644</td>\n",
       "    </tr>\n",
       "    <tr>\n",
       "      <th>52</th>\n",
       "      <td>معرض/محل</td>\n",
       "      <td>2022-04-01</td>\n",
       "      <td>6917.726778</td>\n",
       "    </tr>\n",
       "    <tr>\n",
       "      <th>53</th>\n",
       "      <td>معرض/محل</td>\n",
       "      <td>2023-01-01</td>\n",
       "      <td>8875.621800</td>\n",
       "    </tr>\n",
       "    <tr>\n",
       "      <th>54</th>\n",
       "      <td>معرض/محل</td>\n",
       "      <td>2023-02-01</td>\n",
       "      <td>21666.666600</td>\n",
       "    </tr>\n",
       "    <tr>\n",
       "      <th>55</th>\n",
       "      <td>معرض/محل</td>\n",
       "      <td>2023-03-01</td>\n",
       "      <td>9707.410539</td>\n",
       "    </tr>\n",
       "    <tr>\n",
       "      <th>56</th>\n",
       "      <td>معرض/محل</td>\n",
       "      <td>2023-04-01</td>\n",
       "      <td>16225.253502</td>\n",
       "    </tr>\n",
       "    <tr>\n",
       "      <th>57</th>\n",
       "      <td>معرض/محل</td>\n",
       "      <td>2023-05-01</td>\n",
       "      <td>17804.996024</td>\n",
       "    </tr>\n",
       "    <tr>\n",
       "      <th>58</th>\n",
       "      <td>معرض/محل</td>\n",
       "      <td>2023-06-01</td>\n",
       "      <td>21345.020316</td>\n",
       "    </tr>\n",
       "  </tbody>\n",
       "</table>\n",
       "</div>"
      ],
      "text/plain": [
       "   Property_type month_year  Price_per_square-meter\n",
       "0        إستراحة 2023-02-01             2200.000000\n",
       "1            بيت 2022-02-01             2191.119962\n",
       "2            بيت 2022-03-01             1729.500231\n",
       "3            بيت 2022-04-01             1738.593525\n",
       "4            بيت 2023-01-01             2437.802350\n",
       "5            بيت 2023-02-01             9718.818247\n",
       "6            بيت 2023-03-01             1947.673144\n",
       "7            بيت 2023-04-01             2498.240896\n",
       "8            بيت 2023-05-01             2134.798633\n",
       "9            بيت 2023-06-01             2087.629735\n",
       "10           شقة 2022-02-01             3270.611754\n",
       "11           شقة 2022-03-01             2985.821386\n",
       "12           شقة 2022-04-01             3625.947242\n",
       "13           شقة 2023-01-01             3429.489373\n",
       "14           شقة 2023-02-01             3801.334133\n",
       "15           شقة 2023-03-01             3605.109728\n",
       "16           شقة 2023-04-01             7108.837054\n",
       "17           شقة 2023-05-01             6402.173767\n",
       "18           شقة 2023-06-01             6904.450972\n",
       "19         عمارة 2022-03-01             3340.292200\n",
       "20         عمارة 2023-01-01             2343.010250\n",
       "21         عمارة 2023-02-01            11506.625150\n",
       "22         عمارة 2023-03-01             3546.944100\n",
       "23         عمارة 2023-04-01             2946.769359\n",
       "24         عمارة 2023-05-01             2672.861089\n",
       "25         عمارة 2023-06-01             2093.843901\n",
       "26          فيلا 2022-02-01             4066.290250\n",
       "27          فيلا 2022-03-01             2215.595012\n",
       "28          فيلا 2023-01-01             2419.741000\n",
       "29          فيلا 2023-02-01             2792.377475\n",
       "30          فيلا 2023-03-01             2719.948386\n",
       "31          فيلا 2023-04-01             2776.400367\n",
       "32          فيلا 2023-05-01             2622.930484\n",
       "33          فيلا 2023-06-01              887.922078\n",
       "34      قطعة أرض 2022-02-01             1787.252718\n",
       "35      قطعة أرض 2022-03-01             2058.417878\n",
       "36      قطعة أرض 2022-04-01             2014.953914\n",
       "37      قطعة أرض 2023-01-01             2417.203690\n",
       "38      قطعة أرض 2023-02-01             2398.439142\n",
       "39      قطعة أرض 2023-03-01             2616.641079\n",
       "40      قطعة أرض 2023-04-01             2546.685769\n",
       "41      قطعة أرض 2023-05-01             2179.122147\n",
       "42      قطعة أرض 2023-06-01             2353.254733\n",
       "43          مرفق 2022-03-01             2115.384600\n",
       "44          مرفق 2022-04-01             3538.846700\n",
       "45          مرفق 2023-02-01              165.735000\n",
       "46          مرفق 2023-03-01             3040.154600\n",
       "47          مرفق 2023-04-01             1700.000000\n",
       "48          مرفق 2023-05-01             3333.945244\n",
       "49          مرفق 2023-06-01             1127.087199\n",
       "50      معرض/محل 2022-02-01            11308.425567\n",
       "51      معرض/محل 2022-03-01            26072.398644\n",
       "52      معرض/محل 2022-04-01             6917.726778\n",
       "53      معرض/محل 2023-01-01             8875.621800\n",
       "54      معرض/محل 2023-02-01            21666.666600\n",
       "55      معرض/محل 2023-03-01             9707.410539\n",
       "56      معرض/محل 2023-04-01            16225.253502\n",
       "57      معرض/محل 2023-05-01            17804.996024\n",
       "58      معرض/محل 2023-06-01            21345.020316"
      ]
     },
     "execution_count": 194,
     "metadata": {},
     "output_type": "execute_result"
    }
   ],
   "source": [
    "average_price_per_sqm = riyadh_data.groupby(['Property_type','month_year'])['Price_per_square-meter'].mean()\n",
    "\n",
    "average_price_per_sqm = pd.DataFrame(average_price_per_sqm)\n",
    "average_price_per_sqm = average_price_per_sqm.reset_index()\n",
    "average_price_per_sqm.rename(columns={0: 'average_price_per_sqm'}, inplace=True)\n",
    "\n",
    "average_price_per_sqm"
   ]
  },
  {
   "cell_type": "code",
   "execution_count": 118,
   "id": "e6c57e4d-42aa-42d7-8990-4a67d5c535a5",
   "metadata": {},
   "outputs": [
    {
     "data": {
      "text/html": [
       "<div>\n",
       "<style scoped>\n",
       "    .dataframe tbody tr th:only-of-type {\n",
       "        vertical-align: middle;\n",
       "    }\n",
       "\n",
       "    .dataframe tbody tr th {\n",
       "        vertical-align: top;\n",
       "    }\n",
       "\n",
       "    .dataframe thead th {\n",
       "        text-align: right;\n",
       "    }\n",
       "</style>\n",
       "<table border=\"1\" class=\"dataframe\">\n",
       "  <thead>\n",
       "    <tr style=\"text-align: right;\">\n",
       "      <th>Property_type</th>\n",
       "      <th>month_year</th>\n",
       "      <th>إستراحة</th>\n",
       "      <th>بيت</th>\n",
       "      <th>شقة</th>\n",
       "      <th>عمارة</th>\n",
       "      <th>فيلا</th>\n",
       "      <th>قطعة أرض</th>\n",
       "      <th>مرفق</th>\n",
       "      <th>معرض/محل</th>\n",
       "    </tr>\n",
       "  </thead>\n",
       "  <tbody>\n",
       "    <tr>\n",
       "      <th>0</th>\n",
       "      <td>2022-02-01</td>\n",
       "      <td>0.0</td>\n",
       "      <td>2191.119962</td>\n",
       "      <td>3270.611754</td>\n",
       "      <td>0.000000</td>\n",
       "      <td>4066.290250</td>\n",
       "      <td>1787.252718</td>\n",
       "      <td>0.000000</td>\n",
       "      <td>11308.425567</td>\n",
       "    </tr>\n",
       "    <tr>\n",
       "      <th>1</th>\n",
       "      <td>2022-03-01</td>\n",
       "      <td>0.0</td>\n",
       "      <td>1729.500231</td>\n",
       "      <td>2985.821386</td>\n",
       "      <td>3340.292200</td>\n",
       "      <td>2215.595012</td>\n",
       "      <td>2058.417878</td>\n",
       "      <td>2115.384600</td>\n",
       "      <td>26072.398644</td>\n",
       "    </tr>\n",
       "    <tr>\n",
       "      <th>2</th>\n",
       "      <td>2022-04-01</td>\n",
       "      <td>0.0</td>\n",
       "      <td>1738.593525</td>\n",
       "      <td>3625.947242</td>\n",
       "      <td>0.000000</td>\n",
       "      <td>0.000000</td>\n",
       "      <td>2014.953914</td>\n",
       "      <td>3538.846700</td>\n",
       "      <td>6917.726778</td>\n",
       "    </tr>\n",
       "    <tr>\n",
       "      <th>3</th>\n",
       "      <td>2023-01-01</td>\n",
       "      <td>0.0</td>\n",
       "      <td>2437.802350</td>\n",
       "      <td>3429.489373</td>\n",
       "      <td>2343.010250</td>\n",
       "      <td>2419.741000</td>\n",
       "      <td>2417.203690</td>\n",
       "      <td>0.000000</td>\n",
       "      <td>8875.621800</td>\n",
       "    </tr>\n",
       "    <tr>\n",
       "      <th>4</th>\n",
       "      <td>2023-02-01</td>\n",
       "      <td>2200.0</td>\n",
       "      <td>9718.818247</td>\n",
       "      <td>3801.334133</td>\n",
       "      <td>11506.625150</td>\n",
       "      <td>2792.377475</td>\n",
       "      <td>2398.439142</td>\n",
       "      <td>165.735000</td>\n",
       "      <td>21666.666600</td>\n",
       "    </tr>\n",
       "    <tr>\n",
       "      <th>5</th>\n",
       "      <td>2023-03-01</td>\n",
       "      <td>0.0</td>\n",
       "      <td>1947.673144</td>\n",
       "      <td>3605.109728</td>\n",
       "      <td>3546.944100</td>\n",
       "      <td>2719.948386</td>\n",
       "      <td>2616.641079</td>\n",
       "      <td>3040.154600</td>\n",
       "      <td>9707.410539</td>\n",
       "    </tr>\n",
       "    <tr>\n",
       "      <th>6</th>\n",
       "      <td>2023-04-01</td>\n",
       "      <td>0.0</td>\n",
       "      <td>2498.240896</td>\n",
       "      <td>7108.837054</td>\n",
       "      <td>2946.769359</td>\n",
       "      <td>2776.400367</td>\n",
       "      <td>2546.685769</td>\n",
       "      <td>1700.000000</td>\n",
       "      <td>16225.253502</td>\n",
       "    </tr>\n",
       "    <tr>\n",
       "      <th>7</th>\n",
       "      <td>2023-05-01</td>\n",
       "      <td>0.0</td>\n",
       "      <td>2134.798633</td>\n",
       "      <td>6402.173767</td>\n",
       "      <td>2672.861089</td>\n",
       "      <td>2622.930484</td>\n",
       "      <td>2179.122147</td>\n",
       "      <td>3333.945244</td>\n",
       "      <td>17804.996024</td>\n",
       "    </tr>\n",
       "    <tr>\n",
       "      <th>8</th>\n",
       "      <td>2023-06-01</td>\n",
       "      <td>0.0</td>\n",
       "      <td>2087.629735</td>\n",
       "      <td>6904.450972</td>\n",
       "      <td>2093.843901</td>\n",
       "      <td>887.922078</td>\n",
       "      <td>2353.254733</td>\n",
       "      <td>1127.087199</td>\n",
       "      <td>21345.020316</td>\n",
       "    </tr>\n",
       "  </tbody>\n",
       "</table>\n",
       "</div>"
      ],
      "text/plain": [
       "Property_type month_year  إستراحة          بيت          شقة         عمارة  \\\n",
       "0             2022-02-01      0.0  2191.119962  3270.611754      0.000000   \n",
       "1             2022-03-01      0.0  1729.500231  2985.821386   3340.292200   \n",
       "2             2022-04-01      0.0  1738.593525  3625.947242      0.000000   \n",
       "3             2023-01-01      0.0  2437.802350  3429.489373   2343.010250   \n",
       "4             2023-02-01   2200.0  9718.818247  3801.334133  11506.625150   \n",
       "5             2023-03-01      0.0  1947.673144  3605.109728   3546.944100   \n",
       "6             2023-04-01      0.0  2498.240896  7108.837054   2946.769359   \n",
       "7             2023-05-01      0.0  2134.798633  6402.173767   2672.861089   \n",
       "8             2023-06-01      0.0  2087.629735  6904.450972   2093.843901   \n",
       "\n",
       "Property_type         فيلا     قطعة أرض         مرفق      معرض/محل  \n",
       "0              4066.290250  1787.252718     0.000000  11308.425567  \n",
       "1              2215.595012  2058.417878  2115.384600  26072.398644  \n",
       "2                 0.000000  2014.953914  3538.846700   6917.726778  \n",
       "3              2419.741000  2417.203690     0.000000   8875.621800  \n",
       "4              2792.377475  2398.439142   165.735000  21666.666600  \n",
       "5              2719.948386  2616.641079  3040.154600   9707.410539  \n",
       "6              2776.400367  2546.685769  1700.000000  16225.253502  \n",
       "7              2622.930484  2179.122147  3333.945244  17804.996024  \n",
       "8               887.922078  2353.254733  1127.087199  21345.020316  "
      ]
     },
     "execution_count": 118,
     "metadata": {},
     "output_type": "execute_result"
    }
   ],
   "source": [
    "\n",
    "pivot_table3 = average_price_per_sqm.pivot(index='month_year', columns='Property_type', values='Price_per_square-meter')\n",
    "pivot_table3.reset_index(inplace=True)\n",
    "pivot_table3 = pivot_table3.fillna(0)\n",
    "pivot_table3"
   ]
  },
  {
   "cell_type": "code",
   "execution_count": 119,
   "id": "d40fd9f5-8d62-40ca-844e-311763167548",
   "metadata": {},
   "outputs": [
    {
     "data": {
      "text/html": [
       "        <script type=\"text/javascript\">\n",
       "        window.PlotlyConfig = {MathJaxConfig: 'local'};\n",
       "        if (window.MathJax && window.MathJax.Hub && window.MathJax.Hub.Config) {window.MathJax.Hub.Config({SVG: {font: \"STIX-Web\"}});}\n",
       "        if (typeof require !== 'undefined') {\n",
       "        require.undef(\"plotly\");\n",
       "        requirejs.config({\n",
       "            paths: {\n",
       "                'plotly': ['https://cdn.plot.ly/plotly-2.12.1.min']\n",
       "            }\n",
       "        });\n",
       "        require(['plotly'], function(Plotly) {\n",
       "            window._Plotly = Plotly;\n",
       "        });\n",
       "        }\n",
       "        </script>\n",
       "        "
      ]
     },
     "metadata": {},
     "output_type": "display_data"
    },
    {
     "data": {
      "text/html": [
       "        <script type=\"text/javascript\">\n",
       "        window.PlotlyConfig = {MathJaxConfig: 'local'};\n",
       "        if (window.MathJax && window.MathJax.Hub && window.MathJax.Hub.Config) {window.MathJax.Hub.Config({SVG: {font: \"STIX-Web\"}});}\n",
       "        if (typeof require !== 'undefined') {\n",
       "        require.undef(\"plotly\");\n",
       "        requirejs.config({\n",
       "            paths: {\n",
       "                'plotly': ['https://cdn.plot.ly/plotly-2.12.1.min']\n",
       "            }\n",
       "        });\n",
       "        require(['plotly'], function(Plotly) {\n",
       "            window._Plotly = Plotly;\n",
       "        });\n",
       "        }\n",
       "        </script>\n",
       "        "
      ]
     },
     "metadata": {},
     "output_type": "display_data"
    },
    {
     "data": {
      "application/vnd.plotly.v1+json": {
       "config": {
        "linkText": "Export to plot.ly",
        "plotlyServerURL": "https://plot.ly",
        "showLink": true
       },
       "data": [
        {
         "fill": "tonexty",
         "fillcolor": "rgba(255, 153, 51, 0.3)",
         "line": {
          "color": "rgba(255, 153, 51, 1.0)",
          "dash": "solid",
          "shape": "linear",
          "width": 1.3
         },
         "mode": "lines",
         "name": "إستراحة",
         "text": "",
         "type": "scatter",
         "x": [
          "2022-02-01",
          "2022-03-01",
          "2022-04-01",
          "2023-01-01",
          "2023-02-01",
          "2023-03-01",
          "2023-04-01",
          "2023-05-01",
          "2023-06-01"
         ],
         "y": [
          0,
          0,
          0,
          0,
          2200,
          0,
          0,
          0,
          0
         ]
        },
        {
         "fill": "tonexty",
         "fillcolor": "rgba(55, 128, 191, 0.3)",
         "line": {
          "color": "rgba(55, 128, 191, 1.0)",
          "dash": "solid",
          "shape": "linear",
          "width": 1.3
         },
         "mode": "lines",
         "name": "بيت",
         "text": "",
         "type": "scatter",
         "x": [
          "2022-02-01",
          "2022-03-01",
          "2022-04-01",
          "2023-01-01",
          "2023-02-01",
          "2023-03-01",
          "2023-04-01",
          "2023-05-01",
          "2023-06-01"
         ],
         "y": [
          2191.1199625,
          1729.5002307692307,
          1738.593525,
          2437.80235,
          11918.818246666666,
          1947.673144,
          2498.2408957546777,
          2134.798632838359,
          2087.6297351472153
         ]
        },
        {
         "fill": "tonexty",
         "fillcolor": "rgba(50, 171, 96, 0.3)",
         "line": {
          "color": "rgba(50, 171, 96, 1.0)",
          "dash": "solid",
          "shape": "linear",
          "width": 1.3
         },
         "mode": "lines",
         "name": "شقة",
         "text": "",
         "type": "scatter",
         "x": [
          "2022-02-01",
          "2022-03-01",
          "2022-04-01",
          "2023-01-01",
          "2023-02-01",
          "2023-03-01",
          "2023-04-01",
          "2023-05-01",
          "2023-06-01"
         ],
         "y": [
          5461.7317167857145,
          4715.3216163692305,
          5364.540767,
          5867.291722891567,
          15720.152379319727,
          5552.782872225806,
          9607.077949296534,
          8536.972399968348,
          8992.080707267614
         ]
        },
        {
         "fill": "tonexty",
         "fillcolor": "rgba(128, 0, 128, 0.3)",
         "line": {
          "color": "rgba(128, 0, 128, 1.0)",
          "dash": "solid",
          "shape": "linear",
          "width": 1.3
         },
         "mode": "lines",
         "name": "عمارة",
         "text": "",
         "type": "scatter",
         "x": [
          "2022-02-01",
          "2022-03-01",
          "2022-04-01",
          "2023-01-01",
          "2023-02-01",
          "2023-03-01",
          "2023-04-01",
          "2023-05-01",
          "2023-06-01"
         ],
         "y": [
          5461.7317167857145,
          8055.61381636923,
          5364.540767,
          8210.301972891566,
          27226.777529319726,
          9099.726972225806,
          12553.84730849762,
          11209.833488957524,
          11085.924608183192
         ]
        },
        {
         "fill": "tonexty",
         "fillcolor": "rgba(219, 64, 82, 0.3)",
         "line": {
          "color": "rgba(219, 64, 82, 1.0)",
          "dash": "solid",
          "shape": "linear",
          "width": 1.3
         },
         "mode": "lines",
         "name": "فيلا",
         "text": "",
         "type": "scatter",
         "x": [
          "2022-02-01",
          "2022-03-01",
          "2022-04-01",
          "2023-01-01",
          "2023-02-01",
          "2023-03-01",
          "2023-04-01",
          "2023-05-01",
          "2023-06-01"
         ],
         "y": [
          9528.021966785715,
          10271.20882886923,
          5364.540767,
          10630.042972891566,
          30019.155004319728,
          11819.675357940092,
          15330.247675807077,
          13832.763972798912,
          11973.84668610527
         ]
        },
        {
         "fill": "tonexty",
         "fillcolor": "rgba(0, 128, 128, 0.3)",
         "line": {
          "color": "rgba(0, 128, 128, 1.0)",
          "dash": "solid",
          "shape": "linear",
          "width": 1.3
         },
         "mode": "lines",
         "name": "قطعة أرض",
         "text": "",
         "type": "scatter",
         "x": [
          "2022-02-01",
          "2022-03-01",
          "2022-04-01",
          "2023-01-01",
          "2023-02-01",
          "2023-03-01",
          "2023-04-01",
          "2023-05-01",
          "2023-06-01"
         ],
         "y": [
          11315.274684317212,
          12329.626706577563,
          7379.494681037627,
          13047.246662745176,
          32417.594146448006,
          14436.316436767285,
          17876.933444364422,
          16011.886119321842,
          14327.10141936356
         ]
        },
        {
         "fill": "tonexty",
         "fillcolor": "rgba(255, 255, 51, 0.3)",
         "line": {
          "color": "rgba(255, 255, 51, 1.0)",
          "dash": "solid",
          "shape": "linear",
          "width": 1.3
         },
         "mode": "lines",
         "name": "مرفق",
         "text": "",
         "type": "scatter",
         "x": [
          "2022-02-01",
          "2022-03-01",
          "2022-04-01",
          "2023-01-01",
          "2023-02-01",
          "2023-03-01",
          "2023-04-01",
          "2023-05-01",
          "2023-06-01"
         ],
         "y": [
          11315.274684317212,
          14445.011306577562,
          10918.341381037626,
          13047.246662745176,
          32583.329146448006,
          17476.471036767285,
          19576.933444364422,
          19345.83136312208,
          15454.18861787933
         ]
        },
        {
         "fill": "tonexty",
         "fillcolor": "rgba(128, 128, 0, 0.3)",
         "line": {
          "color": "rgba(128, 128, 0, 1.0)",
          "dash": "solid",
          "shape": "linear",
          "width": 1.3
         },
         "mode": "lines",
         "name": "معرض/محل",
         "text": "",
         "type": "scatter",
         "x": [
          "2022-02-01",
          "2022-03-01",
          "2022-04-01",
          "2023-01-01",
          "2023-02-01",
          "2023-03-01",
          "2023-04-01",
          "2023-05-01",
          "2023-06-01"
         ],
         "y": [
          22623.70025098388,
          40517.409951022004,
          17836.068158815404,
          21922.868462745177,
          54249.99574644801,
          27183.881575656174,
          35802.18694624631,
          37150.82738750586,
          36799.208934223694
         ]
        }
       ],
       "layout": {
        "autosize": true,
        "legend": {
         "bgcolor": "#FFFFFF",
         "font": {
          "color": "#4D5663"
         }
        },
        "paper_bgcolor": "#FFFFFF",
        "plot_bgcolor": "#FFFFFF",
        "template": {
         "data": {
          "bar": [
           {
            "error_x": {
             "color": "#2a3f5f"
            },
            "error_y": {
             "color": "#2a3f5f"
            },
            "marker": {
             "line": {
              "color": "#E5ECF6",
              "width": 0.5
             },
             "pattern": {
              "fillmode": "overlay",
              "size": 10,
              "solidity": 0.2
             }
            },
            "type": "bar"
           }
          ],
          "barpolar": [
           {
            "marker": {
             "line": {
              "color": "#E5ECF6",
              "width": 0.5
             },
             "pattern": {
              "fillmode": "overlay",
              "size": 10,
              "solidity": 0.2
             }
            },
            "type": "barpolar"
           }
          ],
          "carpet": [
           {
            "aaxis": {
             "endlinecolor": "#2a3f5f",
             "gridcolor": "white",
             "linecolor": "white",
             "minorgridcolor": "white",
             "startlinecolor": "#2a3f5f"
            },
            "baxis": {
             "endlinecolor": "#2a3f5f",
             "gridcolor": "white",
             "linecolor": "white",
             "minorgridcolor": "white",
             "startlinecolor": "#2a3f5f"
            },
            "type": "carpet"
           }
          ],
          "choropleth": [
           {
            "colorbar": {
             "outlinewidth": 0,
             "ticks": ""
            },
            "type": "choropleth"
           }
          ],
          "contour": [
           {
            "colorbar": {
             "outlinewidth": 0,
             "ticks": ""
            },
            "colorscale": [
             [
              0,
              "#0d0887"
             ],
             [
              0.1111111111111111,
              "#46039f"
             ],
             [
              0.2222222222222222,
              "#7201a8"
             ],
             [
              0.3333333333333333,
              "#9c179e"
             ],
             [
              0.4444444444444444,
              "#bd3786"
             ],
             [
              0.5555555555555556,
              "#d8576b"
             ],
             [
              0.6666666666666666,
              "#ed7953"
             ],
             [
              0.7777777777777778,
              "#fb9f3a"
             ],
             [
              0.8888888888888888,
              "#fdca26"
             ],
             [
              1,
              "#f0f921"
             ]
            ],
            "type": "contour"
           }
          ],
          "contourcarpet": [
           {
            "colorbar": {
             "outlinewidth": 0,
             "ticks": ""
            },
            "type": "contourcarpet"
           }
          ],
          "heatmap": [
           {
            "colorbar": {
             "outlinewidth": 0,
             "ticks": ""
            },
            "colorscale": [
             [
              0,
              "#0d0887"
             ],
             [
              0.1111111111111111,
              "#46039f"
             ],
             [
              0.2222222222222222,
              "#7201a8"
             ],
             [
              0.3333333333333333,
              "#9c179e"
             ],
             [
              0.4444444444444444,
              "#bd3786"
             ],
             [
              0.5555555555555556,
              "#d8576b"
             ],
             [
              0.6666666666666666,
              "#ed7953"
             ],
             [
              0.7777777777777778,
              "#fb9f3a"
             ],
             [
              0.8888888888888888,
              "#fdca26"
             ],
             [
              1,
              "#f0f921"
             ]
            ],
            "type": "heatmap"
           }
          ],
          "heatmapgl": [
           {
            "colorbar": {
             "outlinewidth": 0,
             "ticks": ""
            },
            "colorscale": [
             [
              0,
              "#0d0887"
             ],
             [
              0.1111111111111111,
              "#46039f"
             ],
             [
              0.2222222222222222,
              "#7201a8"
             ],
             [
              0.3333333333333333,
              "#9c179e"
             ],
             [
              0.4444444444444444,
              "#bd3786"
             ],
             [
              0.5555555555555556,
              "#d8576b"
             ],
             [
              0.6666666666666666,
              "#ed7953"
             ],
             [
              0.7777777777777778,
              "#fb9f3a"
             ],
             [
              0.8888888888888888,
              "#fdca26"
             ],
             [
              1,
              "#f0f921"
             ]
            ],
            "type": "heatmapgl"
           }
          ],
          "histogram": [
           {
            "marker": {
             "pattern": {
              "fillmode": "overlay",
              "size": 10,
              "solidity": 0.2
             }
            },
            "type": "histogram"
           }
          ],
          "histogram2d": [
           {
            "colorbar": {
             "outlinewidth": 0,
             "ticks": ""
            },
            "colorscale": [
             [
              0,
              "#0d0887"
             ],
             [
              0.1111111111111111,
              "#46039f"
             ],
             [
              0.2222222222222222,
              "#7201a8"
             ],
             [
              0.3333333333333333,
              "#9c179e"
             ],
             [
              0.4444444444444444,
              "#bd3786"
             ],
             [
              0.5555555555555556,
              "#d8576b"
             ],
             [
              0.6666666666666666,
              "#ed7953"
             ],
             [
              0.7777777777777778,
              "#fb9f3a"
             ],
             [
              0.8888888888888888,
              "#fdca26"
             ],
             [
              1,
              "#f0f921"
             ]
            ],
            "type": "histogram2d"
           }
          ],
          "histogram2dcontour": [
           {
            "colorbar": {
             "outlinewidth": 0,
             "ticks": ""
            },
            "colorscale": [
             [
              0,
              "#0d0887"
             ],
             [
              0.1111111111111111,
              "#46039f"
             ],
             [
              0.2222222222222222,
              "#7201a8"
             ],
             [
              0.3333333333333333,
              "#9c179e"
             ],
             [
              0.4444444444444444,
              "#bd3786"
             ],
             [
              0.5555555555555556,
              "#d8576b"
             ],
             [
              0.6666666666666666,
              "#ed7953"
             ],
             [
              0.7777777777777778,
              "#fb9f3a"
             ],
             [
              0.8888888888888888,
              "#fdca26"
             ],
             [
              1,
              "#f0f921"
             ]
            ],
            "type": "histogram2dcontour"
           }
          ],
          "mesh3d": [
           {
            "colorbar": {
             "outlinewidth": 0,
             "ticks": ""
            },
            "type": "mesh3d"
           }
          ],
          "parcoords": [
           {
            "line": {
             "colorbar": {
              "outlinewidth": 0,
              "ticks": ""
             }
            },
            "type": "parcoords"
           }
          ],
          "pie": [
           {
            "automargin": true,
            "type": "pie"
           }
          ],
          "scatter": [
           {
            "fillpattern": {
             "fillmode": "overlay",
             "size": 10,
             "solidity": 0.2
            },
            "type": "scatter"
           }
          ],
          "scatter3d": [
           {
            "line": {
             "colorbar": {
              "outlinewidth": 0,
              "ticks": ""
             }
            },
            "marker": {
             "colorbar": {
              "outlinewidth": 0,
              "ticks": ""
             }
            },
            "type": "scatter3d"
           }
          ],
          "scattercarpet": [
           {
            "marker": {
             "colorbar": {
              "outlinewidth": 0,
              "ticks": ""
             }
            },
            "type": "scattercarpet"
           }
          ],
          "scattergeo": [
           {
            "marker": {
             "colorbar": {
              "outlinewidth": 0,
              "ticks": ""
             }
            },
            "type": "scattergeo"
           }
          ],
          "scattergl": [
           {
            "marker": {
             "colorbar": {
              "outlinewidth": 0,
              "ticks": ""
             }
            },
            "type": "scattergl"
           }
          ],
          "scattermapbox": [
           {
            "marker": {
             "colorbar": {
              "outlinewidth": 0,
              "ticks": ""
             }
            },
            "type": "scattermapbox"
           }
          ],
          "scatterpolar": [
           {
            "marker": {
             "colorbar": {
              "outlinewidth": 0,
              "ticks": ""
             }
            },
            "type": "scatterpolar"
           }
          ],
          "scatterpolargl": [
           {
            "marker": {
             "colorbar": {
              "outlinewidth": 0,
              "ticks": ""
             }
            },
            "type": "scatterpolargl"
           }
          ],
          "scatterternary": [
           {
            "marker": {
             "colorbar": {
              "outlinewidth": 0,
              "ticks": ""
             }
            },
            "type": "scatterternary"
           }
          ],
          "surface": [
           {
            "colorbar": {
             "outlinewidth": 0,
             "ticks": ""
            },
            "colorscale": [
             [
              0,
              "#0d0887"
             ],
             [
              0.1111111111111111,
              "#46039f"
             ],
             [
              0.2222222222222222,
              "#7201a8"
             ],
             [
              0.3333333333333333,
              "#9c179e"
             ],
             [
              0.4444444444444444,
              "#bd3786"
             ],
             [
              0.5555555555555556,
              "#d8576b"
             ],
             [
              0.6666666666666666,
              "#ed7953"
             ],
             [
              0.7777777777777778,
              "#fb9f3a"
             ],
             [
              0.8888888888888888,
              "#fdca26"
             ],
             [
              1,
              "#f0f921"
             ]
            ],
            "type": "surface"
           }
          ],
          "table": [
           {
            "cells": {
             "fill": {
              "color": "#EBF0F8"
             },
             "line": {
              "color": "white"
             }
            },
            "header": {
             "fill": {
              "color": "#C8D4E3"
             },
             "line": {
              "color": "white"
             }
            },
            "type": "table"
           }
          ]
         },
         "layout": {
          "annotationdefaults": {
           "arrowcolor": "#2a3f5f",
           "arrowhead": 0,
           "arrowwidth": 1
          },
          "autotypenumbers": "strict",
          "coloraxis": {
           "colorbar": {
            "outlinewidth": 0,
            "ticks": ""
           }
          },
          "colorscale": {
           "diverging": [
            [
             0,
             "#8e0152"
            ],
            [
             0.1,
             "#c51b7d"
            ],
            [
             0.2,
             "#de77ae"
            ],
            [
             0.3,
             "#f1b6da"
            ],
            [
             0.4,
             "#fde0ef"
            ],
            [
             0.5,
             "#f7f7f7"
            ],
            [
             0.6,
             "#e6f5d0"
            ],
            [
             0.7,
             "#b8e186"
            ],
            [
             0.8,
             "#7fbc41"
            ],
            [
             0.9,
             "#4d9221"
            ],
            [
             1,
             "#276419"
            ]
           ],
           "sequential": [
            [
             0,
             "#0d0887"
            ],
            [
             0.1111111111111111,
             "#46039f"
            ],
            [
             0.2222222222222222,
             "#7201a8"
            ],
            [
             0.3333333333333333,
             "#9c179e"
            ],
            [
             0.4444444444444444,
             "#bd3786"
            ],
            [
             0.5555555555555556,
             "#d8576b"
            ],
            [
             0.6666666666666666,
             "#ed7953"
            ],
            [
             0.7777777777777778,
             "#fb9f3a"
            ],
            [
             0.8888888888888888,
             "#fdca26"
            ],
            [
             1,
             "#f0f921"
            ]
           ],
           "sequentialminus": [
            [
             0,
             "#0d0887"
            ],
            [
             0.1111111111111111,
             "#46039f"
            ],
            [
             0.2222222222222222,
             "#7201a8"
            ],
            [
             0.3333333333333333,
             "#9c179e"
            ],
            [
             0.4444444444444444,
             "#bd3786"
            ],
            [
             0.5555555555555556,
             "#d8576b"
            ],
            [
             0.6666666666666666,
             "#ed7953"
            ],
            [
             0.7777777777777778,
             "#fb9f3a"
            ],
            [
             0.8888888888888888,
             "#fdca26"
            ],
            [
             1,
             "#f0f921"
            ]
           ]
          },
          "colorway": [
           "#636efa",
           "#EF553B",
           "#00cc96",
           "#ab63fa",
           "#FFA15A",
           "#19d3f3",
           "#FF6692",
           "#B6E880",
           "#FF97FF",
           "#FECB52"
          ],
          "font": {
           "color": "#2a3f5f"
          },
          "geo": {
           "bgcolor": "white",
           "lakecolor": "white",
           "landcolor": "#E5ECF6",
           "showlakes": true,
           "showland": true,
           "subunitcolor": "white"
          },
          "hoverlabel": {
           "align": "left"
          },
          "hovermode": "closest",
          "mapbox": {
           "style": "light"
          },
          "paper_bgcolor": "white",
          "plot_bgcolor": "#E5ECF6",
          "polar": {
           "angularaxis": {
            "gridcolor": "white",
            "linecolor": "white",
            "ticks": ""
           },
           "bgcolor": "#E5ECF6",
           "radialaxis": {
            "gridcolor": "white",
            "linecolor": "white",
            "ticks": ""
           }
          },
          "scene": {
           "xaxis": {
            "backgroundcolor": "#E5ECF6",
            "gridcolor": "white",
            "gridwidth": 2,
            "linecolor": "white",
            "showbackground": true,
            "ticks": "",
            "zerolinecolor": "white"
           },
           "yaxis": {
            "backgroundcolor": "#E5ECF6",
            "gridcolor": "white",
            "gridwidth": 2,
            "linecolor": "white",
            "showbackground": true,
            "ticks": "",
            "zerolinecolor": "white"
           },
           "zaxis": {
            "backgroundcolor": "#E5ECF6",
            "gridcolor": "white",
            "gridwidth": 2,
            "linecolor": "white",
            "showbackground": true,
            "ticks": "",
            "zerolinecolor": "white"
           }
          },
          "shapedefaults": {
           "line": {
            "color": "#2a3f5f"
           }
          },
          "ternary": {
           "aaxis": {
            "gridcolor": "white",
            "linecolor": "white",
            "ticks": ""
           },
           "baxis": {
            "gridcolor": "white",
            "linecolor": "white",
            "ticks": ""
           },
           "bgcolor": "#E5ECF6",
           "caxis": {
            "gridcolor": "white",
            "linecolor": "white",
            "ticks": ""
           }
          },
          "title": {
           "x": 0.05
          },
          "xaxis": {
           "automargin": true,
           "gridcolor": "white",
           "linecolor": "white",
           "ticks": "",
           "title": {
            "standoff": 15
           },
           "zerolinecolor": "white",
           "zerolinewidth": 2
          },
          "yaxis": {
           "automargin": true,
           "gridcolor": "white",
           "linecolor": "white",
           "ticks": "",
           "title": {
            "standoff": 15
           },
           "zerolinecolor": "white",
           "zerolinewidth": 2
          }
         }
        },
        "title": {
         "font": {
          "color": "#4D5663"
         },
         "text": "Stacked Area Chart"
        },
        "xaxis": {
         "autorange": true,
         "gridcolor": "#E1E5ED",
         "range": [
          "2022-02-01",
          "2023-06-01"
         ],
         "showgrid": true,
         "tickfont": {
          "color": "#4D5663"
         },
         "title": {
          "font": {
           "color": "#4D5663"
          },
          "text": ""
         },
         "type": "date",
         "zerolinecolor": "#E1E5ED"
        },
        "yaxis": {
         "autorange": true,
         "gridcolor": "#E1E5ED",
         "range": [
          -1188.305075657368,
          57167.80105287461
         ],
         "showgrid": true,
         "tickfont": {
          "color": "#4D5663"
         },
         "title": {
          "font": {
           "color": "#4D5663"
          },
          "text": ""
         },
         "type": "linear",
         "zerolinecolor": "#E1E5ED"
        }
       }
      },
      "image/png": "[encoded data removed]",
      "text/html": [
       "<div>                            <div id=\"7052c4e6-4220-4fad-adbf-a0858b3dfbe5\" class=\"plotly-graph-div\" style=\"height:525px; width:100%;\"></div>            <script type=\"text/javascript\">                require([\"plotly\"], function(Plotly) {                    window.PLOTLYENV=window.PLOTLYENV || {};\n",
       "                    window.PLOTLYENV.BASE_URL='https://plot.ly';                                    if (document.getElementById(\"7052c4e6-4220-4fad-adbf-a0858b3dfbe5\")) {                    Plotly.newPlot(                        \"7052c4e6-4220-4fad-adbf-a0858b3dfbe5\",                        [{\"fill\":\"tonexty\",\"fillcolor\":\"rgba(255, 153, 51, 0.3)\",\"line\":{\"color\":\"rgba(255, 153, 51, 1.0)\",\"dash\":\"solid\",\"shape\":\"linear\",\"width\":1.3},\"mode\":\"lines\",\"name\":\"\\u0625\\u0633\\u062a\\u0631\\u0627\\u062d\\u0629\",\"text\":\"\",\"x\":[\"2022-02-01\",\"2022-03-01\",\"2022-04-01\",\"2023-01-01\",\"2023-02-01\",\"2023-03-01\",\"2023-04-01\",\"2023-05-01\",\"2023-06-01\"],\"y\":[0.0,0.0,0.0,0.0,2200.0,0.0,0.0,0.0,0.0],\"type\":\"scatter\"},{\"fill\":\"tonexty\",\"fillcolor\":\"rgba(55, 128, 191, 0.3)\",\"line\":{\"color\":\"rgba(55, 128, 191, 1.0)\",\"dash\":\"solid\",\"shape\":\"linear\",\"width\":1.3},\"mode\":\"lines\",\"name\":\"\\u0628\\u064a\\u062a\",\"text\":\"\",\"x\":[\"2022-02-01\",\"2022-03-01\",\"2022-04-01\",\"2023-01-01\",\"2023-02-01\",\"2023-03-01\",\"2023-04-01\",\"2023-05-01\",\"2023-06-01\"],\"y\":[2191.1199625,1729.5002307692307,1738.593525,2437.80235,11918.818246666666,1947.673144,2498.2408957546777,2134.798632838359,2087.6297351472153],\"type\":\"scatter\"},{\"fill\":\"tonexty\",\"fillcolor\":\"rgba(50, 171, 96, 0.3)\",\"line\":{\"color\":\"rgba(50, 171, 96, 1.0)\",\"dash\":\"solid\",\"shape\":\"linear\",\"width\":1.3},\"mode\":\"lines\",\"name\":\"\\u0634\\u0642\\u0629\",\"text\":\"\",\"x\":[\"2022-02-01\",\"2022-03-01\",\"2022-04-01\",\"2023-01-01\",\"2023-02-01\",\"2023-03-01\",\"2023-04-01\",\"2023-05-01\",\"2023-06-01\"],\"y\":[5461.7317167857145,4715.3216163692305,5364.540767,5867.291722891567,15720.152379319727,5552.782872225806,9607.077949296534,8536.972399968348,8992.080707267614],\"type\":\"scatter\"},{\"fill\":\"tonexty\",\"fillcolor\":\"rgba(128, 0, 128, 0.3)\",\"line\":{\"color\":\"rgba(128, 0, 128, 1.0)\",\"dash\":\"solid\",\"shape\":\"linear\",\"width\":1.3},\"mode\":\"lines\",\"name\":\"\\u0639\\u0645\\u0627\\u0631\\u0629\",\"text\":\"\",\"x\":[\"2022-02-01\",\"2022-03-01\",\"2022-04-01\",\"2023-01-01\",\"2023-02-01\",\"2023-03-01\",\"2023-04-01\",\"2023-05-01\",\"2023-06-01\"],\"y\":[5461.7317167857145,8055.61381636923,5364.540767,8210.301972891566,27226.777529319726,9099.726972225806,12553.84730849762,11209.833488957524,11085.924608183192],\"type\":\"scatter\"},{\"fill\":\"tonexty\",\"fillcolor\":\"rgba(219, 64, 82, 0.3)\",\"line\":{\"color\":\"rgba(219, 64, 82, 1.0)\",\"dash\":\"solid\",\"shape\":\"linear\",\"width\":1.3},\"mode\":\"lines\",\"name\":\"\\u0641\\u064a\\u0644\\u0627\",\"text\":\"\",\"x\":[\"2022-02-01\",\"2022-03-01\",\"2022-04-01\",\"2023-01-01\",\"2023-02-01\",\"2023-03-01\",\"2023-04-01\",\"2023-05-01\",\"2023-06-01\"],\"y\":[9528.021966785715,10271.20882886923,5364.540767,10630.042972891566,30019.155004319728,11819.675357940092,15330.247675807077,13832.763972798912,11973.84668610527],\"type\":\"scatter\"},{\"fill\":\"tonexty\",\"fillcolor\":\"rgba(0, 128, 128, 0.3)\",\"line\":{\"color\":\"rgba(0, 128, 128, 1.0)\",\"dash\":\"solid\",\"shape\":\"linear\",\"width\":1.3},\"mode\":\"lines\",\"name\":\"\\u0642\\u0637\\u0639\\u0629 \\u0623\\u0631\\u0636\",\"text\":\"\",\"x\":[\"2022-02-01\",\"2022-03-01\",\"2022-04-01\",\"2023-01-01\",\"2023-02-01\",\"2023-03-01\",\"2023-04-01\",\"2023-05-01\",\"2023-06-01\"],\"y\":[11315.274684317212,12329.626706577563,7379.494681037627,13047.246662745176,32417.594146448006,14436.316436767285,17876.933444364422,16011.886119321842,14327.10141936356],\"type\":\"scatter\"},{\"fill\":\"tonexty\",\"fillcolor\":\"rgba(255, 255, 51, 0.3)\",\"line\":{\"color\":\"rgba(255, 255, 51, 1.0)\",\"dash\":\"solid\",\"shape\":\"linear\",\"width\":1.3},\"mode\":\"lines\",\"name\":\"\\u0645\\u0631\\u0641\\u0642\",\"text\":\"\",\"x\":[\"2022-02-01\",\"2022-03-01\",\"2022-04-01\",\"2023-01-01\",\"2023-02-01\",\"2023-03-01\",\"2023-04-01\",\"2023-05-01\",\"2023-06-01\"],\"y\":[11315.274684317212,14445.011306577562,10918.341381037626,13047.246662745176,32583.329146448006,17476.471036767285,19576.933444364422,19345.83136312208,15454.18861787933],\"type\":\"scatter\"},{\"fill\":\"tonexty\",\"fillcolor\":\"rgba(128, 128, 0, 0.3)\",\"line\":{\"color\":\"rgba(128, 128, 0, 1.0)\",\"dash\":\"solid\",\"shape\":\"linear\",\"width\":1.3},\"mode\":\"lines\",\"name\":\"\\u0645\\u0639\\u0631\\u0636/\\u0645\\u062d\\u0644\",\"text\":\"\",\"x\":[\"2022-02-01\",\"2022-03-01\",\"2022-04-01\",\"2023-01-01\",\"2023-02-01\",\"2023-03-01\",\"2023-04-01\",\"2023-05-01\",\"2023-06-01\"],\"y\":[22623.70025098388,40517.409951022004,17836.068158815404,21922.868462745177,54249.99574644801,27183.881575656174,35802.18694624631,37150.82738750586,36799.208934223694],\"type\":\"scatter\"}],                        {\"legend\":{\"bgcolor\":\"#FFFFFF\",\"font\":{\"color\":\"#4D5663\"}},\"paper_bgcolor\":\"#FFFFFF\",\"plot_bgcolor\":\"#FFFFFF\",\"template\":{\"data\":{\"barpolar\":[{\"marker\":{\"line\":{\"color\":\"#E5ECF6\",\"width\":0.5},\"pattern\":{\"fillmode\":\"overlay\",\"size\":10,\"solidity\":0.2}},\"type\":\"barpolar\"}],\"bar\":[{\"error_x\":{\"color\":\"#2a3f5f\"},\"error_y\":{\"color\":\"#2a3f5f\"},\"marker\":{\"line\":{\"color\":\"#E5ECF6\",\"width\":0.5},\"pattern\":{\"fillmode\":\"overlay\",\"size\":10,\"solidity\":0.2}},\"type\":\"bar\"}],\"carpet\":[{\"aaxis\":{\"endlinecolor\":\"#2a3f5f\",\"gridcolor\":\"white\",\"linecolor\":\"white\",\"minorgridcolor\":\"white\",\"startlinecolor\":\"#2a3f5f\"},\"baxis\":{\"endlinecolor\":\"#2a3f5f\",\"gridcolor\":\"white\",\"linecolor\":\"white\",\"minorgridcolor\":\"white\",\"startlinecolor\":\"#2a3f5f\"},\"type\":\"carpet\"}],\"choropleth\":[{\"colorbar\":{\"outlinewidth\":0,\"ticks\":\"\"},\"type\":\"choropleth\"}],\"contourcarpet\":[{\"colorbar\":{\"outlinewidth\":0,\"ticks\":\"\"},\"type\":\"contourcarpet\"}],\"contour\":[{\"colorbar\":{\"outlinewidth\":0,\"ticks\":\"\"},\"colorscale\":[[0.0,\"#0d0887\"],[0.1111111111111111,\"#46039f\"],[0.2222222222222222,\"#7201a8\"],[0.3333333333333333,\"#9c179e\"],[0.4444444444444444,\"#bd3786\"],[0.5555555555555556,\"#d8576b\"],[0.6666666666666666,\"#ed7953\"],[0.7777777777777778,\"#fb9f3a\"],[0.8888888888888888,\"#fdca26\"],[1.0,\"#f0f921\"]],\"type\":\"contour\"}],\"heatmapgl\":[{\"colorbar\":{\"outlinewidth\":0,\"ticks\":\"\"},\"colorscale\":[[0.0,\"#0d0887\"],[0.1111111111111111,\"#46039f\"],[0.2222222222222222,\"#7201a8\"],[0.3333333333333333,\"#9c179e\"],[0.4444444444444444,\"#bd3786\"],[0.5555555555555556,\"#d8576b\"],[0.6666666666666666,\"#ed7953\"],[0.7777777777777778,\"#fb9f3a\"],[0.8888888888888888,\"#fdca26\"],[1.0,\"#f0f921\"]],\"type\":\"heatmapgl\"}],\"heatmap\":[{\"colorbar\":{\"outlinewidth\":0,\"ticks\":\"\"},\"colorscale\":[[0.0,\"#0d0887\"],[0.1111111111111111,\"#46039f\"],[0.2222222222222222,\"#7201a8\"],[0.3333333333333333,\"#9c179e\"],[0.4444444444444444,\"#bd3786\"],[0.5555555555555556,\"#d8576b\"],[0.6666666666666666,\"#ed7953\"],[0.7777777777777778,\"#fb9f3a\"],[0.8888888888888888,\"#fdca26\"],[1.0,\"#f0f921\"]],\"type\":\"heatmap\"}],\"histogram2dcontour\":[{\"colorbar\":{\"outlinewidth\":0,\"ticks\":\"\"},\"colorscale\":[[0.0,\"#0d0887\"],[0.1111111111111111,\"#46039f\"],[0.2222222222222222,\"#7201a8\"],[0.3333333333333333,\"#9c179e\"],[0.4444444444444444,\"#bd3786\"],[0.5555555555555556,\"#d8576b\"],[0.6666666666666666,\"#ed7953\"],[0.7777777777777778,\"#fb9f3a\"],[0.8888888888888888,\"#fdca26\"],[1.0,\"#f0f921\"]],\"type\":\"histogram2dcontour\"}],\"histogram2d\":[{\"colorbar\":{\"outlinewidth\":0,\"ticks\":\"\"},\"colorscale\":[[0.0,\"#0d0887\"],[0.1111111111111111,\"#46039f\"],[0.2222222222222222,\"#7201a8\"],[0.3333333333333333,\"#9c179e\"],[0.4444444444444444,\"#bd3786\"],[0.5555555555555556,\"#d8576b\"],[0.6666666666666666,\"#ed7953\"],[0.7777777777777778,\"#fb9f3a\"],[0.8888888888888888,\"#fdca26\"],[1.0,\"#f0f921\"]],\"type\":\"histogram2d\"}],\"histogram\":[{\"marker\":{\"pattern\":{\"fillmode\":\"overlay\",\"size\":10,\"solidity\":0.2}},\"type\":\"histogram\"}],\"mesh3d\":[{\"colorbar\":{\"outlinewidth\":0,\"ticks\":\"\"},\"type\":\"mesh3d\"}],\"parcoords\":[{\"line\":{\"colorbar\":{\"outlinewidth\":0,\"ticks\":\"\"}},\"type\":\"parcoords\"}],\"pie\":[{\"automargin\":true,\"type\":\"pie\"}],\"scatter3d\":[{\"line\":{\"colorbar\":{\"outlinewidth\":0,\"ticks\":\"\"}},\"marker\":{\"colorbar\":{\"outlinewidth\":0,\"ticks\":\"\"}},\"type\":\"scatter3d\"}],\"scattercarpet\":[{\"marker\":{\"colorbar\":{\"outlinewidth\":0,\"ticks\":\"\"}},\"type\":\"scattercarpet\"}],\"scattergeo\":[{\"marker\":{\"colorbar\":{\"outlinewidth\":0,\"ticks\":\"\"}},\"type\":\"scattergeo\"}],\"scattergl\":[{\"marker\":{\"colorbar\":{\"outlinewidth\":0,\"ticks\":\"\"}},\"type\":\"scattergl\"}],\"scattermapbox\":[{\"marker\":{\"colorbar\":{\"outlinewidth\":0,\"ticks\":\"\"}},\"type\":\"scattermapbox\"}],\"scatterpolargl\":[{\"marker\":{\"colorbar\":{\"outlinewidth\":0,\"ticks\":\"\"}},\"type\":\"scatterpolargl\"}],\"scatterpolar\":[{\"marker\":{\"colorbar\":{\"outlinewidth\":0,\"ticks\":\"\"}},\"type\":\"scatterpolar\"}],\"scatter\":[{\"fillpattern\":{\"fillmode\":\"overlay\",\"size\":10,\"solidity\":0.2},\"type\":\"scatter\"}],\"scatterternary\":[{\"marker\":{\"colorbar\":{\"outlinewidth\":0,\"ticks\":\"\"}},\"type\":\"scatterternary\"}],\"surface\":[{\"colorbar\":{\"outlinewidth\":0,\"ticks\":\"\"},\"colorscale\":[[0.0,\"#0d0887\"],[0.1111111111111111,\"#46039f\"],[0.2222222222222222,\"#7201a8\"],[0.3333333333333333,\"#9c179e\"],[0.4444444444444444,\"#bd3786\"],[0.5555555555555556,\"#d8576b\"],[0.6666666666666666,\"#ed7953\"],[0.7777777777777778,\"#fb9f3a\"],[0.8888888888888888,\"#fdca26\"],[1.0,\"#f0f921\"]],\"type\":\"surface\"}],\"table\":[{\"cells\":{\"fill\":{\"color\":\"#EBF0F8\"},\"line\":{\"color\":\"white\"}},\"header\":{\"fill\":{\"color\":\"#C8D4E3\"},\"line\":{\"color\":\"white\"}},\"type\":\"table\"}]},\"layout\":{\"annotationdefaults\":{\"arrowcolor\":\"#2a3f5f\",\"arrowhead\":0,\"arrowwidth\":1},\"autotypenumbers\":\"strict\",\"coloraxis\":{\"colorbar\":{\"outlinewidth\":0,\"ticks\":\"\"}},\"colorscale\":{\"diverging\":[[0,\"#8e0152\"],[0.1,\"#c51b7d\"],[0.2,\"#de77ae\"],[0.3,\"#f1b6da\"],[0.4,\"#fde0ef\"],[0.5,\"#f7f7f7\"],[0.6,\"#e6f5d0\"],[0.7,\"#b8e186\"],[0.8,\"#7fbc41\"],[0.9,\"#4d9221\"],[1,\"#276419\"]],\"sequential\":[[0.0,\"#0d0887\"],[0.1111111111111111,\"#46039f\"],[0.2222222222222222,\"#7201a8\"],[0.3333333333333333,\"#9c179e\"],[0.4444444444444444,\"#bd3786\"],[0.5555555555555556,\"#d8576b\"],[0.6666666666666666,\"#ed7953\"],[0.7777777777777778,\"#fb9f3a\"],[0.8888888888888888,\"#fdca26\"],[1.0,\"#f0f921\"]],\"sequentialminus\":[[0.0,\"#0d0887\"],[0.1111111111111111,\"#46039f\"],[0.2222222222222222,\"#7201a8\"],[0.3333333333333333,\"#9c179e\"],[0.4444444444444444,\"#bd3786\"],[0.5555555555555556,\"#d8576b\"],[0.6666666666666666,\"#ed7953\"],[0.7777777777777778,\"#fb9f3a\"],[0.8888888888888888,\"#fdca26\"],[1.0,\"#f0f921\"]]},\"colorway\":[\"#636efa\",\"#EF553B\",\"#00cc96\",\"#ab63fa\",\"#FFA15A\",\"#19d3f3\",\"#FF6692\",\"#B6E880\",\"#FF97FF\",\"#FECB52\"],\"font\":{\"color\":\"#2a3f5f\"},\"geo\":{\"bgcolor\":\"white\",\"lakecolor\":\"white\",\"landcolor\":\"#E5ECF6\",\"showlakes\":true,\"showland\":true,\"subunitcolor\":\"white\"},\"hoverlabel\":{\"align\":\"left\"},\"hovermode\":\"closest\",\"mapbox\":{\"style\":\"light\"},\"paper_bgcolor\":\"white\",\"plot_bgcolor\":\"#E5ECF6\",\"polar\":{\"angularaxis\":{\"gridcolor\":\"white\",\"linecolor\":\"white\",\"ticks\":\"\"},\"bgcolor\":\"#E5ECF6\",\"radialaxis\":{\"gridcolor\":\"white\",\"linecolor\":\"white\",\"ticks\":\"\"}},\"scene\":{\"xaxis\":{\"backgroundcolor\":\"#E5ECF6\",\"gridcolor\":\"white\",\"gridwidth\":2,\"linecolor\":\"white\",\"showbackground\":true,\"ticks\":\"\",\"zerolinecolor\":\"white\"},\"yaxis\":{\"backgroundcolor\":\"#E5ECF6\",\"gridcolor\":\"white\",\"gridwidth\":2,\"linecolor\":\"white\",\"showbackground\":true,\"ticks\":\"\",\"zerolinecolor\":\"white\"},\"zaxis\":{\"backgroundcolor\":\"#E5ECF6\",\"gridcolor\":\"white\",\"gridwidth\":2,\"linecolor\":\"white\",\"showbackground\":true,\"ticks\":\"\",\"zerolinecolor\":\"white\"}},\"shapedefaults\":{\"line\":{\"color\":\"#2a3f5f\"}},\"ternary\":{\"aaxis\":{\"gridcolor\":\"white\",\"linecolor\":\"white\",\"ticks\":\"\"},\"baxis\":{\"gridcolor\":\"white\",\"linecolor\":\"white\",\"ticks\":\"\"},\"bgcolor\":\"#E5ECF6\",\"caxis\":{\"gridcolor\":\"white\",\"linecolor\":\"white\",\"ticks\":\"\"}},\"title\":{\"x\":0.05},\"xaxis\":{\"automargin\":true,\"gridcolor\":\"white\",\"linecolor\":\"white\",\"ticks\":\"\",\"title\":{\"standoff\":15},\"zerolinecolor\":\"white\",\"zerolinewidth\":2},\"yaxis\":{\"automargin\":true,\"gridcolor\":\"white\",\"linecolor\":\"white\",\"ticks\":\"\",\"title\":{\"standoff\":15},\"zerolinecolor\":\"white\",\"zerolinewidth\":2}}},\"title\":{\"font\":{\"color\":\"#4D5663\"},\"text\":\"Stacked Area Chart\"},\"xaxis\":{\"gridcolor\":\"#E1E5ED\",\"showgrid\":true,\"tickfont\":{\"color\":\"#4D5663\"},\"title\":{\"font\":{\"color\":\"#4D5663\"},\"text\":\"\"},\"zerolinecolor\":\"#E1E5ED\"},\"yaxis\":{\"gridcolor\":\"#E1E5ED\",\"showgrid\":true,\"tickfont\":{\"color\":\"#4D5663\"},\"title\":{\"font\":{\"color\":\"#4D5663\"},\"text\":\"\"},\"zerolinecolor\":\"#E1E5ED\"}},                        {\"showLink\": true, \"linkText\": \"Export to plot.ly\", \"plotlyServerURL\": \"https://plot.ly\", \"responsive\": true}                    ).then(function(){\n",
       "                            \n",
       "var gd = document.getElementById('7052c4e6-4220-4fad-adbf-a0858b3dfbe5');\n",
       "var x = new MutationObserver(function (mutations, observer) {{\n",
       "        var display = window.getComputedStyle(gd).display;\n",
       "        if (!display || display === 'none') {{\n",
       "            console.log([gd, 'removed!']);\n",
       "            Plotly.purge(gd);\n",
       "            observer.disconnect();\n",
       "        }}\n",
       "}});\n",
       "\n",
       "// Listen for the removal of the full notebook cells\n",
       "var notebookContainer = gd.closest('#notebook-container');\n",
       "if (notebookContainer) {{\n",
       "    x.observe(notebookContainer, {childList: true});\n",
       "}}\n",
       "\n",
       "// Listen for the clearing of the current output cell\n",
       "var outputEl = gd.closest('.output');\n",
       "if (outputEl) {{\n",
       "    x.observe(outputEl, {childList: true});\n",
       "}}\n",
       "\n",
       "                        })                };                });            </script>        </div>"
      ]
     },
     "metadata": {},
     "output_type": "display_data"
    }
   ],
   "source": [
    "pyo.init_notebook_mode(connected=True)\n",
    "cf.go_offline()\n",
    "pivot_table3.iplot(kind='area', x='month_year', y=['إستراحة','بيت','شقة','عمارة','فيلا','قطعة أرض','مرفق','معرض/محل'], fill=True, theme='white', title='Stacked Area Chart')"
   ]
  },
  {
   "cell_type": "code",
   "execution_count": 151,
   "id": "54682e97-a041-42dd-9ee0-b524e1e88b32",
   "metadata": {},
   "outputs": [
    {
     "data": {
      "text/html": [
       "<div>\n",
       "<style scoped>\n",
       "    .dataframe tbody tr th:only-of-type {\n",
       "        vertical-align: middle;\n",
       "    }\n",
       "\n",
       "    .dataframe tbody tr th {\n",
       "        vertical-align: top;\n",
       "    }\n",
       "\n",
       "    .dataframe thead th {\n",
       "        text-align: right;\n",
       "    }\n",
       "</style>\n",
       "<table border=\"1\" class=\"dataframe\">\n",
       "  <thead>\n",
       "    <tr style=\"text-align: right;\">\n",
       "      <th></th>\n",
       "      <th>Reference_Number</th>\n",
       "      <th>Region</th>\n",
       "      <th>City</th>\n",
       "      <th>City/Neighborhood</th>\n",
       "      <th>Date</th>\n",
       "      <th>Property_classification</th>\n",
       "      <th>Property_type</th>\n",
       "      <th>Number_of_properties</th>\n",
       "      <th>Price</th>\n",
       "      <th>Space</th>\n",
       "      <th>Price_per_square-meter</th>\n",
       "      <th>month_year</th>\n",
       "    </tr>\n",
       "  </thead>\n",
       "  <tbody>\n",
       "    <tr>\n",
       "      <th>56</th>\n",
       "      <td>18916574</td>\n",
       "      <td>منطقة الرياض</td>\n",
       "      <td>الرياض</td>\n",
       "      <td>اشبيليا</td>\n",
       "      <td>2023-01-01</td>\n",
       "      <td>سكني</td>\n",
       "      <td>قطعة أرض</td>\n",
       "      <td>1</td>\n",
       "      <td>1150000.0</td>\n",
       "      <td>450.00</td>\n",
       "      <td>2555.5555</td>\n",
       "      <td>2023-01-01</td>\n",
       "    </tr>\n",
       "    <tr>\n",
       "      <th>57</th>\n",
       "      <td>18917832</td>\n",
       "      <td>منطقة الرياض</td>\n",
       "      <td>الرياض</td>\n",
       "      <td>اشبيليا</td>\n",
       "      <td>2023-01-01</td>\n",
       "      <td>سكني</td>\n",
       "      <td>قطعة أرض</td>\n",
       "      <td>1</td>\n",
       "      <td>136117.0</td>\n",
       "      <td>450.00</td>\n",
       "      <td>302.4822</td>\n",
       "      <td>2023-01-01</td>\n",
       "    </tr>\n",
       "    <tr>\n",
       "      <th>58</th>\n",
       "      <td>18923510</td>\n",
       "      <td>منطقة الرياض</td>\n",
       "      <td>الرياض</td>\n",
       "      <td>اشبيليا</td>\n",
       "      <td>2023-01-01</td>\n",
       "      <td>سكني</td>\n",
       "      <td>شقة</td>\n",
       "      <td>1</td>\n",
       "      <td>350000.0</td>\n",
       "      <td>166.67</td>\n",
       "      <td>2099.9580</td>\n",
       "      <td>2023-01-01</td>\n",
       "    </tr>\n",
       "    <tr>\n",
       "      <th>59</th>\n",
       "      <td>18921934</td>\n",
       "      <td>منطقة الرياض</td>\n",
       "      <td>الرياض</td>\n",
       "      <td>البيان</td>\n",
       "      <td>2023-01-01</td>\n",
       "      <td>سكني</td>\n",
       "      <td>قطعة أرض</td>\n",
       "      <td>1</td>\n",
       "      <td>922500.0</td>\n",
       "      <td>450.00</td>\n",
       "      <td>2050.0000</td>\n",
       "      <td>2023-01-01</td>\n",
       "    </tr>\n",
       "    <tr>\n",
       "      <th>60</th>\n",
       "      <td>18907617</td>\n",
       "      <td>منطقة الرياض</td>\n",
       "      <td>الرياض</td>\n",
       "      <td>الحمراء</td>\n",
       "      <td>2023-01-01</td>\n",
       "      <td>سكني</td>\n",
       "      <td>قطعة أرض</td>\n",
       "      <td>1</td>\n",
       "      <td>1428600.0</td>\n",
       "      <td>450.00</td>\n",
       "      <td>3174.6666</td>\n",
       "      <td>2023-01-01</td>\n",
       "    </tr>\n",
       "    <tr>\n",
       "      <th>...</th>\n",
       "      <td>...</td>\n",
       "      <td>...</td>\n",
       "      <td>...</td>\n",
       "      <td>...</td>\n",
       "      <td>...</td>\n",
       "      <td>...</td>\n",
       "      <td>...</td>\n",
       "      <td>...</td>\n",
       "      <td>...</td>\n",
       "      <td>...</td>\n",
       "      <td>...</td>\n",
       "      <td>...</td>\n",
       "    </tr>\n",
       "    <tr>\n",
       "      <th>142283</th>\n",
       "      <td>16732007</td>\n",
       "      <td>منطقة الرياض</td>\n",
       "      <td>الرياض</td>\n",
       "      <td>لبن</td>\n",
       "      <td>2022-04-14</td>\n",
       "      <td>سكني</td>\n",
       "      <td>شقة</td>\n",
       "      <td>1</td>\n",
       "      <td>475000.0</td>\n",
       "      <td>140.62</td>\n",
       "      <td>3377.8978</td>\n",
       "      <td>2022-04-01</td>\n",
       "    </tr>\n",
       "    <tr>\n",
       "      <th>142285</th>\n",
       "      <td>16726892</td>\n",
       "      <td>منطقة الرياض</td>\n",
       "      <td>الرياض</td>\n",
       "      <td>نمار</td>\n",
       "      <td>2022-04-14</td>\n",
       "      <td>سكني</td>\n",
       "      <td>قطعة أرض</td>\n",
       "      <td>1</td>\n",
       "      <td>450000.0</td>\n",
       "      <td>450.00</td>\n",
       "      <td>1000.0000</td>\n",
       "      <td>2022-04-01</td>\n",
       "    </tr>\n",
       "    <tr>\n",
       "      <th>142286</th>\n",
       "      <td>16727995</td>\n",
       "      <td>منطقة الرياض</td>\n",
       "      <td>الرياض</td>\n",
       "      <td>نمار</td>\n",
       "      <td>2022-04-14</td>\n",
       "      <td>سكني</td>\n",
       "      <td>قطعة أرض</td>\n",
       "      <td>1</td>\n",
       "      <td>490000.0</td>\n",
       "      <td>468.00</td>\n",
       "      <td>1047.0085</td>\n",
       "      <td>2022-04-01</td>\n",
       "    </tr>\n",
       "    <tr>\n",
       "      <th>142287</th>\n",
       "      <td>16726578</td>\n",
       "      <td>منطقة الرياض</td>\n",
       "      <td>الرياض</td>\n",
       "      <td>نمار</td>\n",
       "      <td>2022-04-14</td>\n",
       "      <td>سكني</td>\n",
       "      <td>قطعة أرض</td>\n",
       "      <td>1</td>\n",
       "      <td>260000.0</td>\n",
       "      <td>230.55</td>\n",
       "      <td>1127.7380</td>\n",
       "      <td>2022-04-01</td>\n",
       "    </tr>\n",
       "    <tr>\n",
       "      <th>142288</th>\n",
       "      <td>16732122</td>\n",
       "      <td>منطقة الرياض</td>\n",
       "      <td>الرياض</td>\n",
       "      <td>نمار</td>\n",
       "      <td>2022-04-14</td>\n",
       "      <td>سكني</td>\n",
       "      <td>قطعة أرض</td>\n",
       "      <td>1</td>\n",
       "      <td>1000000.0</td>\n",
       "      <td>900.00</td>\n",
       "      <td>1111.1111</td>\n",
       "      <td>2022-04-01</td>\n",
       "    </tr>\n",
       "  </tbody>\n",
       "</table>\n",
       "<p>25688 rows × 12 columns</p>\n",
       "</div>"
      ],
      "text/plain": [
       "        Reference_Number        Region    City City/Neighborhood       Date  \\\n",
       "56              18916574  منطقة الرياض  الرياض           اشبيليا 2023-01-01   \n",
       "57              18917832  منطقة الرياض  الرياض           اشبيليا 2023-01-01   \n",
       "58              18923510  منطقة الرياض  الرياض           اشبيليا 2023-01-01   \n",
       "59              18921934  منطقة الرياض  الرياض            البيان 2023-01-01   \n",
       "60              18907617  منطقة الرياض  الرياض           الحمراء 2023-01-01   \n",
       "...                  ...           ...     ...               ...        ...   \n",
       "142283          16732007  منطقة الرياض  الرياض               لبن 2022-04-14   \n",
       "142285          16726892  منطقة الرياض  الرياض              نمار 2022-04-14   \n",
       "142286          16727995  منطقة الرياض  الرياض              نمار 2022-04-14   \n",
       "142287          16726578  منطقة الرياض  الرياض              نمار 2022-04-14   \n",
       "142288          16732122  منطقة الرياض  الرياض              نمار 2022-04-14   \n",
       "\n",
       "       Property_classification Property_type  Number_of_properties      Price  \\\n",
       "56                        سكني      قطعة أرض                     1  1150000.0   \n",
       "57                        سكني      قطعة أرض                     1   136117.0   \n",
       "58                        سكني           شقة                     1   350000.0   \n",
       "59                        سكني      قطعة أرض                     1   922500.0   \n",
       "60                        سكني      قطعة أرض                     1  1428600.0   \n",
       "...                        ...           ...                   ...        ...   \n",
       "142283                    سكني           شقة                     1   475000.0   \n",
       "142285                    سكني      قطعة أرض                     1   450000.0   \n",
       "142286                    سكني      قطعة أرض                     1   490000.0   \n",
       "142287                    سكني      قطعة أرض                     1   260000.0   \n",
       "142288                    سكني      قطعة أرض                     1  1000000.0   \n",
       "\n",
       "         Space  Price_per_square-meter month_year  \n",
       "56      450.00               2555.5555 2023-01-01  \n",
       "57      450.00                302.4822 2023-01-01  \n",
       "58      166.67               2099.9580 2023-01-01  \n",
       "59      450.00               2050.0000 2023-01-01  \n",
       "60      450.00               3174.6666 2023-01-01  \n",
       "...        ...                     ...        ...  \n",
       "142283  140.62               3377.8978 2022-04-01  \n",
       "142285  450.00               1000.0000 2022-04-01  \n",
       "142286  468.00               1047.0085 2022-04-01  \n",
       "142287  230.55               1127.7380 2022-04-01  \n",
       "142288  900.00               1111.1111 2022-04-01  \n",
       "\n",
       "[25688 rows x 12 columns]"
      ]
     },
     "execution_count": 151,
     "metadata": {},
     "output_type": "execute_result"
    }
   ],
   "source": [
    "riyadh_data"
   ]
  },
  {
   "cell_type": "code",
   "execution_count": 159,
   "id": "8c5a8567-bd61-442a-9802-b2db5ec0114f",
   "metadata": {},
   "outputs": [
    {
     "name": "stderr",
     "output_type": "stream",
     "text": [
      "C:\\Users\\Rahaf\\AppData\\Local\\Temp\\ipykernel_18852\\3864456721.py:6: UserWarning:\n",
      "\n",
      "FixedFormatter should only be used together with FixedLocator\n",
      "\n"
     ]
    },
    {
     "data": {
      "text/plain": [
       "Text(0, 0.5, 'Average Price')"
      ]
     },
     "execution_count": 173,
     "metadata": {},
     "output_type": "execute_result"
    },
    {
     "data": {
      "image/png": "[encoded data removed]",
      "text/plain": [
       "<Figure size 640x480 with 1 Axes>"
      ]
     },
     "metadata": {},
     "output_type": "display_data"
    }
   ],
   "source": [
    "df_avg = riyadh_data.groupby(riyadh_data[\"month_year\"].dt.monthzz_name(), as_index=True)['Price'].mean()\n",
    "df_avg\n",
    "fig = sns.lineplot(x = df_avg.index, y = df_avg , palette='pastel' )\n",
    "# fig.set_title(\"Average price in Riyadh neighborhoods over Monthes \")\n",
    "fig.set_xlabel(\"Months\")\n",
    "fig.set_ylabel(\"Average Price\")"
   ]
  }
 ],
 "metadata": {
  "colab": {
   "collapsed_sections": [
    "PFx9hVz_nbaw"
   ],
   "provenance": []
  },
  "kernelspec": {
   "display_name": "Python 3 (ipykernel)",
   "language": "python",
   "name": "python3"
  },
  "language_info": {
   "codemirror_mode": {
    "name": "ipython",
    "version": 3
   },
   "file_extension": ".py",
   "mimetype": "text/x-python",
   "name": "python",
   "nbconvert_exporter": "python",
   "pygments_lexer": "ipython3",
   "version": "3.9.13"
  }
 },
 "nbformat": 4,
 "nbformat_minor": 5
}
